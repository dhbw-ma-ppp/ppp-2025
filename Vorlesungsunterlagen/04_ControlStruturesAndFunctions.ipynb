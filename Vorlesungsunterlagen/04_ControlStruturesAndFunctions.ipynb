{
 "cells": [
  {
   "cell_type": "markdown",
   "id": "51320807-b12b-49f6-9249-d8066036b8b4",
   "metadata": {},
   "source": [
    "# Control Structures"
   ]
  },
  {
   "cell_type": "markdown",
   "id": "d4b319e3-8218-464a-b037-2d6bd39e89f0",
   "metadata": {},
   "source": [
    "> Compound statements contain (groups of) other statements; they affect or control the execution of those other statements in some way. In general, compound statements span multiple lines, although in simple incarnations a whole compound statement may be contained in one line.<br>\n",
    "> A compound statement consists of one or more ‘**clauses**.’ A clause consists of a header and a ‘**suite**.’ The clause headers of a particular compound statement are all at the same indentation level. Each clause header begins with a uniquely identifying keyword and ends with a colon. A suite is a group of statements controlled by a clause. A suite can be one or more semicolon-separated simple statements on the same line as the header, following the header’s colon, or it can be one or more indented statements on subsequent lines. Only the latter form of a suite can contain nested compound statements.\n",
    "(https://docs.python.org/3/reference/compound_stmts.html#grammar-token-python-grammar-suite)"
   ]
  },
  {
   "cell_type": "markdown",
   "id": "eff1d86a-84ef-4152-b869-4fb69d4ee15d",
   "metadata": {
    "jp-MarkdownHeadingCollapsed": true
   },
   "source": [
    "### Whitespace-delimited codeblocks\n",
    "- many languages delimit blocks of code (suites) by keywords (`begin...end`) or special symbols (`{...}`)\n",
    "- in python these are delimited by whitespace: a common indentation level is one suite\n",
    "- in multi-clause statements the clauses all have to be at the same (outer) indentation level\n",
    "- any indentation level works, but PEP-8 mandates 4 spaces, so use that.\n",
    "\n",
    "### Abstract Example:\n",
    "```\n",
    "first_clause:\n",
    "    suite-1\n",
    "    suite-1\n",
    "    suite-1\n",
    "second_clause:\n",
    "    suite-2\n",
    "    suite-2\n",
    "```\n"
   ]
  },
  {
   "cell_type": "markdown",
   "id": "a4e6978f-ce20-4b32-948a-0769d77a3b66",
   "metadata": {
    "jp-MarkdownHeadingCollapsed": true
   },
   "source": [
    "### if-statements\n",
    "- clauses are\n",
    "  - `if <conditional>:`\n",
    "  - `elif <conditional>:`\n",
    "  - `else:`\n",
    "- `<conditional>` is evaluated to a boolean\n",
    "- the suite belonging to an `if` or `elif`-clause only execute if `<conditional>` evaluates as `True`\n",
    "- only a single `else`-clause is allowed, and it must be the last clause\n",
    "- the suite belonging to `else` is executed if none of the other suites evaluates to True\n",
    "- exactly one suite is executed\n",
    "- bonus: `pass` for empty suites"
   ]
  },
  {
   "cell_type": "code",
   "execution_count": null,
   "id": "e52931a4-6775-402d-9e39-ffb544987b7c",
   "metadata": {},
   "outputs": [],
   "source": [
    "a = 5\n",
    "b = 7\n",
    "if a > b:\n",
    "    print(f'{a} is greater than {b}')\n",
    "elif a < b:\n",
    "    print(f'{a} is less than {b}')\n",
    "else:\n",
    "    print(f'{a} is neither greater nor less than {b}')"
   ]
  },
  {
   "cell_type": "code",
   "execution_count": null,
   "id": "7153c591-0f6d-40fe-b930-b0ccfce33edb",
   "metadata": {},
   "outputs": [],
   "source": [
    "if a:\n",
    "    print('foo')\n",
    "else:\n",
    "    print('bar')\n",
    "else:\n",
    "    print('bazz')"
   ]
  },
  {
   "cell_type": "code",
   "execution_count": null,
   "id": "e30a7452-9ed4-461d-ab93-85be203d0c92",
   "metadata": {},
   "outputs": [],
   "source": [
    "# but no 'semantic' checks on correctness / reachability\n",
    "a = 5\n",
    "b = 7\n",
    "if a > b:\n",
    "    print('foo')\n",
    "elif a < b:\n",
    "    print('bar')\n",
    "elif a < b - 1:\n",
    "    print('You\\'ll never reach this piece of code')\n",
    "elif True:\n",
    "    print('There is a way to reach this one')\n",
    "else:\n",
    "    print('But not this')"
   ]
  },
  {
   "cell_type": "code",
   "execution_count": null,
   "id": "9c808a77-c78c-4802-96f8-31fc24cdbb48",
   "metadata": {},
   "outputs": [],
   "source": [
    "# statements can be nested:\n",
    "a = 7\n",
    "b = 5\n",
    "c = 9\n",
    "if a > b:\n",
    "    if c > b:\n",
    "        print('c > b > a')\n",
    "    else:\n",
    "        print('c <= b < a')\n",
    "elif a < b:\n",
    "    print('a < b')\n",
    "else:\n",
    "    print('b == a')"
   ]
  },
  {
   "cell_type": "code",
   "execution_count": null,
   "id": "fac9f27b-13c6-40cb-afdc-2b86a1ea4f9b",
   "metadata": {},
   "outputs": [],
   "source": [
    "# obviously the logical expressions from last week can come in handy here\n",
    "a = 7\n",
    "b = 5\n",
    "c = 9\n",
    "if a > b and c > b:\n",
    "    print('c > b < a')\n",
    "elif a > b:\n",
    "    print('c <= b < a')\n",
    "elif a < b:\n",
    "    print('a < b')\n",
    "else:\n",
    "    print('b == a')"
   ]
  },
  {
   "cell_type": "code",
   "execution_count": null,
   "id": "82c02d17-79c0-473a-8bdb-b246a7e9cda8",
   "metadata": {},
   "outputs": [],
   "source": [
    "# but be careful of operator precedence (not discussed last week)\n",
    "x=5\n",
    "y=10\n",
    "z=15\n",
    "if x < y or y < z and z < x:\n",
    "    print('truthy')\n",
    "else:\n",
    "    print('falsy')\n",
    "\n",
    "if (x < y or y < z) and z < x:\n",
    "    print('truthy')\n",
    "else:\n",
    "    print('falsy')"
   ]
  },
  {
   "cell_type": "code",
   "execution_count": null,
   "id": "c3c91074-6e2b-4775-af0e-dd169c71012d",
   "metadata": {},
   "outputs": [],
   "source": [
    "# chained comparions of arbirary length\n",
    "# implicitly combined with `and`\n",
    "# but fewer evaluations of the 'middle' expressions \n",
    "a = 7\n",
    "b = 5\n",
    "c = 9\n",
    "if c > b < a:\n",
    "    print('c > b < a')"
   ]
  },
  {
   "cell_type": "code",
   "execution_count": null,
   "id": "b6d2898f-3880-4066-9662-355702d73844",
   "metadata": {},
   "outputs": [],
   "source": [
    "# single-line suite can be on the same line as the clause:\n",
    "a = 7\n",
    "b = 5\n",
    "if a > b: print('a is greater than b')\n",
    "elif a < b: print('a is less than b')\n",
    "else: print('they are equal')"
   ]
  },
  {
   "cell_type": "code",
   "execution_count": null,
   "id": "81dbfcfa-a5a5-4756-9148-c4db000258d5",
   "metadata": {},
   "outputs": [],
   "source": [
    "# and there's the equivalent of the ternary (x == y ? a : b)\n",
    "result = 'foo' if 7 > 5 else 'bar'\n",
    "print(result)"
   ]
  },
  {
   "cell_type": "code",
   "execution_count": null,
   "id": "5f5a1f2c-8396-4811-9870-7471838a439c",
   "metadata": {},
   "outputs": [],
   "source": [
    "# ternary result is also evaluated of course, so\n",
    "print('foo') if 7 > 5 else print('bar')"
   ]
  },
  {
   "cell_type": "code",
   "execution_count": null,
   "id": "c17aac12-49ef-4d0f-b2f6-1e522f201909",
   "metadata": {},
   "outputs": [],
   "source": [
    "# walrus operator (since python 3.8)\n",
    "# and operator precendence!\n",
    "lst = [1, 2, 3]\n",
    "if (n := len(lst)) < 5:\n",
    "    print(f'your list has only {n} elements, that is too short')"
   ]
  },
  {
   "cell_type": "markdown",
   "id": "e473807f-2b71-430b-905c-b9257af4a2ca",
   "metadata": {
    "jp-MarkdownHeadingCollapsed": true
   },
   "source": [
    "### while loops\n",
    "- clauses are\n",
    "  - `while <conditional>:`\n",
    "  - `else:`\n",
    "- the suite belonging to the `while`-clause is executed as lonclausesg as conditional evaluates to true\n",
    "- the suite belonging to the `else`-clause is executed if the execution of the while clause ended because the `conditional` became false\n",
    "- huh?\n",
    "- additional flow control: `break`/`continue`\n",
    "  - `break` will exit the loop\n",
    "  - `continue` will end /this iteration/ and continue with the next one"
   ]
  },
  {
   "cell_type": "code",
   "execution_count": null,
   "id": "9bab55a5-28b9-4718-8f2e-7731b2c5105a",
   "metadata": {},
   "outputs": [],
   "source": [
    "counter = 0\n",
    "while counter < 5:\n",
    "    print(counter)\n",
    "    counter += 1"
   ]
  },
  {
   "cell_type": "code",
   "execution_count": null,
   "id": "eb6ae924-c9a6-4556-8924-c18271235625",
   "metadata": {},
   "outputs": [],
   "source": [
    "counter = 0\n",
    "while counter < 5:\n",
    "    print(counter)\n",
    "    counter += 1\n",
    "else:\n",
    "    print('else clause executed')"
   ]
  },
  {
   "cell_type": "code",
   "execution_count": null,
   "id": "a17b3a03-1a9c-47a9-ae9a-23dce4043139",
   "metadata": {},
   "outputs": [],
   "source": [
    "counter = 0\n",
    "while counter < 5:\n",
    "    print(counter)\n",
    "    counter += 1\n",
    "    if counter == 5:\n",
    "        break\n",
    "else:\n",
    "    print('else clause executed')"
   ]
  },
  {
   "cell_type": "code",
   "execution_count": null,
   "id": "a7a0cae8-7016-4a99-a4a2-b38b3da68f9c",
   "metadata": {},
   "outputs": [],
   "source": [
    "counter = 0\n",
    "while counter < 5:\n",
    "    counter += 1\n",
    "    if counter == 3:\n",
    "        print('move along, nothing to see here')\n",
    "        continue\n",
    "    print(counter)"
   ]
  },
  {
   "cell_type": "code",
   "execution_count": null,
   "id": "0b605e9f-ff30-4436-9231-94f2da93afd1",
   "metadata": {},
   "outputs": [],
   "source": [
    "# watch out for infinite loops\n",
    "counter = 0\n",
    "while counter < 5:\n",
    "    pass"
   ]
  },
  {
   "cell_type": "markdown",
   "id": "a92b44ee-f99d-432b-95ed-a350710c0cc1",
   "metadata": {
    "jp-MarkdownHeadingCollapsed": true
   },
   "source": [
    "### for loops\n",
    "- clauses are\n",
    "  - `for <target> in <iterable>`\n",
    "  - `else:`\n",
    "- all sequences are `iterable`s (but iterables are much richer than that)\n",
    "- the suite belonging to the `for`-clause is executed once for each element of the iterable\n",
    "- the suite belonging to the `else`-clause is executed if the `iterator` created from the `iterable` is exhausted...\n",
    "- practically: if the for loop is not ended by a `break` statement"
   ]
  },
  {
   "cell_type": "code",
   "execution_count": null,
   "id": "c52d4bb4-767d-46cb-8d86-02ce15595a88",
   "metadata": {},
   "outputs": [],
   "source": [
    "for letter in 'Hello World':\n",
    "    print(letter)"
   ]
  },
  {
   "cell_type": "code",
   "execution_count": null,
   "id": "ad792371-faab-4ab7-bc6a-ea8fe4140e11",
   "metadata": {},
   "outputs": [],
   "source": [
    "for number in [1, 3, 5, 7]:\n",
    "    print(number, 2*number)"
   ]
  },
  {
   "cell_type": "code",
   "execution_count": null,
   "id": "a1b80dde-5618-408d-8886-fedaa56d51d3",
   "metadata": {},
   "outputs": [],
   "source": [
    "# what about the equivalent of a simple `for (i = 0; i < n; ++i)`?\n",
    "# same system as slicing: start, stop, step, start is inclusive, stop is exclusive\n",
    "for number in range(3):\n",
    "    print(number)"
   ]
  },
  {
   "cell_type": "code",
   "execution_count": null,
   "id": "18631eda-35d7-4886-af63-95e176bb6745",
   "metadata": {},
   "outputs": [],
   "source": [
    "# enumerate if you want both an index and the value:\n",
    "for pair in enumerate([1, 3, 5, 7]):\n",
    "    index = pair[0]\n",
    "    value = pair[1]\n",
    "    print(f'The value at {index} is {value}')"
   ]
  },
  {
   "cell_type": "code",
   "execution_count": null,
   "id": "abc8f04f-21bd-4e7c-a1b5-483a74ef3f24",
   "metadata": {},
   "outputs": [],
   "source": [
    "for index, value in enumerate([1, 3, 5, 7]):\n",
    "    print(f'The value at {index} is {value}')"
   ]
  },
  {
   "cell_type": "code",
   "execution_count": null,
   "id": "d61842f0-0a61-4031-8e4f-cdecad4af827",
   "metadata": {},
   "outputs": [],
   "source": [
    "demo_dict = {'k1': 'v1', 'k2': 'v2'}\n",
    "for key in demo_dict:  # equivalent to demo_dict.keys()\n",
    "    print(key, demo_dict[key])"
   ]
  },
  {
   "cell_type": "code",
   "execution_count": null,
   "id": "bfdf0d67-b738-4942-a71a-10e96397e8c1",
   "metadata": {},
   "outputs": [],
   "source": [
    "for key, value in demo_dict.items():\n",
    "    print(key, value)"
   ]
  },
  {
   "cell_type": "code",
   "execution_count": null,
   "id": "b198d0ba-c819-4fa5-95d9-38cd4696b8b3",
   "metadata": {},
   "outputs": [],
   "source": [
    "for value in demo_dict.values():\n",
    "    print(value)  # but I don't know the key"
   ]
  },
  {
   "cell_type": "code",
   "execution_count": null,
   "id": "8ac6f62a-8495-4b1a-a365-8bca7fd7dcd5",
   "metadata": {},
   "outputs": [],
   "source": [
    "# better not modify your iterable in the loop\n",
    "lst = [1, 2]\n",
    "for item in lst:\n",
    "    lst.append(2*item)"
   ]
  },
  {
   "cell_type": "code",
   "execution_count": null,
   "id": "bd688b24-ea65-4819-a8b9-50face925c67",
   "metadata": {},
   "outputs": [],
   "source": [
    "lst[:20]"
   ]
  },
  {
   "cell_type": "code",
   "execution_count": null,
   "id": "b1d0ffde-d3d6-485e-a10c-b0d78c6fbbd7",
   "metadata": {},
   "outputs": [],
   "source": [
    "# else works similar to while loops:\n",
    "for _ in range(5):\n",
    "    pass\n",
    "else:\n",
    "    print('else executed')"
   ]
  },
  {
   "cell_type": "code",
   "execution_count": null,
   "id": "5bd048ac-4273-43ea-ab75-824777b05ef4",
   "metadata": {},
   "outputs": [],
   "source": [
    "for _ in range(5):\n",
    "    break\n",
    "else:\n",
    "    print('else executed')"
   ]
  },
  {
   "cell_type": "markdown",
   "id": "fdab4751-dab1-4e38-bfc2-ce04be2ba61f",
   "metadata": {
    "jp-MarkdownHeadingCollapsed": true
   },
   "source": [
    "### list/dict/set comprehensions\n",
    "> Comprehensions provide a concise way to create lists, dicts or sets. Common applications are to make new lists where each element is the result of some operations applied to each member of another sequence or iterable, or to create a subsequence of those elements that satisfy a certain condition."
   ]
  },
  {
   "cell_type": "markdown",
   "id": "6760d423-e94e-40db-bba6-f992f5f95ef1",
   "metadata": {},
   "source": [
    "#### List Comprehensions"
   ]
  },
  {
   "cell_type": "code",
   "execution_count": null,
   "id": "ec0194d4-e191-4a75-8b67-7105a49be160",
   "metadata": {},
   "outputs": [],
   "source": [
    "# list multiplication is repeated appending\n",
    "lst = [1, 2, 3, 4, 5]\n",
    "lst*2"
   ]
  },
  {
   "cell_type": "code",
   "execution_count": null,
   "id": "da164822-25ce-42fb-b8b0-e5cc5c8c2668",
   "metadata": {},
   "outputs": [],
   "source": [
    "# list multiplication with floats is not possible\n",
    "lst = [1, 2, 3, 4, 5]\n",
    "lst*2.5"
   ]
  },
  {
   "cell_type": "code",
   "execution_count": null,
   "id": "933debfd-f35b-4c25-8a66-c706a49e608f",
   "metadata": {},
   "outputs": [],
   "source": [
    "# what about element-wise multiplication?\n",
    "lst = [1, 2, 3, 4, 5]\n",
    "[2.5*x for x in lst]"
   ]
  },
  {
   "cell_type": "code",
   "execution_count": null,
   "id": "883187e4-511a-4309-af62-26f7b1a7e9a2",
   "metadata": {},
   "outputs": [],
   "source": [
    "# you can add filters\n",
    "lst = [1, 2, 3, 4, 5]\n",
    "[x for x in lst if x < 3]"
   ]
  },
  {
   "cell_type": "code",
   "execution_count": null,
   "id": "ab3ead42-d1e1-4091-bb81-8ad3faf0fe81",
   "metadata": {},
   "outputs": [],
   "source": [
    "# and combine both\n",
    "lst = [1, 2, 3, 4, 5]\n",
    "[2.5*x for x in lst if x < 3]"
   ]
  },
  {
   "cell_type": "code",
   "execution_count": null,
   "id": "b596e1a2-b87e-4f7e-982d-229d635c147e",
   "metadata": {},
   "outputs": [],
   "source": [
    "# multiple for loops\n",
    "[(x, y) for x in range(3) for y in range(5) if x < y]"
   ]
  },
  {
   "cell_type": "code",
   "execution_count": null,
   "id": "1365d95c-0a2a-406b-b7dd-49185161710a",
   "metadata": {},
   "outputs": [],
   "source": [
    "# nested list comprehensions\n",
    "double_list = [\n",
    "    [1, 2, 3],\n",
    "    [4, 5, 6],\n",
    "    [7, 8, 9]\n",
    "]\n",
    "\n",
    "[row[0] for row in double_list]"
   ]
  },
  {
   "cell_type": "code",
   "execution_count": null,
   "id": "6bf3df15-ebb3-4411-b570-d2157ab3e18f",
   "metadata": {},
   "outputs": [],
   "source": [
    "# transpose\n",
    "[[row[i] for row in double_list] for i in range(3)]"
   ]
  },
  {
   "cell_type": "markdown",
   "id": "d4d46a43-72f8-42bd-88e8-c624a94539d3",
   "metadata": {},
   "source": [
    "#### Dict Comprehensions"
   ]
  },
  {
   "cell_type": "code",
   "execution_count": null,
   "id": "5eab3ddb-48b5-41b5-b10f-8566dffb8456",
   "metadata": {},
   "outputs": [],
   "source": [
    "d = {'a': 1, 'b': 2, 'c': 3}\n",
    "{k: 2*v for k, v in d.items()}"
   ]
  },
  {
   "cell_type": "code",
   "execution_count": null,
   "id": "1cfa9cf5-8257-4388-bf8d-ec21e23e0113",
   "metadata": {},
   "outputs": [],
   "source": [
    "d = {'a': 1, 'b': 2, 'c': 3}\n",
    "{v: k for k, v in d.items()}"
   ]
  },
  {
   "cell_type": "code",
   "execution_count": null,
   "id": "785cdcc0-4225-424e-90c0-aa19ccb2cc3c",
   "metadata": {},
   "outputs": [],
   "source": [
    "d = {'a': 1, 'b': 2, 'c': 1}\n",
    "{v: k for k, v in d.items()}"
   ]
  },
  {
   "cell_type": "code",
   "execution_count": null,
   "id": "71576229-6a92-4170-be20-9b4723d44a05",
   "metadata": {},
   "outputs": [],
   "source": [
    "d = {'a': 1, 'b': 2, 'c': 3}\n",
    "{k: v for k, v in d.items() if k > 'a' and v < 3}"
   ]
  },
  {
   "cell_type": "code",
   "execution_count": null,
   "id": "a1666f0a-731e-4546-bc4e-9e86841a2612",
   "metadata": {},
   "outputs": [],
   "source": [
    "d = {'a': 1, 'b': 2, 'c': 3}\n",
    "{k: v for k, v in d.items() if k > 'a' or v < 3}"
   ]
  },
  {
   "cell_type": "code",
   "execution_count": null,
   "id": "b89622f2-2534-4e2c-a03e-b18c3bde1e7c",
   "metadata": {},
   "outputs": [],
   "source": [
    "{k: k**2 for k in range(10) if k % 2 == 0}"
   ]
  },
  {
   "cell_type": "markdown",
   "id": "c010219b-18d3-42fb-9e57-21e2484266fa",
   "metadata": {},
   "source": [
    "#### set comprehensions"
   ]
  },
  {
   "cell_type": "code",
   "execution_count": null,
   "id": "f3dc9549-04cc-49dd-833d-cdd15f7fcaf5",
   "metadata": {},
   "outputs": [],
   "source": [
    "s = {1, 2, 3}\n",
    "{2*v for v in s}"
   ]
  },
  {
   "cell_type": "code",
   "execution_count": null,
   "id": "812332f4-e9b7-48e7-9570-de243348be8a",
   "metadata": {},
   "outputs": [],
   "source": [
    "{i // 5 for i in range(15)}"
   ]
  },
  {
   "cell_type": "markdown",
   "id": "ecb8cd44-0de6-4807-916f-3f65833a2bf1",
   "metadata": {
    "jp-MarkdownHeadingCollapsed": true
   },
   "source": [
    "### pattern matching"
   ]
  },
  {
   "cell_type": "code",
   "execution_count": null,
   "id": "d8cda283-8838-4b4a-8ae5-cea5c5de92a6",
   "metadata": {},
   "outputs": [],
   "source": [
    "# simple cases\n",
    "value = 3\n",
    "match value:\n",
    "    case 1:\n",
    "        print('the value is 1')\n",
    "    case 2:\n",
    "        print('the value is 2')\n",
    "    case 3:\n",
    "        print('the value is 3')\n",
    "    case _:\n",
    "        print('can\\'t help you there')"
   ]
  },
  {
   "cell_type": "code",
   "execution_count": null,
   "id": "be544e0a-3637-4c00-b888-adcbb2a82d53",
   "metadata": {},
   "outputs": [],
   "source": [
    "text = 'hello'\n",
    "match text:\n",
    "    case 'hello':\n",
    "        print('Hello Yourself')\n",
    "    case 'bye':\n",
    "        print('Have a good day')\n",
    "    case _:\n",
    "        print('whut?')"
   ]
  },
  {
   "cell_type": "code",
   "execution_count": null,
   "id": "04618df6-68a3-4480-8107-7e69214baeaa",
   "metadata": {},
   "outputs": [],
   "source": [
    "# matching beyond just switch/case\n",
    "\n",
    "objects_in_room = {'bits', 'bytes'}\n",
    "inventory = set()\n",
    "\n",
    "while True:\n",
    "    command = input('What would you like to do?')\n",
    "    match command.split():\n",
    "        case [('q' | 'quit')]:\n",
    "            break\n",
    "        case ['look']:\n",
    "            print(f'You look around -- all you can see are {\" and \".join(objects_in_room)}')\n",
    "        case ['go', direction]:\n",
    "            print(f'You try to go {direction}, but the bytes are too dense and there is no path')\n",
    "        case ['pick', ('bits' | 'bytes') as object]:\n",
    "            inventory.add(object)\n",
    "            objects_in_room.remove(object)\n",
    "        case ['inventory'] if len(inventory) > 0:\n",
    "            print(f'You have {\" and \".join(inventory)} in your inventory')\n",
    "        case ['inventory']:\n",
    "            print('Your inventory is empty')\n",
    "        case [*words] if len(words) > 4:\n",
    "            print('whoa, you know sooo many words!')\n",
    "        case _:\n",
    "            print('sorry, dunno whatcha talkin about')\n",
    "\n",
    "            \n",
    "        "
   ]
  },
  {
   "cell_type": "code",
   "execution_count": null,
   "id": "735c9531-675e-4354-9c6c-d47c5c218773",
   "metadata": {},
   "outputs": [],
   "source": [
    "# you can use mappings instead of sequences\n",
    "# and you can mix and match, too\n",
    "\n",
    "map = {'k1': 'hello', 'k2': (1, 2, 3)}\n",
    "lst = [1, 2, 3]\n",
    "\n",
    "to_parse = map\n",
    "\n",
    "match to_parse:\n",
    "    case dict():\n",
    "        print('looks like a mapping')\n",
    "    case list():\n",
    "        print('looks like a list')\n",
    "    case _:\n",
    "        print('dont know what that is')\n",
    "        "
   ]
  },
  {
   "cell_type": "code",
   "execution_count": null,
   "id": "4aa60955-a077-4e2b-b302-d71ec4441ec6",
   "metadata": {},
   "outputs": [],
   "source": [
    "to_parse = map\n",
    "match to_parse:\n",
    "    case {'k1': _, 'k2': _}:\n",
    "        print('we have \"k1\" and \"k2\"')\n",
    "    case {'k1': 'hello'}:\n",
    "        print('we have \"k1\" and it says \"hello\"')"
   ]
  },
  {
   "cell_type": "code",
   "execution_count": null,
   "id": "bed9c58d-ffc1-4215-8eb7-58f154246705",
   "metadata": {},
   "outputs": [],
   "source": [
    "# and you can do type-checks\n",
    "lst = [1, 2, 3]\n",
    "match lst:\n",
    "    case [str(first_element), *rest]:\n",
    "        print('the first element is a string')\n",
    "    case [float(first_element), *rest]:\n",
    "        print('the first element is a float')\n",
    "    case [int(first_element), *rest]:\n",
    "        print('the first element is an int')\n",
    "    case _:\n",
    "        print('the first element is something else')"
   ]
  },
  {
   "cell_type": "markdown",
   "id": "b9dd47d7-5710-48a5-b0a8-29431be2455a",
   "metadata": {
    "jp-MarkdownHeadingCollapsed": true
   },
   "source": [
    "### exception handling\n",
    "- clauses are\n",
    "  - `try:`\n",
    "  - `except <ExceptionClass> [as <instance>]:`\n",
    "  - `else:`\n",
    "  - `finally:`\n",
    "- Executes all statements in the suite under `try`\n",
    "- If an exception occurs while executing these statements, matching the exception specified in an `except`-clause the code in the suite belonging to that clause is executed\n",
    "- If no exceptions occured during execution the code in `else` is executed\n",
    "- Regardless of whether any error occured during execution the code in the `finally`-branch is always executed"
   ]
  },
  {
   "cell_type": "code",
   "execution_count": null,
   "id": "8ffeb363-64b3-4d34-9600-e7716cb5d499",
   "metadata": {},
   "outputs": [],
   "source": [
    "1/0"
   ]
  },
  {
   "cell_type": "code",
   "execution_count": null,
   "id": "e941fbdd-d032-4960-aafa-c6637c9db3c3",
   "metadata": {},
   "outputs": [],
   "source": [
    "try:\n",
    "    1/0\n",
    "except ZeroDivisionError:\n",
    "    print('there was a zero-division error')\n",
    "print('but that didn\\'t halt execution')"
   ]
  },
  {
   "cell_type": "code",
   "execution_count": null,
   "id": "ddc64ad5-50cd-4a1f-b0b3-776578f359bb",
   "metadata": {},
   "outputs": [],
   "source": [
    "try:\n",
    "    1 / 0  # execution stops as soon as an exception occurs\n",
    "    print('hey there')  # so this never executes\n",
    "except ZeroDivisionError:\n",
    "    print('zero division occured')"
   ]
  },
  {
   "cell_type": "code",
   "execution_count": null,
   "id": "360009be-8c08-4514-99f4-1cca4d98b45a",
   "metadata": {},
   "outputs": [],
   "source": [
    "# can't catch syntax errors\n",
    "try:\n",
    "    2 3\n",
    "except SyntaxError:\n",
    "    print('A syntax error occured')"
   ]
  },
  {
   "cell_type": "code",
   "execution_count": null,
   "id": "7120a28f-1219-4feb-a5c7-a1f8e50b1dd6",
   "metadata": {},
   "outputs": [],
   "source": [
    "# finally-clause is always executed\n",
    "try:\n",
    "    1 / 0\n",
    "finally:\n",
    "    print('this will always be executed')"
   ]
  },
  {
   "cell_type": "code",
   "execution_count": null,
   "id": "554578d4-a5b5-428f-989a-c23c79bbd8bd",
   "metadata": {},
   "outputs": [],
   "source": [
    "# finally-clause is always executed\n",
    "try:\n",
    "    1 / 0\n",
    "except ZeroDivisionError:\n",
    "    print('there was a zero-division error')\n",
    "finally:\n",
    "    print('this will always be executed')"
   ]
  },
  {
   "cell_type": "code",
   "execution_count": null,
   "id": "6b84157e-74e1-4ae9-aab5-e4dc7438bc2c",
   "metadata": {},
   "outputs": [],
   "source": [
    "try:\n",
    "    pass\n",
    "finally:\n",
    "    print('this will always be executed')"
   ]
  },
  {
   "cell_type": "code",
   "execution_count": null,
   "id": "af972667-a946-4ec3-b850-a7575ab832cc",
   "metadata": {},
   "outputs": [],
   "source": [
    "# can catch multiple errors\n",
    "try:\n",
    "    raise RuntimeError\n",
    "    raise ZeroDivisionError\n",
    "except RuntimeError:\n",
    "    print('Runtime Error!')\n",
    "except ZeroDivisionError:\n",
    "    print('ZeroDivisionError!')"
   ]
  },
  {
   "cell_type": "code",
   "execution_count": null,
   "id": "cf55700f-0f9d-4c3c-aae4-0f9992a20209",
   "metadata": {},
   "outputs": [],
   "source": [
    "# can catch multiple errors\n",
    "try:\n",
    "    raise RuntimeError\n",
    "    raise ZeroDivisionError\n",
    "except (RuntimeError, ZeroDivisionError):\n",
    "    print('some error occured')"
   ]
  },
  {
   "cell_type": "code",
   "execution_count": null,
   "id": "66d82bf8-0dac-4ce8-9d5f-770a99400d27",
   "metadata": {},
   "outputs": [],
   "source": [
    "# get details of the raised error\n",
    "try:\n",
    "    1/0\n",
    "    # raise RuntimeError('something went wrong')\n",
    "except (ZeroDivisionError, RuntimeError) as exception:\n",
    "    print(type(exception))\n",
    "    print(exception)"
   ]
  },
  {
   "cell_type": "code",
   "execution_count": null,
   "id": "aaf65986-8556-40e1-9799-9a11c8c03bda",
   "metadata": {},
   "outputs": [],
   "source": [
    "try:\n",
    "    a = 5\n",
    "except ZeroDivisionError as exception:\n",
    "    print(f'ZeroDivisionError occured: \"{exception}\"')\n",
    "else:\n",
    "    print('no error occured')\n",
    "finally:\n",
    "    print('always executed')"
   ]
  },
  {
   "cell_type": "code",
   "execution_count": null,
   "id": "0c4239fb-c341-40b6-8984-b93328b0e9ee",
   "metadata": {},
   "outputs": [],
   "source": [
    "# catch everything (don't!)\n",
    "try:\n",
    "    1/0\n",
    "except:\n",
    "    print('zero divison occured')"
   ]
  },
  {
   "cell_type": "code",
   "execution_count": null,
   "id": "f18b095d-89d0-4fa7-9795-a8f88a586d9c",
   "metadata": {},
   "outputs": [],
   "source": [
    "# raise your own errors\n",
    "raise RuntimeError('Something unspecific went wrong')"
   ]
  },
  {
   "cell_type": "markdown",
   "id": "698c4434-4cd4-4772-8940-420a893a67f5",
   "metadata": {
    "jp-MarkdownHeadingCollapsed": true
   },
   "source": [
    "### context managers\n",
    "> Context Managers allow common try…except…finally usage patterns to be encapsulated for convenient reuse.\n",
    "- clauses are:\n",
    "  - `with` "
   ]
  },
  {
   "cell_type": "code",
   "execution_count": null,
   "id": "5d0a2b68-b75d-4d88-8fd8-060b8673d603",
   "metadata": {},
   "outputs": [],
   "source": [
    "# common example: reading files\n",
    "ifile = open('./04_Freitag.ipynb', 'r')\n",
    "result = ifile.read(10)  # what if an error occurs here!?\n",
    "ifile.close()\n",
    "result"
   ]
  },
  {
   "cell_type": "code",
   "execution_count": null,
   "id": "5f8c87a6-c41f-4da4-b132-c4c5c2a9f967",
   "metadata": {},
   "outputs": [],
   "source": [
    "try:\n",
    "    ifile = open('./04_Freitag.ipynb', 'r')\n",
    "    ifile.write('test')\n",
    "finally:\n",
    "    ifile.close()"
   ]
  },
  {
   "cell_type": "code",
   "execution_count": null,
   "id": "62bdfbfe-5762-4f4a-a063-c823402a5d36",
   "metadata": {},
   "outputs": [],
   "source": [
    "print(f'Has the file been closed? {ifile.closed}')"
   ]
  },
  {
   "cell_type": "code",
   "execution_count": null,
   "id": "162a352b-a3c8-4eed-aa44-a0c4ac905e9f",
   "metadata": {},
   "outputs": [],
   "source": [
    "with open('./04_Freitag.ipynb', 'r') as ifile:\n",
    "    ifile.write('test')\n",
    "    # the file pointer will always be closed at the end of the context manager, no matter what"
   ]
  },
  {
   "cell_type": "code",
   "execution_count": null,
   "id": "0a24572a-33bb-412f-89ab-ea7e0bd9ac9c",
   "metadata": {},
   "outputs": [],
   "source": [
    "print(f'Has the file been closed? {ifile.closed}')"
   ]
  },
  {
   "cell_type": "markdown",
   "id": "4c4723c8-aef1-4338-aae5-77b15fedaf22",
   "metadata": {},
   "source": [
    "Other examples for context managers:\n",
    "- locks in `threading`\n",
    "- network io, e.g. `aiohttp`\n",
    "- file operations, e.g. directory traversal with `pathlib`\n",
    "- high precision math with `decimal`\n",
    "- testing with `pytest`"
   ]
  },
  {
   "cell_type": "markdown",
   "id": "8bec560a-9fcb-4253-bd7e-e2dbcdfc45ff",
   "metadata": {},
   "source": [
    "# Functions\n",
    "> Reusable block of code that performs a specific task or a set of related tasks. <br>\n",
    "> Used to make your code more organized, modular, and easier to maintain.<br>\n",
    "> Functions help break down a program into smaller, manageable pieces, each responsible for a specific functionality.\n",
    "\n",
    "- header defined using the `def` keyword, and ending with a `:` -- like the control structures above\n",
    "- function body using indentation, again as above\n",
    "- return values using `return`. If no explicit `return` is used, `None` is returned implicitly\n",
    "- variables declared in the body are only visible in the body, 'scoping'\n",
    "- but variables declared in an outer scope also visible in the function body"
   ]
  },
  {
   "cell_type": "code",
   "execution_count": null,
   "id": "117ef7bc-4cea-4ffd-a2d7-9853c7ec8693",
   "metadata": {},
   "outputs": [],
   "source": [
    "# we've seen examples already, of course:\n",
    "print('Hello')"
   ]
  },
  {
   "cell_type": "markdown",
   "id": "690636b1-c5d4-4e99-863e-3cd8cb9b1ea3",
   "metadata": {
    "jp-MarkdownHeadingCollapsed": true
   },
   "source": [
    "### Function declarations"
   ]
  },
  {
   "cell_type": "markdown",
   "id": "2463d2aa-4dec-4e9a-b900-2d569b642bf3",
   "metadata": {
    "jp-MarkdownHeadingCollapsed": true
   },
   "source": [
    "#### simple functions"
   ]
  },
  {
   "cell_type": "code",
   "execution_count": null,
   "id": "704af35c-8bd1-4e57-93e8-8490bdb07fd9",
   "metadata": {},
   "outputs": [],
   "source": [
    "# defining a function\n",
    "def demo_function():\n",
    "    print('hello')"
   ]
  },
  {
   "cell_type": "code",
   "execution_count": null,
   "id": "31a89ef5-5e3c-4b27-afed-8633c7410972",
   "metadata": {},
   "outputs": [],
   "source": [
    "# calling the function\n",
    "demo_function()"
   ]
  },
  {
   "cell_type": "code",
   "execution_count": null,
   "id": "c77bf303-f512-4b37-9948-8cca4a39b6a4",
   "metadata": {},
   "outputs": [],
   "source": [
    "# function arguments\n",
    "def print_with_hello(text):\n",
    "    print(f'Hello, the text is: \"{text}\"')"
   ]
  },
  {
   "cell_type": "code",
   "execution_count": null,
   "id": "e0f394dd-189b-41f5-8a12-1e232baf2911",
   "metadata": {},
   "outputs": [],
   "source": [
    "print_with_hello('Yo!')"
   ]
  },
  {
   "cell_type": "code",
   "execution_count": null,
   "id": "2a3a0214-9a27-4b86-9323-721207c8538c",
   "metadata": {},
   "outputs": [],
   "source": [
    "# argument has to be provided\n",
    "print_with_hello()"
   ]
  },
  {
   "cell_type": "code",
   "execution_count": null,
   "id": "c1597392-0e7e-4b1f-af1c-617983ca5b09",
   "metadata": {},
   "outputs": [],
   "source": [
    "# functions with multiple arguments and return\n",
    "def sum_of_three(v1, v2, v3):\n",
    "    return v1 + v2 + v3"
   ]
  },
  {
   "cell_type": "code",
   "execution_count": null,
   "id": "a708dffc-60ef-4b7d-8dfe-89ad0833b5c6",
   "metadata": {},
   "outputs": [],
   "source": [
    "result = sum_of_three(1, 2, 3)\n",
    "print(result)"
   ]
  },
  {
   "cell_type": "code",
   "execution_count": null,
   "id": "077f1c06-f087-4aeb-bb92-b6a1452e1ebc",
   "metadata": {},
   "outputs": [],
   "source": [
    "# this also works with a different type:\n",
    "result = sum_of_three('a', 'b', 'c')\n",
    "print(result)"
   ]
  },
  {
   "cell_type": "code",
   "execution_count": null,
   "id": "ce98dc19-981b-4517-b411-044ced934ec2",
   "metadata": {},
   "outputs": [],
   "source": [
    "result = sum_of_three([1, 2], [3, 4], [5, 6])\n",
    "print(result)"
   ]
  },
  {
   "cell_type": "code",
   "execution_count": null,
   "id": "09febda5-de2f-43bd-bd8c-75e5244febac",
   "metadata": {},
   "outputs": [],
   "source": [
    "# but obviously it can fail, too\n",
    "sum_of_three('a', 1, [2, 3])"
   ]
  },
  {
   "cell_type": "markdown",
   "id": "af7828b2-4784-4af1-9d44-f5744da60500",
   "metadata": {
    "jp-MarkdownHeadingCollapsed": true
   },
   "source": [
    "#### default values\n",
    "- making parameters optional"
   ]
  },
  {
   "cell_type": "code",
   "execution_count": null,
   "id": "ae6b05fd-0d71-4b15-bbaf-06973d1d4626",
   "metadata": {},
   "outputs": [],
   "source": [
    "def sum_of_three(v1=1, v2=2, v3=3):\n",
    "    print(f'{v1=}, {v2=}, {v3=}')\n",
    "    return v1 + v2 + v3"
   ]
  },
  {
   "cell_type": "code",
   "execution_count": null,
   "id": "3be46cd0-4c03-4998-bb33-9da21460bd3b",
   "metadata": {},
   "outputs": [],
   "source": [
    "result = sum_of_three()  # this works now\n",
    "print(result)"
   ]
  },
  {
   "cell_type": "code",
   "execution_count": null,
   "id": "64bb5bdb-5642-485f-9ced-f39cfe14902d",
   "metadata": {},
   "outputs": [],
   "source": [
    "# arguments are assigned by position\n",
    "result = sum_of_three(7, 8, 9)\n",
    "print(result)"
   ]
  },
  {
   "cell_type": "code",
   "execution_count": null,
   "id": "51ca179e-38f0-4c03-9822-da425d2ae30d",
   "metadata": {},
   "outputs": [],
   "source": [
    "# but can also just set some of the values\n",
    "result = sum_of_three(4)\n",
    "print(result)"
   ]
  },
  {
   "cell_type": "code",
   "execution_count": null,
   "id": "5680fa64-33a0-46de-a1f6-694e1e62aeb2",
   "metadata": {},
   "outputs": [],
   "source": [
    "result = sum_of_three(4, 5)\n",
    "print(result)"
   ]
  },
  {
   "cell_type": "code",
   "execution_count": null,
   "id": "461eb77c-2b0c-4e12-9bdb-d32f6644dad8",
   "metadata": {},
   "outputs": [],
   "source": [
    "# passing parameters by name\n",
    "result = sum_of_three(v2=5)\n",
    "print(result)"
   ]
  },
  {
   "cell_type": "code",
   "execution_count": null,
   "id": "b83d8d6c-3071-4b6c-9f66-e9382aab96b1",
   "metadata": {},
   "outputs": [],
   "source": [
    "# names can be in any order\n",
    "result = sum_of_three(v2=4, v1=5, v3=3)\n",
    "print(result)"
   ]
  },
  {
   "cell_type": "code",
   "execution_count": null,
   "id": "eaed348d-a80b-45b4-8423-4d687142f7a1",
   "metadata": {},
   "outputs": [],
   "source": [
    "# but I can't pass arguments by position /after/ the first named argument\n",
    "sum_of_three(v3=5, 2, 0)"
   ]
  },
  {
   "cell_type": "markdown",
   "id": "1831e23d-6348-4ff2-aa00-92620555cb3e",
   "metadata": {
    "jp-MarkdownHeadingCollapsed": true
   },
   "source": [
    "#### mutable defaults\n",
    "- default values are evaluated only once, during function definition\n",
    "- so you might be referring to a shared object without expecting it!"
   ]
  },
  {
   "cell_type": "code",
   "execution_count": null,
   "id": "480da148-ab50-4b6f-8cc0-3c85aea29760",
   "metadata": {},
   "outputs": [],
   "source": [
    "def add_to_list(value, lst=[]):\n",
    "    lst.append(value)\n",
    "    print(lst)\n",
    "\n",
    "add_to_list(5)\n",
    "add_to_list(7)\n",
    "add_to_list(7, [])"
   ]
  },
  {
   "cell_type": "code",
   "execution_count": null,
   "id": "d5449a99-fc3d-4313-9461-e31dd04e5007",
   "metadata": {},
   "outputs": [],
   "source": [
    "def add_to_dict(key, value, dikt={}):\n",
    "    dikt[key] = value\n",
    "    print(dikt)\n",
    "\n",
    "add_to_dict('a', 5)\n",
    "add_to_dict('b', 5)\n",
    "add_to_dict('b', 5, {})\n"
   ]
  },
  {
   "cell_type": "code",
   "execution_count": null,
   "id": "20bbdb1c-e1b7-462d-acde-488ce4c9b84b",
   "metadata": {},
   "outputs": [],
   "source": [
    "# use None instead\n",
    "def add_to_list(value, lst=None):\n",
    "    lst = [] if lst is None else lst\n",
    "    lst.append(value)\n",
    "    print(lst)\n",
    "\n",
    "add_to_list(5)\n",
    "add_to_list(7)\n",
    "add_to_list(7, [])\n",
    "add_to_list(7, None)"
   ]
  },
  {
   "cell_type": "markdown",
   "id": "f9a1a0d5-2645-4caf-8c5d-3f2e28e57c5e",
   "metadata": {
    "jp-MarkdownHeadingCollapsed": true
   },
   "source": [
    "#### multiple return values\n",
    "- single function calls can return multiple values"
   ]
  },
  {
   "cell_type": "code",
   "execution_count": null,
   "id": "abbee2b7-14fb-40cf-8481-1d40a1bb9ab6",
   "metadata": {},
   "outputs": [],
   "source": [
    "# multiple return values\n",
    "def swap(x, y):\n",
    "    return y, x"
   ]
  },
  {
   "cell_type": "code",
   "execution_count": null,
   "id": "7dc5a61f-fca9-4a93-99c7-2f3599bfa4bb",
   "metadata": {},
   "outputs": [],
   "source": [
    "out1, out2 = swap('first', 'second')\n",
    "print(f'{out1=}, {out2=}')"
   ]
  },
  {
   "cell_type": "code",
   "execution_count": null,
   "id": "8f64dfa5-b074-44cd-96f5-cd5fd4d21ea4",
   "metadata": {},
   "outputs": [],
   "source": [
    "# this ain't magic:\n",
    "result = swap('first', 'second')\n",
    "print(f'{result=}, {type(result)=}')"
   ]
  },
  {
   "cell_type": "code",
   "execution_count": null,
   "id": "295f1e67-8cb8-4b86-93ae-5664b4480735",
   "metadata": {},
   "outputs": [],
   "source": [
    "# making the tuple explicit\n",
    "def swap(x, y):\n",
    "    return (y, x)"
   ]
  },
  {
   "cell_type": "code",
   "execution_count": null,
   "id": "69748671-166f-4422-b490-1d3d10c975e2",
   "metadata": {},
   "outputs": [],
   "source": [
    "out1, out2 = swap('first', 'second')\n",
    "print(f'{out1=}, {out2=}')"
   ]
  },
  {
   "cell_type": "markdown",
   "id": "49d539c1-e758-47fb-9b58-7aaa30ad733f",
   "metadata": {
    "jp-MarkdownHeadingCollapsed": true
   },
   "source": [
    "#### varargs\n",
    "- room for additional parameters not specified in advance\n",
    "- can be names or unnamed"
   ]
  },
  {
   "cell_type": "code",
   "execution_count": null,
   "id": "4660f181-9318-4061-bcd1-f76f5c387406",
   "metadata": {},
   "outputs": [],
   "source": [
    "# variable arguments\n",
    "# args is a tuple which you index by position, kwargs a dictionary\n",
    "# names are just convention, only the *-syntax matters\n",
    "def take_anything(*args, **kwargs):\n",
    "    print(f'{args=}, {kwargs=}')"
   ]
  },
  {
   "cell_type": "code",
   "execution_count": null,
   "id": "e9ccf313-6d20-43e5-a7b0-88824f73a711",
   "metadata": {},
   "outputs": [],
   "source": [
    "take_anything(1, 2, 3)"
   ]
  },
  {
   "cell_type": "code",
   "execution_count": null,
   "id": "8aec5d61-b129-49ec-9449-6f441b476799",
   "metadata": {},
   "outputs": [],
   "source": [
    "take_anything(v1=1, v2=2, v3=3)"
   ]
  },
  {
   "cell_type": "code",
   "execution_count": null,
   "id": "d3af4581-c40f-493e-bc55-4c8dbad088ce",
   "metadata": {},
   "outputs": [],
   "source": [
    "take_anything(1, 2, some_extra_argument='hey there!')"
   ]
  },
  {
   "cell_type": "code",
   "execution_count": null,
   "id": "774fe669-bc2b-4139-a6a4-f0e5831ddaec",
   "metadata": {},
   "outputs": [],
   "source": [
    "# can be combined with regular arguments of course\n",
    "def take_anything(required_arg, optional_arg=None, *args, **kwargs):\n",
    "    print(f'{required_arg=}, {optional_arg=}, {args=}, {kwargs=}')"
   ]
  },
  {
   "cell_type": "code",
   "execution_count": null,
   "id": "5e5ee63d-2979-4e91-938f-cb90b80452cb",
   "metadata": {},
   "outputs": [],
   "source": [
    "take_anything('foo')"
   ]
  },
  {
   "cell_type": "code",
   "execution_count": null,
   "id": "d384eb18-b328-4e04-b365-8264db111884",
   "metadata": {},
   "outputs": [],
   "source": [
    "take_anything('foo', 1)"
   ]
  },
  {
   "cell_type": "code",
   "execution_count": null,
   "id": "ca897fb7-38bb-42da-a47e-b5e7775cf9eb",
   "metadata": {},
   "outputs": [],
   "source": [
    "take_anything('foo', extra_argument=1)"
   ]
  },
  {
   "cell_type": "code",
   "execution_count": null,
   "id": "b2d1fe43-60cb-47df-b7de-90c158bae625",
   "metadata": {},
   "outputs": [],
   "source": [
    "take_anything('foo', 'bar', 'bazz', extra_argument=1)"
   ]
  },
  {
   "cell_type": "markdown",
   "id": "cc71e935-d497-40ec-a2d1-a15b22a35698",
   "metadata": {
    "jp-MarkdownHeadingCollapsed": true
   },
   "source": [
    "#### position/keyword-only restrictions"
   ]
  },
  {
   "cell_type": "code",
   "execution_count": null,
   "id": "d7a8a976-56ea-4d5c-8edb-4d1a11739310",
   "metadata": {},
   "outputs": [],
   "source": [
    "# position-only and keyword-only\n",
    "def sum_of_three(v1, /, v2, *, v3):\n",
    "    print(f'{v1=}, {v2=}, {v3=}')\n",
    "    return v1 + v2 + v3"
   ]
  },
  {
   "cell_type": "code",
   "execution_count": null,
   "id": "c8d81a14-a79b-490c-93a2-f9d8f69e24da",
   "metadata": {},
   "outputs": [],
   "source": [
    "sum_of_three(1, 2, 3)"
   ]
  },
  {
   "cell_type": "code",
   "execution_count": null,
   "id": "170b8e35-df65-4392-86ea-9a35f5921372",
   "metadata": {},
   "outputs": [],
   "source": [
    "result = sum_of_three(1, 2, v3=3)"
   ]
  },
  {
   "cell_type": "code",
   "execution_count": null,
   "id": "d41970bf-205e-4022-8d60-08343961ea94",
   "metadata": {},
   "outputs": [],
   "source": [
    "result = sum_of_three(1, v2=2, v3=3)"
   ]
  },
  {
   "cell_type": "code",
   "execution_count": null,
   "id": "ca6f065f-4e02-4ef8-9e85-fa1d15f2bfb0",
   "metadata": {},
   "outputs": [],
   "source": [
    "result = sum_of_three(v1=1, v2=2, v3=3)"
   ]
  },
  {
   "cell_type": "code",
   "execution_count": null,
   "id": "b2db781b-54ed-40f1-87fb-f296fd292a92",
   "metadata": {},
   "outputs": [],
   "source": [
    "# watch out if combining position-only and kwargs\n",
    "def funky_function(a=0, b=0, /, **kwargs):\n",
    "    print(f'{a=}, {b=}, {kwargs=}')"
   ]
  },
  {
   "cell_type": "code",
   "execution_count": null,
   "id": "c4356ca6-32ad-4ed8-ae3c-468380b065cb",
   "metadata": {},
   "outputs": [],
   "source": [
    "funky_function(1, 2)"
   ]
  },
  {
   "cell_type": "code",
   "execution_count": null,
   "id": "f2f158a6-4780-442b-bcdb-9cf7400f1fe4",
   "metadata": {},
   "outputs": [],
   "source": [
    "funky_function(a=1, b=2)"
   ]
  },
  {
   "cell_type": "markdown",
   "id": "cacc535d-9938-408a-9189-fe4034642c03",
   "metadata": {
    "jp-MarkdownHeadingCollapsed": true
   },
   "source": [
    "#### argument explosion"
   ]
  },
  {
   "cell_type": "code",
   "execution_count": null,
   "id": "90a830c7-1290-4577-9744-a855c66892e2",
   "metadata": {},
   "outputs": [],
   "source": [
    "list_of_numbers = [3, 4, 5]\n",
    "sum_of_three(list_of_numbers)"
   ]
  },
  {
   "cell_type": "code",
   "execution_count": null,
   "id": "d09f0206-8332-4a58-ac98-1c50ab130fc7",
   "metadata": {},
   "outputs": [],
   "source": [
    "sum_of_three(*list_of_numbers)"
   ]
  },
  {
   "cell_type": "code",
   "execution_count": null,
   "id": "1ab72135-b827-4cd5-ae1d-894eac29d9fb",
   "metadata": {},
   "outputs": [],
   "source": [
    "long_list = [1, 2, 3, 4, 5, 6, 7, 8]\n",
    "sum_of_three(*long_list)"
   ]
  },
  {
   "cell_type": "code",
   "execution_count": null,
   "id": "012159c3-de4d-4a96-8ab8-82270f20c26a",
   "metadata": {},
   "outputs": [],
   "source": [
    "sum_of_three(*long_list[:3])"
   ]
  },
  {
   "cell_type": "code",
   "execution_count": null,
   "id": "a333dce0-d65c-4ff0-8839-c8013d489d75",
   "metadata": {},
   "outputs": [],
   "source": [
    "parameter_values = {\n",
    "    'a': 5,\n",
    "    'b': 'value_of_b',\n",
    "    'x': 17,\n",
    "    'y': 'value-of-y'\n",
    "}\n",
    "funky_function(**parameter_values)"
   ]
  },
  {
   "cell_type": "markdown",
   "id": "70d2f0bf-0ffb-4249-af3d-43acba5ee555",
   "metadata": {
    "jp-MarkdownHeadingCollapsed": true
   },
   "source": [
    "#### anonymous functions"
   ]
  },
  {
   "cell_type": "code",
   "execution_count": null,
   "id": "574e93f8-e961-4877-9a9b-5bd230f9065d",
   "metadata": {},
   "outputs": [],
   "source": [
    "fruits = ['strawberry', 'fig', 'apple', 'cherry', 'raspberry', 'banana']\n",
    "sorted(fruits)"
   ]
  },
  {
   "cell_type": "code",
   "execution_count": null,
   "id": "37512747-711c-40d3-8861-f54fb4db7ccf",
   "metadata": {},
   "outputs": [],
   "source": [
    "sorted(fruits, key=len)"
   ]
  },
  {
   "cell_type": "code",
   "execution_count": null,
   "id": "96b04a70-0715-4fe0-a539-cff79b268a30",
   "metadata": {},
   "outputs": [],
   "source": [
    "sorted(fruits, key=lambda x: x[::-1])"
   ]
  },
  {
   "cell_type": "code",
   "execution_count": null,
   "id": "983051c8-cb77-4559-980f-4d3c89ecfde2",
   "metadata": {},
   "outputs": [],
   "source": [
    "# discouraged, but possible:\n",
    "reverse_string = lambda x: x[::-1]\n",
    "reverse_string('hello world')"
   ]
  },
  {
   "cell_type": "markdown",
   "id": "2e05748a-006c-41f3-9ef9-0158ed276568",
   "metadata": {
    "jp-MarkdownHeadingCollapsed": true
   },
   "source": [
    "#### docstrings"
   ]
  },
  {
   "cell_type": "code",
   "execution_count": null,
   "id": "92ca1776-6495-4703-918d-8d9606c0f3e4",
   "metadata": {},
   "outputs": [],
   "source": [
    "def sum_of_three(v1, v2, v3):\n",
    "    \"\"\"Sum the three arguments.\n",
    "\n",
    "        This function will calculate the sum of its arguments, and return the result.\n",
    "\n",
    "        Parameters\n",
    "        ----------\n",
    "        v1\n",
    "            first value\n",
    "        v2\n",
    "            second value\n",
    "        v3\n",
    "            third value\n",
    "\n",
    "        Example\n",
    "        -------\n",
    "        Sum of 1, 2, and 3:\n",
    "        \n",
    "        sum_of_three(1, 2, 3)\n",
    "    \"\"\"\n",
    "    return v1 + v2 + v3"
   ]
  },
  {
   "cell_type": "code",
   "execution_count": null,
   "id": "5e64f12f-03f5-4eeb-854b-629456df76da",
   "metadata": {},
   "outputs": [],
   "source": [
    "help(sum_of_three)"
   ]
  },
  {
   "cell_type": "code",
   "execution_count": null,
   "id": "1d6d7951-dda0-43d8-8bf3-0ec5dcec638e",
   "metadata": {},
   "outputs": [],
   "source": [
    "sum_of_three("
   ]
  },
  {
   "cell_type": "markdown",
   "id": "e067857e-4527-46b7-a759-e6c0ff62d068",
   "metadata": {
    "jp-MarkdownHeadingCollapsed": true
   },
   "source": [
    "### Functions as first-class objects:\n",
    "First-order objects:\n",
    "- can be assigned to a variable or element in a data structure\n",
    "- can be passes as argument to a function\n",
    "- can be returned as result of a function"
   ]
  },
  {
   "cell_type": "markdown",
   "id": "3cde8ee1-02de-4217-a000-20b9dfd80712",
   "metadata": {
    "jp-MarkdownHeadingCollapsed": true
   },
   "source": [
    "#### assigning functions to variables"
   ]
  },
  {
   "cell_type": "code",
   "execution_count": null,
   "id": "606ba9aa-9886-4498-b1db-fe1ba16beebd",
   "metadata": {},
   "outputs": [],
   "source": [
    "def sum_of_three(v1, v2, v3):\n",
    "    return v1 + v2 + v3"
   ]
  },
  {
   "cell_type": "code",
   "execution_count": null,
   "id": "f2f3903d-bff9-448c-86c3-186daebe79a8",
   "metadata": {},
   "outputs": [],
   "source": [
    "new_fun = sum_of_three"
   ]
  },
  {
   "cell_type": "code",
   "execution_count": null,
   "id": "ad626868-0d8c-4972-bbd7-7617bba23022",
   "metadata": {},
   "outputs": [],
   "source": [
    "new_fun == sum_of_three"
   ]
  },
  {
   "cell_type": "code",
   "execution_count": null,
   "id": "3b19b2a5-9813-4ee6-b703-dac32df1c949",
   "metadata": {},
   "outputs": [],
   "source": [
    "new_fun is sum_of_three"
   ]
  },
  {
   "cell_type": "code",
   "execution_count": null,
   "id": "d148d110-a75f-4580-a6eb-36e01a0e50d8",
   "metadata": {},
   "outputs": [],
   "source": [
    "new_fun(1, 2, 3)"
   ]
  },
  {
   "cell_type": "code",
   "execution_count": null,
   "id": "b2b45314-bff1-45e4-88d9-a2e64e7fd00c",
   "metadata": {},
   "outputs": [],
   "source": [
    "some_dict = {\n",
    "    'the_function': sum_of_three\n",
    "}"
   ]
  },
  {
   "cell_type": "code",
   "execution_count": null,
   "id": "b2122023-0335-421b-9cc9-cc2bcc152e1c",
   "metadata": {},
   "outputs": [],
   "source": [
    "some_dict['the_function'](1, 2, 3)"
   ]
  },
  {
   "cell_type": "code",
   "execution_count": null,
   "id": "09313a7e-0394-423e-afaa-9bac6dc6de77",
   "metadata": {},
   "outputs": [],
   "source": [
    "some_dict['the_function'] is new_fun"
   ]
  },
  {
   "cell_type": "markdown",
   "id": "b0f23334-c83a-4016-b3b2-70da831862f7",
   "metadata": {
    "jp-MarkdownHeadingCollapsed": true
   },
   "source": [
    "#### functions as function arguments and returns"
   ]
  },
  {
   "cell_type": "code",
   "execution_count": null,
   "id": "85e24c9e-7659-4c9f-a713-8d29d3dfc6f7",
   "metadata": {},
   "outputs": [],
   "source": [
    "def formatter(s):\n",
    "    return f'Hey, look at that! ==> \"{s}\"'\n",
    "\n",
    "def some_function(x, y, formatting_function):\n",
    "    my_text = f'The sum of {x} and {y} is {x + y}'\n",
    "    return formatting_function(my_text)\n",
    "\n",
    "some_function(3, 5, formatter)"
   ]
  },
  {
   "cell_type": "code",
   "execution_count": null,
   "id": "2c54d93b-3aab-4b24-9c17-5d00f1dc3adc",
   "metadata": {},
   "outputs": [],
   "source": [
    "# closures, scoping\n",
    "def function_factory(n):\n",
    "    def adder(x):\n",
    "        return x + n\n",
    "    return adder"
   ]
  },
  {
   "cell_type": "code",
   "execution_count": null,
   "id": "8c361b31-28b5-42f2-ad17-61d91a407063",
   "metadata": {},
   "outputs": [],
   "source": [
    "add_5 = function_factory(5)\n",
    "add_5(3)"
   ]
  },
  {
   "cell_type": "code",
   "execution_count": null,
   "id": "bafa4dac-3200-4ad4-bbe5-91c84ca5820a",
   "metadata": {},
   "outputs": [],
   "source": [
    "add_8 = function_factory(8)\n",
    "add_8(3)"
   ]
  },
  {
   "cell_type": "markdown",
   "id": "ca058385-8ae0-4b23-a534-07e36448c18b",
   "metadata": {
    "jp-MarkdownHeadingCollapsed": true
   },
   "source": [
    "#### Decorators"
   ]
  },
  {
   "cell_type": "code",
   "execution_count": null,
   "id": "60ab73c8-985a-41b2-8c3f-a5b00ffa2468",
   "metadata": {},
   "outputs": [],
   "source": [
    "def fibonacci(n):\n",
    "    if n > 1:\n",
    "        return fibonacci(n-1) + fibonacci(n-2)\n",
    "    return 1"
   ]
  },
  {
   "cell_type": "code",
   "execution_count": null,
   "id": "36d5998a-d06c-4c92-89f4-91040148b8e0",
   "metadata": {},
   "outputs": [],
   "source": [
    "%timeit -n 1 -r 1 fibonacci(35)"
   ]
  },
  {
   "cell_type": "code",
   "execution_count": null,
   "id": "ab4a3e63-cefa-4ddb-84ff-8b0aa3a0db1f",
   "metadata": {},
   "outputs": [],
   "source": [
    "from functools import lru_cache\n",
    "\n",
    "@lru_cache\n",
    "def cached_fibonacci(n):\n",
    "    if n > 1:\n",
    "        return cached_fibonacci(n-1) + cached_fibonacci(n-2)\n",
    "    return 1"
   ]
  },
  {
   "cell_type": "code",
   "execution_count": null,
   "id": "9e227656-fbd1-499f-864d-d392db34ecc8",
   "metadata": {},
   "outputs": [],
   "source": [
    "%timeit -n 1 -r 1 cached_fibonacci(35)"
   ]
  },
  {
   "cell_type": "markdown",
   "id": "b7a2f0c6-38dd-4f54-be72-b5b817298c41",
   "metadata": {
    "jp-MarkdownHeadingCollapsed": true
   },
   "source": [
    "#### introspection of functions"
   ]
  },
  {
   "cell_type": "code",
   "execution_count": null,
   "id": "68d6d966-0006-43ac-acce-01b3bec83b21",
   "metadata": {},
   "outputs": [],
   "source": [
    "def take_anything(required_arg, *args, **kwargs):\n",
    "    print(f'{required_arg=}, {optional_arg=}, {args=}, {kwargs=}')"
   ]
  },
  {
   "cell_type": "code",
   "execution_count": null,
   "id": "8142ffb2-09b4-4bcb-9cbb-ee2d06e56d2b",
   "metadata": {},
   "outputs": [],
   "source": [
    "take_anything.__code__.co_argcount"
   ]
  },
  {
   "cell_type": "code",
   "execution_count": null,
   "id": "2847dabf-90ef-4449-8e4d-a781f94ca85e",
   "metadata": {},
   "outputs": [],
   "source": [
    "take_anything.__code__.co_varnames"
   ]
  },
  {
   "cell_type": "code",
   "execution_count": null,
   "id": "649d6b63-3a36-48e8-ab32-2f6fa44a44b6",
   "metadata": {},
   "outputs": [],
   "source": [
    "take_anything.__defaults__"
   ]
  },
  {
   "cell_type": "code",
   "execution_count": null,
   "id": "27e35810-7f28-4287-89d7-86ab8c5fc5a9",
   "metadata": {},
   "outputs": [],
   "source": [
    "take_anything.__code__.co_varnames = ('required_arg', 'new_name', 'args', 'kwargs')"
   ]
  },
  {
   "cell_type": "code",
   "execution_count": null,
   "id": "f6bbf85a-c226-46b2-828b-c14ad18a486f",
   "metadata": {},
   "outputs": [],
   "source": []
  }
 ],
 "metadata": {
  "kernelspec": {
   "display_name": "dhbw",
   "language": "python",
   "name": "dhbw"
  },
  "language_info": {
   "codemirror_mode": {
    "name": "ipython",
    "version": 3
   },
   "file_extension": ".py",
   "mimetype": "text/x-python",
   "name": "python",
   "nbconvert_exporter": "python",
   "pygments_lexer": "ipython3",
   "version": "3.14.0"
  }
 },
 "nbformat": 4,
 "nbformat_minor": 5
}
