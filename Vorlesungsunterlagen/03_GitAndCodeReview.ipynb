{
 "cells": [
  {
   "cell_type": "markdown",
   "id": "bd30cea1-ea1f-4efd-bf73-e45f359493db",
   "metadata": {
    "slideshow": {
     "slide_type": "slide"
    }
   },
   "source": [
    "# Introdution to git(hub)\n",
    "- Git is a distributed version control system (DVCS).\n",
    "- Developed by Linus Torvalds in 2005.\n",
    "- Git is designed for speed, efficiency, and distributed development.\n"
   ]
  },
  {
   "cell_type": "markdown",
   "id": "17654c25-bc2f-43bd-85b9-d00169a7914c",
   "metadata": {
    "slideshow": {
     "slide_type": "slide"
    }
   },
   "source": [
    "### What is Version Control?\n",
    "\n",
    "- **Definition**: Version control is a system that records changes to files over time.\n",
    "- **Purpose**: To track, manage, and organize changes made to files, code, and documents.\n",
    "- **Benefits**: Collaboration, history tracking, error detection, and backup."
   ]
  },
  {
   "cell_type": "markdown",
   "id": "193877f4-3d53-4d11-8911-685022050f47",
   "metadata": {
    "slideshow": {
     "slide_type": "slide"
    }
   },
   "source": [
    "### Why Use Version Control?\n",
    "\n",
    "- **Collaboration**: Multiple people can work on the same project simultaneously.\n",
    "- **History Tracking**: See who made what changes and when.\n",
    "- **Error Detection**: Identify and fix issues more easily.\n",
    "- **Backup**: Protect your work from loss or accidental changes."
   ]
  },
  {
   "cell_type": "markdown",
   "id": "a59df574-73cb-479a-8483-6dfb210f176f",
   "metadata": {
    "slideshow": {
     "slide_type": "slide"
    }
   },
   "source": [
    "### Common Concepts\n",
    "- **Repository**: A folder that contains your project and its history.\n",
    "- **Commit**: A snapshot of your project at a specific point in time.\n",
    "- **Branch**: A separate line of development within a repository.\n",
    "- **Merge**: Combining changes from one branch into another.\n",
    "- **Pull Request**: A request to merge changes into a target branch.\n",
    "- **Clone**: Copying a repository to your local machine.\n",
    "- **Remote**: A shared version of your repository hosted online.\n"
   ]
  },
  {
   "cell_type": "markdown",
   "id": "c4a8360f-c64e-4d8a-bcc6-4993c5aee991",
   "metadata": {
    "slideshow": {
     "slide_type": "fragment"
    }
   },
   "source": [
    "#### Git Branches\n",
    "- In Git, a branch is a new/separate version of the main repository.\n",
    "- Branches allow you to work on different parts of a project without impacting the main branch.\n",
    "- When the work is complete, a branch can be merged with the main project.\n",
    "- You can switch between branches and work on different projects without them interfering with each other.\n",
    "- **Multiple people can each work on their own branch without interference.**\n",
    "- Branching in Git is very lightweight and fast!\n"
   ]
  },
  {
   "cell_type": "markdown",
   "id": "d9e4f570-04df-4ad8-9333-88ce9ebef219",
   "metadata": {
    "slideshow": {
     "slide_type": "slide"
    }
   },
   "source": [
    "### Git Workflow\n",
    "- Initialize a Git repository.\n",
    "   - `git init` or, if a remote repository exists `git clone`\n",
    "- Create and switch between branches.\n",
    "   - `git branch <branch_name>`\n",
    "   - `git checkout <branch_name>`\n",
    "   - can be combined as `git checkout -b <branch_name>`\n",
    "- Add files to the staging area.\n",
    "   - `git add <file>`\n",
    "   - don't ever use `git add -A` (adds all files), `git add -u` (adds updated files) is ok\n",
    "- Verify staged changes\n",
    "   - `git status` to see which files are staged/not staged\n",
    "   - `git diff` to see change to last commit\n",
    "   - `git diff --staged` to see currently staged changes\n",
    "- Commit changes to create a snapshot.\n",
    "   - `git commit -m \"Your commit message\"`\n",
    "   - without `-m` an editor will open to enter your commit message\n"
   ]
  },
  {
   "cell_type": "markdown",
   "id": "4ffdde47-3623-40f3-8df3-621776363602",
   "metadata": {
    "slideshow": {
     "slide_type": "slide"
    }
   },
   "source": [
    "### Git Workflow -- continued\n",
    "- Merge branches to combine changes.\n",
    "   - `git merge <branch_to_merge>`\n",
    "   - merges into current branch\n",
    "- Push changes to a remote repository.\n",
    "   - `git push origin <branch_name>`\n",
    "   - `git push` is sufficient if a remote tracking branch is configured\n",
    "- Pull changes from a remote repository.\n",
    "   - `git pull origin <branch_name>`\n",
    "   - `git pull` is sufficient if a remote tracking branch is configured"
   ]
  },
  {
   "cell_type": "markdown",
   "id": "2583b200-e6cc-4ae0-abfd-4666b15bbbfc",
   "metadata": {
    "slideshow": {
     "slide_type": "slide"
    }
   },
   "source": [
    "### Collaborative Development with Github\n",
    "- Collaborating with others using Git:\n",
    "  - Clone a remote repository.\n",
    "  - **Create feature branches.**\n",
    "  - Make changes, commit, and push.\n",
    "  - Create pull requests for code review.\n",
    "  - Merge pull requests **after approval.**\n",
    "  - Keep your local repository up to date."
   ]
  },
  {
   "cell_type": "markdown",
   "id": "6e9bca48-179d-459d-8b61-262f8364f2c9",
   "metadata": {
    "slideshow": {
     "slide_type": "slide"
    }
   },
   "source": [
    "### Further Information\n",
    "- `git help` or `git help <command>`\n",
    "- https://git-scm.com/doc\n",
    "- https://docs.github.com/en\n",
    "- https://www.youtube.com/watch?v=uGLQF2kUwOA"
   ]
  },
  {
   "cell_type": "markdown",
   "id": "80991bc1-c903-481d-b733-54d3b601855d",
   "metadata": {
    "slideshow": {
     "slide_type": "slide"
    }
   },
   "source": [
    "# Code Review"
   ]
  },
  {
   "cell_type": "markdown",
   "id": "e1cadb7a-2cbe-41f8-9be8-64cc6b424afe",
   "metadata": {
    "jp-MarkdownHeadingCollapsed": true,
    "slideshow": {
     "slide_type": "slide"
    }
   },
   "source": [
    "### What is Code Review?\n",
    "- Code review is a systematic examination of code to find and fix defects.\n",
    "- It's a collaborative process where team members review and provide feedback on code changes.\n",
    "- Goal: Improve code quality, catch bugs, and ensure compliance with coding standards.\n"
   ]
  },
  {
   "cell_type": "markdown",
   "id": "7416e955-4754-4cc7-91b6-11ed623a9fbc",
   "metadata": {
    "slideshow": {
     "slide_type": "slide"
    }
   },
   "source": [
    "### Why is Code Review Important?\n",
    "- Catching Bugs Early\n",
    "- Knowledge Sharing\n",
    "- Maintaining Code Quality\n",
    "- Ensuring Consistency\n",
    "- Enhancing Collaboration\n"
   ]
  },
  {
   "cell_type": "markdown",
   "id": "e18d9fe1-35fc-44fd-8efa-da285fe9b755",
   "metadata": {
    "slideshow": {
     "slide_type": "slide"
    }
   },
   "source": [
    "### Best Practices\n",
    "- Review Small Chunks of Code\n",
    "- Be Constructive and Respectful\n",
    "- Use Code Linters and Automated Tests\n",
    "- Focus on the High-Impact Areas\n",
    "- Keep Discussions on GitHub\n",
    "- Set Clear Review Goals"
   ]
  },
  {
   "cell_type": "markdown",
   "id": "f96d4ec4-0ade-4deb-a097-57da8896e9a5",
   "metadata": {
    "slideshow": {
     "slide_type": "slide"
    }
   },
   "source": [
    "### What to look for in review\n",
    "\n",
    "- **Design:** Is the code well-designed and appropriate for your system?\n",
    "- **Functionality:** Does the code behave as the author likely intended? Is the way the code behaves good for its users?\n",
    "- **Complexity:** Could the code be made simpler? Would another developer be able to easily understand and use this code when they come across it in the future?\n",
    "- **Tests:** Does the code have correct and well-designed automated tests?\n",
    "- **Naming:** Did the developer choose clear names for variables, classes, methods, etc.?\n",
    "- **Comments:** Are the comments clear and useful?\n",
    "- **Style:** Does the code follow your style guides?\n",
    "- **Documentation:** Did the developer also update relevant documentation?\n"
   ]
  },
  {
   "cell_type": "markdown",
   "id": "b89deb7c-62c1-4377-bf0a-0bed6726d823",
   "metadata": {
    "slideshow": {
     "slide_type": "slide"
    }
   },
   "source": [
    "### Further Information\n",
    "- google review documentation: https://google.github.io/eng-practices/review/reviewer/"
   ]
  },
  {
   "cell_type": "markdown",
   "id": "fde589d0-8f3a-40bc-a880-998ab0e73e1f",
   "metadata": {
    "slideshow": {
     "slide_type": "slide"
    }
   },
   "source": [
    "# Pair Programming"
   ]
  },
  {
   "cell_type": "markdown",
   "id": "f3ab4fb1-ff8d-4cb0-b0b1-7169c5a469c8",
   "metadata": {},
   "source": [
    "### What is Pair Programming\n",
    "- Pair programming is a software development technique in which two programmers work together at one computer.\n",
    "- In pair programming, one person is the \"driver\" who writes code, while the other is the \"navigator\" who reviews and suggests improvements."
   ]
  },
  {
   "cell_type": "markdown",
   "id": "9aba5fbf-d0b9-4153-977b-5294f339b8f4",
   "metadata": {},
   "source": [
    "### Why Pair Programming?\n",
    "- Increased Code Quality\n",
    "- Knowledge Sharing\n",
    "- Faster Problem Solving\n",
    "- Reduced Bugs\n",
    "- Improved Collaboration\n"
   ]
  },
  {
   "cell_type": "markdown",
   "id": "a85b4aa6-c0ba-4cdb-99e2-9bd7365fed2b",
   "metadata": {
    "slideshow": {
     "slide_type": "slide"
    }
   },
   "source": [
    "### How does it work?\n",
    "#### Roles and Responsibilities\n",
    "- Driver:\n",
    "  - Writes code\n",
    "  - Focuses on implementation\n",
    "- Navigator:\n",
    "  - Reviews code\n",
    "  - Focuses on high-level thinking\n",
    "  - Suggests improvements\n"
   ]
  },
  {
   "cell_type": "markdown",
   "id": "e0c9ad77-9db9-4a3f-8ee2-b758160b1a2b",
   "metadata": {
    "slideshow": {
     "slide_type": "slide"
    }
   },
   "source": [
    "### Challenges & Benefits\n",
    "- Potential for Disagreements\n",
    "- Slower Initial Progress / Resource Intensive\n",
    "- Fatigue\n",
    "\n",
    "---\n",
    "\n",
    "- Immediate Feedback & Continuous Learning\n",
    "- Reduced Context Switching\n",
    "- Enhanced Communication\n",
    "- Better Code Design\n",
    "- Review Included\n"
   ]
  },
  {
   "cell_type": "code",
   "execution_count": null,
   "id": "e5734913-a5fc-49f1-8e5e-9c293b0b5cf8",
   "metadata": {},
   "outputs": [],
   "source": []
  }
 ],
 "metadata": {
  "kernelspec": {
   "display_name": "dhbw",
   "language": "python",
   "name": "dhbw"
  },
  "language_info": {
   "codemirror_mode": {
    "name": "ipython",
    "version": 3
   },
   "file_extension": ".py",
   "mimetype": "text/x-python",
   "name": "python",
   "nbconvert_exporter": "python",
   "pygments_lexer": "ipython3",
   "version": "3.14.0"
  }
 },
 "nbformat": 4,
 "nbformat_minor": 5
}
