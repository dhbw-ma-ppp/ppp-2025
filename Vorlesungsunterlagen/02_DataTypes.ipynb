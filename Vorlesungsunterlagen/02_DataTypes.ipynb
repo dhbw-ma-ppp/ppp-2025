{
 "cells": [
  {
   "cell_type": "markdown",
   "id": "1b46a74c-8092-4cbc-9e34-9d3446e1a73f",
   "metadata": {
    "jp-MarkdownHeadingCollapsed": true
   },
   "source": [
    "# van Neumann Machines\n"
   ]
  },
  {
   "cell_type": "markdown",
   "id": "b0850002-442e-4449-a012-8dced18d4b71",
   "metadata": {},
   "source": [
    "<br><br>\n",
    "\n",
    "<img style=\"float: right; padding-right:10em;\" src='https://computerscience.gcse.guru/wp-content/uploads/2016/04/Von-Neumann-Architecture-Diagram.jpg'/>\n",
    "<br><br>\n",
    "<br><br>\n",
    "\n",
    "- **So what's a computer look like inside, really**\n",
    "  - ALU: arithmetic & bitwise operations\n",
    "  - CU: controls program flow, holds Instruction Pointer\n",
    "  - I/O: Communications with the outside world (screen, keyboard)\n",
    "  - Memory: stores both data and instructions. Both can be manipulated"
   ]
  },
  {
   "cell_type": "markdown",
   "id": "0f6d4271-65cd-4109-8371-afe7ca61800f",
   "metadata": {
    "jp-MarkdownHeadingCollapsed": true,
    "slideshow": {
     "slide_type": "slide"
    }
   },
   "source": [
    "# What's a Programming Language?"
   ]
  },
  {
   "cell_type": "markdown",
   "id": "c16bc199-c120-4647-800d-2124d80ad6e4",
   "metadata": {
    "slideshow": {
     "slide_type": "fragment"
    }
   },
   "source": [
    "> A well-defined way of writing text such that it can be executed by a computer to reach a certain effect or result."
   ]
  },
  {
   "cell_type": "markdown",
   "id": "9541cae5-8f34-4b04-8897-645382d59abe",
   "metadata": {
    "slideshow": {
     "slide_type": "fragment"
    }
   },
   "source": [
    "**demo** -- execute (simple) files; REPL"
   ]
  },
  {
   "cell_type": "markdown",
   "id": "e16a1c6e-e079-4f54-b2f3-00ede10d109c",
   "metadata": {
    "jp-MarkdownHeadingCollapsed": true,
    "slideshow": {
     "slide_type": "slide"
    }
   },
   "source": [
    "# Properties of the Python Language"
   ]
  },
  {
   "cell_type": "markdown",
   "id": "81b53484-7cea-4da4-82d6-dc47cdde6281",
   "metadata": {},
   "source": [
    "- multi-paradigm:\n",
    "  - object-oriented (classes) and/or\n",
    "  - functional (eg recursion) and/or\n",
    "  - procedural (eg loops)\n",
    "- strongly typed\n",
    "- dynamically typed\n",
    "- whitespace-sensitive"
   ]
  },
  {
   "cell_type": "markdown",
   "id": "de5996d9-6d7a-4b7c-be10-dd7457935550",
   "metadata": {
    "jp-MarkdownHeadingCollapsed": true,
    "slideshow": {
     "slide_type": "slide"
    }
   },
   "source": [
    "# Syntax and Semantics"
   ]
  },
  {
   "cell_type": "markdown",
   "id": "89b2dc25-cdf2-4860-93a7-f114d00bc312",
   "metadata": {
    "slideshow": {
     "slide_type": "slide"
    }
   },
   "source": [
    "### Syntax: Formal rules which (lines of) text are valid code in a given language."
   ]
  },
  {
   "cell_type": "code",
   "execution_count": null,
   "id": "7a48028c-b8c0-45f7-9905-aa8aa0217ea5",
   "metadata": {
    "slideshow": {
     "slide_type": "fragment"
    }
   },
   "outputs": [],
   "source": [
    "\"Hello World\""
   ]
  },
  {
   "cell_type": "code",
   "execution_count": null,
   "id": "5ffe1674-34dd-4a35-a2d4-0b5effee436e",
   "metadata": {
    "slideshow": {
     "slide_type": "fragment"
    }
   },
   "outputs": [],
   "source": [
    "23"
   ]
  },
  {
   "cell_type": "code",
   "execution_count": null,
   "id": "ddc9e43d-4d5f-4712-aa24-af1a3c242c95",
   "metadata": {
    "slideshow": {
     "slide_type": "fragment"
    }
   },
   "outputs": [],
   "source": [
    "2 3"
   ]
  },
  {
   "cell_type": "code",
   "execution_count": null,
   "id": "f3a7e924-a596-49df-b3a7-602cffd87c76",
   "metadata": {},
   "outputs": [],
   "source": [
    "# comments are ignored\n",
    "# anything starting with a `#` is a comment in python\n",
    "print(3 + 5)  # this is still a comment"
   ]
  },
  {
   "cell_type": "markdown",
   "id": "f2385ae9-056b-4ef7-8406-fecaa630c6fb",
   "metadata": {
    "jp-MarkdownHeadingCollapsed": true,
    "slideshow": {
     "slide_type": "slide"
    }
   },
   "source": [
    "### Semantics: Meaning of certain line(s) of code, i.e. the 'intention of' code, or knowledge about the effect of a given piece of code."
   ]
  },
  {
   "cell_type": "markdown",
   "id": "eb41627d-63e8-4894-89d1-8e26c7dc914a",
   "metadata": {},
   "source": [
    "- Not everything that's syntactically valid is also semantically meaningful:\n",
    "  - Blue lemons flow particularly high.\n",
    "  - I own a four-sided sphere."
   ]
  },
  {
   "cell_type": "code",
   "execution_count": null,
   "id": "ba4f6a3b-6ae9-4316-8832-54bc76966519",
   "metadata": {},
   "outputs": [],
   "source": [
    "# syntactically valid, but semantically wrong\n",
    "def sum(a, b):\n",
    "    return a*b"
   ]
  },
  {
   "cell_type": "markdown",
   "id": "16073d0a-c8f7-49e8-8114-750ff83f7e24",
   "metadata": {
    "slideshow": {
     "slide_type": "slide"
    }
   },
   "source": [
    "# Some First Concepts:"
   ]
  },
  {
   "cell_type": "markdown",
   "id": "d16413ef-1762-41b8-8969-77be7d4f7cb0",
   "metadata": {
    "jp-MarkdownHeadingCollapsed": true
   },
   "source": [
    "### Variables\n"
   ]
  },
  {
   "cell_type": "markdown",
   "id": "37e0c79f-fdf8-4024-a408-814fc43066e0",
   "metadata": {},
   "source": [
    "- named memory location\n",
    "- stores a (typed) value\n",
    "- can in general be read (retrieving the value) or written (storing the value; assignment)"
   ]
  },
  {
   "cell_type": "markdown",
   "id": "d5195afc-6f0e-4106-813c-2c076251492e",
   "metadata": {
    "jp-MarkdownHeadingCollapsed": true
   },
   "source": [
    "### Data Types"
   ]
  },
  {
   "cell_type": "markdown",
   "id": "36116abc-5d44-494b-81d2-e34e6f0d8620",
   "metadata": {},
   "source": [
    "- categories of data/values\n",
    "- required to interpret the value stored in that memory location"
   ]
  },
  {
   "cell_type": "markdown",
   "id": "37d3e8d9-c6fa-4681-9a92-47109c4c8c78",
   "metadata": {
    "jp-MarkdownHeadingCollapsed": true
   },
   "source": [
    "## Variables"
   ]
  },
  {
   "cell_type": "code",
   "execution_count": null,
   "id": "3ca1d6d4-ac93-4eb3-b533-8e7ddab670bc",
   "metadata": {},
   "outputs": [],
   "source": [
    "# implicit declaration and assignment (only declaration is not possible, the closest you can come is assigning 'None')\n",
    "# assignment operator `=`\n",
    "# no explicit memory management, python takes care of everything\n",
    "int_variable = 5\n",
    "str_variable = 'hello'\n",
    "\n",
    "# dynamic typing\n",
    "int_variable = 3.14\n",
    "str_variable = False\n",
    "\n",
    "# strong typing\n",
    "a = 5\n",
    "b = '5'\n",
    "print('The type of `a` is', type(a))\n",
    "print('The type of `b` is', type(b))\n",
    "\n",
    "print('is a the same as b:', a == b)\n",
    "print('is 97 the same as \"a\":',  97 == 'a')\n"
   ]
  },
  {
   "cell_type": "code",
   "execution_count": null,
   "id": "8c38487e-eb3e-49f7-ad7e-4bd75fc499bc",
   "metadata": {},
   "outputs": [],
   "source": [
    "print('can I add strings and numbers?')\n",
    "'3' + 5"
   ]
  },
  {
   "cell_type": "code",
   "execution_count": null,
   "id": "efa38013-df77-4cb5-b5f2-20b399cee8b0",
   "metadata": {},
   "outputs": [],
   "source": [
    "# error message depends on the argument order though\n",
    "5 + '3'"
   ]
  },
  {
   "cell_type": "code",
   "execution_count": null,
   "id": "c27f7838-fd97-42ac-b82b-e0f8dc0586f5",
   "metadata": {},
   "outputs": [],
   "source": [
    "# id function: identity of object -- typically the memory location the object is stored at\n",
    "print(id('123'))\n",
    "print(id(5))"
   ]
  },
  {
   "cell_type": "markdown",
   "id": "2fc9c64a-665d-4e6a-b1fc-1e15da429333",
   "metadata": {
    "slideshow": {
     "slide_type": "slide"
    }
   },
   "source": [
    "## Data Types:"
   ]
  },
  {
   "cell_type": "markdown",
   "id": "6195efef-a0db-44b7-811c-759945b184d9",
   "metadata": {
    "jp-MarkdownHeadingCollapsed": true
   },
   "source": [
    "### Overview:"
   ]
  },
  {
   "cell_type": "markdown",
   "id": "02ec49ef-cdc3-435f-8037-f57fc9364aee",
   "metadata": {},
   "source": [
    "- Numerical:\n",
    "  - bool, int, float, complex\n",
    "- Immutable sequences:\n",
    "  - tuple, str, bytes\n",
    "- Mutable sequences:\n",
    "  - list, bytearray\n",
    "- Sets\n",
    "  -set, frozenset \n",
    "- Mappings:\n",
    "  - dict"
   ]
  },
  {
   "cell_type": "markdown",
   "id": "3f7a900d-9cd4-47ae-9e6d-a32b9cd0804b",
   "metadata": {
    "jp-MarkdownHeadingCollapsed": true
   },
   "source": [
    "### Numerical\n",
    "- There are three distinct numeric types:\n",
    "  - integers\n",
    "  - floating point numbers\n",
    "  - complex numbers\n",
    "- Also, one subtype of integers:\n",
    "  - Booleans"
   ]
  },
  {
   "cell_type": "markdown",
   "id": "41f20742-8975-47f3-ad2f-7883ea0906ae",
   "metadata": {},
   "source": [
    "#### Integer\n",
    "- (signed) integral numbers\n",
    "- arbitrary size (!)"
   ]
  },
  {
   "cell_type": "code",
   "execution_count": null,
   "id": "7253cb4f-3cec-470f-a34c-93a7599e0b55",
   "metadata": {},
   "outputs": [],
   "source": [
    "# construction of integers\n",
    "\n",
    "x = 5  # literal\n",
    "y = int(5)  # 'class constructor'\n",
    "z = int('5')  # 'class constructor with type conversion\n",
    "x == y == z"
   ]
  },
  {
   "cell_type": "code",
   "execution_count": null,
   "id": "40af6b6f-afe5-4cb4-90a5-7698cdbcbff8",
   "metadata": {},
   "outputs": [],
   "source": [
    "# common bases\n",
    "\n",
    "x = 0x0F\n",
    "y = 0o17\n",
    "z = 0b00001111\n",
    "\n",
    "x == y == z"
   ]
  },
  {
   "cell_type": "code",
   "execution_count": null,
   "id": "dcfeb704-464f-4c5c-94c7-cf466ff4c9a4",
   "metadata": {},
   "outputs": [],
   "source": [
    "# arbitrary basis\n",
    "\n",
    "int('12321', 4)"
   ]
  },
  {
   "cell_type": "code",
   "execution_count": null,
   "id": "bfe72725-dde8-4625-8b49-68ffbce9f677",
   "metadata": {},
   "outputs": [],
   "source": [
    "# arbitrary precision integers in python\n",
    "\n",
    "print(2**65)\n",
    "print(type(2**65))\n",
    "2**1000"
   ]
  },
  {
   "cell_type": "code",
   "execution_count": null,
   "id": "f6413ddb-8f6c-4e18-9470-c150c7209de0",
   "metadata": {},
   "outputs": [],
   "source": [
    "# the memory location doesn't just store the value in python, there's actually more attached to this object\n",
    "# objects with methods\n",
    "print([x for x in dir(int) if not x.startswith('_')])\n",
    "print()\n",
    "\n",
    "x = 5\n",
    "print('5 ==', bin(x))\n",
    "print('bit_length() ==', x.bit_length())\n",
    "print()\n",
    "\n",
    "x = 2**65\n",
    "print('2**65 ==', bin(x))\n",
    "print('bit_count() ==', x.bit_count())"
   ]
  },
  {
   "cell_type": "code",
   "execution_count": null,
   "id": "925600c2-ec58-4ed7-ae4d-b74644b17470",
   "metadata": {},
   "outputs": [],
   "source": [
    "# for numeric types in particular, this doesn't work on literals\n",
    "5.bit_length()"
   ]
  },
  {
   "cell_type": "markdown",
   "id": "db602670-939a-4ee3-926f-36278ffc6111",
   "metadata": {},
   "source": [
    "#### Floats\n",
    "- real numbers\n",
    "- implementation dependent!\n",
    "- no difference between single- and double-precision"
   ]
  },
  {
   "cell_type": "code",
   "execution_count": null,
   "id": "344e036c-9309-492f-a1d1-c852efedb986",
   "metadata": {},
   "outputs": [],
   "source": [
    "# construction of floats\n",
    "\n",
    "x = 3.1415  # literal\n",
    "y = float(3.1415)  # 'class constructor'\n",
    "z = float('3.1415')  # 'class constructor with type conversion'\n",
    "\n",
    "x == y == z"
   ]
  },
  {
   "cell_type": "code",
   "execution_count": null,
   "id": "dcd36d11-6232-4809-aa1d-c0244890d2ed",
   "metadata": {},
   "outputs": [],
   "source": [
    "# other notations\n",
    "x = 31.415e-1\n",
    "y = 3.1415E0\n",
    "x == y"
   ]
  },
  {
   "cell_type": "code",
   "execution_count": null,
   "id": "d0731fa2-7c09-4450-99d3-b855748c64cd",
   "metadata": {},
   "outputs": [],
   "source": [
    "# special instances of floats\n",
    "print(float('NaN'))\n",
    "print(float('+Infinity'))\n",
    "print(float('-Infinity'))"
   ]
  },
  {
   "cell_type": "code",
   "execution_count": null,
   "id": "1f976ee2-ff8e-46d3-900e-1b00936d5949",
   "metadata": {},
   "outputs": [],
   "source": [
    "# objects with methods\n",
    "\n",
    "print([x for x in dir(float) if not x.startswith('_')])\n",
    "print()\n",
    "\n",
    "x = 3.0\n",
    "y = 3.1415\n",
    "\n",
    "print(type(x), x.is_integer())\n",
    "print(type(y), y.is_integer())\n",
    "print()\n",
    "print(y.as_integer_ratio())"
   ]
  },
  {
   "cell_type": "markdown",
   "id": "96e69f53-ce5c-40d9-96c5-b6e111503cde",
   "metadata": {},
   "source": [
    "#### Complex\n",
    "\n",
    "- pretty much like float\n",
    "- but with real and imaginary part\n",
    "- imaginary part initialized with `j`"
   ]
  },
  {
   "cell_type": "code",
   "execution_count": null,
   "id": "4eb38aca-bce2-4bed-a1ac-5c8e1917a4d9",
   "metadata": {},
   "outputs": [],
   "source": [
    "z1 = 3.14 - 2.718j\n",
    "z1"
   ]
  },
  {
   "cell_type": "code",
   "execution_count": null,
   "id": "e6bd2e0a-1f0b-4b7e-90ec-3cbd5e72c3aa",
   "metadata": {},
   "outputs": [],
   "source": [
    "z1.conjugate()"
   ]
  },
  {
   "cell_type": "markdown",
   "id": "5aaa6dd1-5011-40f4-afc1-b4e83b01e6a9",
   "metadata": {},
   "source": [
    "#### Boolean\n",
    "- subtype of integer\n",
    "- keywords for initialization: `True`, `False`\n",
    "- rule of thumb: `None`, `0` in all numeric types, empty sequences and containers are evaluated as False. Anything else is evaluated as True."
   ]
  },
  {
   "cell_type": "code",
   "execution_count": null,
   "id": "91471e5d-cee4-4871-9865-5cdc8c75415b",
   "metadata": {},
   "outputs": [],
   "source": [
    "t = True\n",
    "f = False\n",
    "\n",
    "print(t == f)"
   ]
  },
  {
   "cell_type": "code",
   "execution_count": null,
   "id": "a49d777a-f593-472f-a892-689373633b72",
   "metadata": {},
   "outputs": [],
   "source": [
    "print(bool(1))\n",
    "print(bool(0))"
   ]
  },
  {
   "cell_type": "code",
   "execution_count": null,
   "id": "e4f77839-8913-46f3-83f1-7b4ffb813bb6",
   "metadata": {},
   "outputs": [],
   "source": [
    "bool(2)"
   ]
  },
  {
   "cell_type": "code",
   "execution_count": null,
   "id": "4206f741-087f-4079-ad31-2a64498f0b24",
   "metadata": {},
   "outputs": [],
   "source": [
    "bool('a')"
   ]
  },
  {
   "cell_type": "code",
   "execution_count": null,
   "id": "f56cbd26-c8b3-43f0-8b17-4da551ea92f8",
   "metadata": {},
   "outputs": [],
   "source": [
    "bool('')"
   ]
  },
  {
   "cell_type": "code",
   "execution_count": null,
   "id": "09a48f31-fec6-415b-87bb-ad535de7b28a",
   "metadata": {},
   "outputs": [],
   "source": [
    "print(bool(3.1 + 2j))\n",
    "print(bool(0 + 3j))\n",
    "print(bool(3 + 0j))\n",
    "print(bool(0 + 0j))"
   ]
  },
  {
   "cell_type": "markdown",
   "id": "fa5c556a-e0b7-47a0-a700-435597bf5f51",
   "metadata": {
    "jp-MarkdownHeadingCollapsed": true
   },
   "source": [
    "### Sequences\n",
    "- finite, ordered group of elements\n",
    "- 0-indexed: index 0...N-1 for sequence of length N\n",
    "- All sequences support `len` to determine length of the sequence\n",
    "- All sequences support indexing and slicing (see examples below)\n",
    "- All sequences support membership tests `x in s` / `x not in s`\n",
    "- All sequences support (repeated) concatenation using the `+` and `*` operators\n",
    "- All sequences support `index` and `count` methods (see below)"
   ]
  },
  {
   "cell_type": "markdown",
   "id": "0b79c948-3f0b-4349-8da3-34d32869dc28",
   "metadata": {},
   "source": [
    "#### Immutable sequence: Tuple\n",
    "- Tuples are immutable sequences, typically used to store collections of heterogeneous data or where an immutable (hashable) sequence of homogeneous data is needed\n",
    "- In addition to the common operations they support the `hash` operation\n",
    "- elements can be arbitrary (mixed type) python objects\n",
    "- initialization as comma-separated list (usually) enclosed by round brackets"
   ]
  },
  {
   "cell_type": "code",
   "execution_count": null,
   "id": "9f96e47c-7678-42db-97f1-3c9373913a3b",
   "metadata": {},
   "outputs": [],
   "source": [
    "t1 = (1, 2, 3)\n",
    "t2 = tuple((1, 2, 3))\n",
    "t3 = 1, 2, 3\n",
    "t1 == t2 == t3"
   ]
  },
  {
   "cell_type": "code",
   "execution_count": null,
   "id": "842a190f-5614-4808-ba6c-1e6933414c1e",
   "metadata": {},
   "outputs": [],
   "source": [
    "# len of sequence:\n",
    "len(t1)"
   ]
  },
  {
   "cell_type": "code",
   "execution_count": null,
   "id": "efea07a5-c1f3-4981-af2e-b407fa92cb9b",
   "metadata": {},
   "outputs": [],
   "source": [
    "# mixed type:\n",
    "t_mix = (1, 'a', 2.5, (3, 4, 5), int)\n",
    "print(t_mix)"
   ]
  },
  {
   "cell_type": "code",
   "execution_count": null,
   "id": "2a21152f-a44c-4845-88a8-f817faf1af5a",
   "metadata": {},
   "outputs": [],
   "source": [
    "# indexing\n",
    "print('at index 0', t1[0])\n",
    "print('at index 1', t1[1])\n",
    "print('at index 2', t1[2])"
   ]
  },
  {
   "cell_type": "code",
   "execution_count": null,
   "id": "4c886dd3-7e12-4280-a37b-0c6317369064",
   "metadata": {},
   "outputs": [],
   "source": [
    "# can not index beyond boundaries\n",
    "t1[3]"
   ]
  },
  {
   "cell_type": "code",
   "execution_count": null,
   "id": "f8d6a128-c2c0-4001-9f8d-79c29fb830e0",
   "metadata": {},
   "outputs": [],
   "source": [
    "# but can index 'from the back', starting with the last element at index -1\n",
    "print('at index -1', t1[-1])\n",
    "print('at index -2', t1[-2])\n",
    "print('at index -3', t1[-3])"
   ]
  },
  {
   "cell_type": "code",
   "execution_count": null,
   "id": "e16c3bb1-a041-4bde-94e7-9b2b7878d3a0",
   "metadata": {},
   "outputs": [],
   "source": [
    "# can not index beyond boundaries this way either\n",
    "t1[-4]"
   ]
  },
  {
   "cell_type": "code",
   "execution_count": null,
   "id": "2f18cd37-be41-48c4-a7d9-e2f4b56b2d8b",
   "metadata": {},
   "outputs": [],
   "source": [
    "# slicing: extracting a sub-sequence\n",
    "# lower bound inclusive, upper bound exclusive!\n",
    "t1 = (1, 2, 3, 4, 5)\n",
    "print('t1[0:5]', t1[0:5])\n",
    "print('t1[0:4]', t1[0:4])\n",
    "print('t1[0:3]', t1[0:3])\n",
    "print('t1[1:5]', t1[1:5])\n",
    "print('t1[2:4]', t1[2:4])"
   ]
  },
  {
   "cell_type": "code",
   "execution_count": null,
   "id": "370777a7-c74f-484b-9439-491afb5e2098",
   "metadata": {},
   "outputs": [],
   "source": [
    "# 'open-ended' slicing\n",
    "print('t1[3:]', t1[3:])\n",
    "print('t1[:3]', t1[:3])\n",
    "print('t1[:3], t1[3:]', t1[:3], t1[3:])"
   ]
  },
  {
   "cell_type": "code",
   "execution_count": null,
   "id": "092d4b49-6e85-432e-9d3f-b9a9a0a7767f",
   "metadata": {},
   "outputs": [],
   "source": [
    "# immutable: no assignment to elements\n",
    "t1[2] = 7"
   ]
  },
  {
   "cell_type": "code",
   "execution_count": null,
   "id": "c1455c40-90cd-4715-894e-e45cfe1c61e6",
   "metadata": {},
   "outputs": [],
   "source": [
    "# but of course I can make the variable point at another object\n",
    "t1 = (1, 2, 7, 4, 5)\n",
    "print(t1)"
   ]
  },
  {
   "cell_type": "code",
   "execution_count": null,
   "id": "47bd4c1b-0fe2-45a0-ad9d-41e3ba6b779b",
   "metadata": {},
   "outputs": [],
   "source": [
    "# again, objects with methods\n",
    "print([x for x in dir(tuple()) if not x.startswith('_')])\n",
    "print()"
   ]
  },
  {
   "cell_type": "code",
   "execution_count": null,
   "id": "27906048-d79d-400d-a94b-fb887154206e",
   "metadata": {},
   "outputs": [],
   "source": [
    "('a', 'b', 'a', 'c').count('a')"
   ]
  },
  {
   "cell_type": "code",
   "execution_count": null,
   "id": "c71232b6-514e-4e34-8870-0f55d6294db7",
   "metadata": {},
   "outputs": [],
   "source": [
    "('a', 'b', 'a', 'c').index('b')"
   ]
  },
  {
   "cell_type": "code",
   "execution_count": null,
   "id": "9c3f1a10-5dba-43ef-a2c7-7cdfd939e90a",
   "metadata": {},
   "outputs": [],
   "source": [
    "('a', 'b', 'a', 'c').index('a')"
   ]
  },
  {
   "cell_type": "markdown",
   "id": "849d9d09-d363-4d7a-af51-e17d1d46baaa",
   "metadata": {},
   "source": [
    "#### Mutable Sequence: list\n",
    "- Lists are mutable sequences, typically used to store collections of homogeneous items\n",
    "- elements can be arbitrary (mixed type) python objects\n",
    "- creation with square brackets\n",
    "- most behaviour identical to tuples\n",
    "- with additional methods to modify the sequence, e.g. element assignment, `del`, `append`/`extend`, `remove`, `pop`"
   ]
  },
  {
   "cell_type": "code",
   "execution_count": null,
   "id": "5aa7d175-7d1d-4570-8932-05bdbdfb1c1e",
   "metadata": {},
   "outputs": [],
   "source": [
    "l1 = [1, 2, 3]\n",
    "l2 = list([1, 2, 3])"
   ]
  },
  {
   "cell_type": "code",
   "execution_count": null,
   "id": "a83bd20b-b431-4917-900c-995cb9438c8d",
   "metadata": {},
   "outputs": [],
   "source": [
    "# conversion between tuples and lists\n",
    "l1 = list((1, 2, 3))\n",
    "t1 = tuple([1, 2, 3])\n",
    "print(l1)\n",
    "print(t1)"
   ]
  },
  {
   "cell_type": "code",
   "execution_count": null,
   "id": "118d5be1-3802-4400-8fa4-b413eaa57b17",
   "metadata": {},
   "outputs": [],
   "source": [
    "# but lists support item assignment\n",
    "print('before assignment', l1, id(l1))\n",
    "l1[1] = 7\n",
    "print('after assignment', l1, id(l1))"
   ]
  },
  {
   "cell_type": "code",
   "execution_count": null,
   "id": "97fe6239-55b7-486d-b61e-d19eb0f91070",
   "metadata": {},
   "outputs": [],
   "source": [
    "# again, objects with methods\n",
    "print([x for x in dir(list()) if not x.startswith('_')])\n",
    "print()"
   ]
  },
  {
   "cell_type": "code",
   "execution_count": null,
   "id": "ad82fbe7-5fdb-4fe7-beb5-2fe581ae210b",
   "metadata": {},
   "outputs": [],
   "source": [
    "# mutability also allows inserting and appending elements\n",
    "l1 = [1, 2, 3]\n",
    "print(l1, id(l1))\n",
    "l1.append(7)\n",
    "print(l1, id(l1))"
   ]
  },
  {
   "cell_type": "code",
   "execution_count": null,
   "id": "2e46928b-395a-4c10-a991-c46fabea5654",
   "metadata": {},
   "outputs": [],
   "source": [
    "l1 = [1, 2, 3]\n",
    "print(l1, id(l1))\n",
    "l1.insert(1, 7)\n",
    "print(l1, id(l1))"
   ]
  },
  {
   "cell_type": "code",
   "execution_count": null,
   "id": "40e3e874-c259-4e0d-864d-42ee49ad79a6",
   "metadata": {},
   "outputs": [],
   "source": [
    "# or deleting elements\n",
    "l1 = [1, 2, 3]\n",
    "del l1[1]\n",
    "l1"
   ]
  },
  {
   "cell_type": "code",
   "execution_count": null,
   "id": "7d68fa6c-29d8-4579-b8ab-b1d15c89b316",
   "metadata": {},
   "outputs": [],
   "source": [
    "# can be sorted and reversed\n",
    "l1 = [4, 1, 3, 2]\n",
    "l1.sort()\n",
    "l1"
   ]
  },
  {
   "cell_type": "code",
   "execution_count": null,
   "id": "7e06b605-7714-49ab-826f-bbdc791889fd",
   "metadata": {},
   "outputs": [],
   "source": [
    "l1.reverse()\n",
    "l1"
   ]
  },
  {
   "cell_type": "code",
   "execution_count": null,
   "id": "0fe78a17-2664-443f-bf10-cee13c75705f",
   "metadata": {},
   "outputs": [],
   "source": [
    "# again, objects with methods\n",
    "print([x for x in dir(list()) if not x.startswith('_')])\n",
    "print()"
   ]
  },
  {
   "cell_type": "markdown",
   "id": "bb973294-95a4-441c-826e-71a6534e3638",
   "metadata": {},
   "source": [
    "#### Immutable sequence: Strings\n",
    "- Textual data in Python is handled with str objects, or strings. Strings are immutable sequences of Unicode code points\n",
    "- Strings can be single- (`'`) or double-quote (`\"`) delimited\n",
    "- Three quotes on each end can be used for multi-line strings\n",
    "- Backslash `\\` as escape character\n",
    "- Strings in Python always hold Unicode text\n",
    "- Strings are objects with methods"
   ]
  },
  {
   "cell_type": "code",
   "execution_count": null,
   "id": "92e4523d-9498-4510-8afd-6a9ff139ed87",
   "metadata": {},
   "outputs": [],
   "source": [
    "print('This is a string')\n",
    "print(\"This, too, is a string\")"
   ]
  },
  {
   "cell_type": "code",
   "execution_count": null,
   "id": "06011494-87de-4927-9673-bffb6389fadd",
   "metadata": {},
   "outputs": [],
   "source": [
    "print('''Here is a string\n",
    "that can span more than one line''')"
   ]
  },
  {
   "cell_type": "code",
   "execution_count": null,
   "id": "3fe694b5-590f-4eea-8e6b-fc337a5a84a2",
   "metadata": {},
   "outputs": [],
   "source": [
    "print('Here\\'s a tab: \\t and you create a backslash like this: \\\\. \\nYou can create newlines, too.')"
   ]
  },
  {
   "cell_type": "code",
   "execution_count": null,
   "id": "bb24d4c3-745f-4ba4-8fbb-58eaf7ffed9c",
   "metadata": {},
   "outputs": [],
   "source": [
    "print('😀 or \\U0001F622')"
   ]
  },
  {
   "cell_type": "code",
   "execution_count": null,
   "id": "9823f555-b178-4e26-9922-68ae206c665d",
   "metadata": {},
   "outputs": [],
   "source": [
    "print([x for x in dir('') if not x.startswith('_')])  # see also: https://docs.python.org/3/library/stdtypes.html#text-sequence-type-str"
   ]
  },
  {
   "cell_type": "code",
   "execution_count": null,
   "id": "3db3e45b-67b8-4f9c-a201-c8155c92b72b",
   "metadata": {},
   "outputs": [],
   "source": [
    "# concatenate multiple strings with a separator\n",
    "', '.join(('foo', 'bar', 'baz'))"
   ]
  },
  {
   "cell_type": "code",
   "execution_count": null,
   "id": "a02d4943-5219-4438-ba74-f69807c380b4",
   "metadata": {},
   "outputs": [],
   "source": [
    "'abc'.upper()  # lower, capitalize, casefold, ..."
   ]
  },
  {
   "cell_type": "code",
   "execution_count": null,
   "id": "560a3c76-0a21-48e4-b1f6-c31997483bc1",
   "metadata": {},
   "outputs": [],
   "source": [
    "'abca'.count('a')"
   ]
  },
  {
   "cell_type": "code",
   "execution_count": null,
   "id": "1ce27a6d-7ab7-4cb3-b7a2-c6955c401c38",
   "metadata": {},
   "outputs": [],
   "source": [
    "print('This is an awesome string'.find('a'))"
   ]
  },
  {
   "cell_type": "code",
   "execution_count": null,
   "id": "957aa041-316b-4c04-aab1-addc89083f0e",
   "metadata": {},
   "outputs": [],
   "source": [
    "'This is an awesome string'[8]"
   ]
  },
  {
   "cell_type": "code",
   "execution_count": null,
   "id": "8109f2e7-44de-4091-a089-4d450de14c85",
   "metadata": {},
   "outputs": [],
   "source": [
    "'This is an awesome string'[8] = 'b'"
   ]
  },
  {
   "cell_type": "code",
   "execution_count": null,
   "id": "9ea5e8aa-d0f1-4dd7-81c4-99fa554b5769",
   "metadata": {},
   "outputs": [],
   "source": [
    "'This is an awesome string'.replace('string', 'example')"
   ]
  },
  {
   "cell_type": "code",
   "execution_count": null,
   "id": "6d8a8fa9-2892-4c32-b156-7b38dd1ba023",
   "metadata": {},
   "outputs": [],
   "source": [
    "# not mutation!\n",
    "s = 'This is an awesome string'\n",
    "s.replace('string', 'example')\n",
    "s"
   ]
  },
  {
   "cell_type": "markdown",
   "id": "eb3656dc-b4f6-4426-bd60-baca12c012da",
   "metadata": {},
   "source": [
    "##### String Interpolation\n",
    "- using f-strings only\n",
    "- details on interpolation language: https://docs.python.org/3/library/string.html#formatspec"
   ]
  },
  {
   "cell_type": "code",
   "execution_count": null,
   "id": "13ba2986-be9f-4954-815e-a322181fc807",
   "metadata": {},
   "outputs": [],
   "source": [
    "some_var = 'John'\n",
    "print(f'My name is {some_var}')\n",
    "print()\n",
    "print(f'My centered, padded name is \"{some_var:^12}\"')\n",
    "print(f'My left-aligned, padded name is \"{some_var:<12}\"')\n",
    "print(f'My right-aligned, padded name is \"{some_var:>12}\"')"
   ]
  },
  {
   "cell_type": "code",
   "execution_count": null,
   "id": "c52a8ebb-a448-4cde-a775-6443b6de561a",
   "metadata": {},
   "outputs": [],
   "source": [
    "some_number = 42\n",
    "print(f'the value is {some_number}')\n",
    "print(f'the value is {some_number + 11}')"
   ]
  },
  {
   "cell_type": "code",
   "execution_count": null,
   "id": "366a9391-a90f-4579-aad2-b4654deb967b",
   "metadata": {},
   "outputs": [],
   "source": [
    "print(f'the value really is {some_number:#x}')\n",
    "print(f'the value really is {some_number:#o}')\n",
    "print(f'the value really is {some_number:#b}')"
   ]
  },
  {
   "cell_type": "code",
   "execution_count": null,
   "id": "a55865ed-b501-4028-a5e8-9e69ad93df98",
   "metadata": {},
   "outputs": [],
   "source": [
    "print(f'the value really is {some_number:#032b}')"
   ]
  },
  {
   "cell_type": "code",
   "execution_count": null,
   "id": "241e1050-5cbe-4cc8-8bdf-8eeb4d9c5dd1",
   "metadata": {},
   "outputs": [],
   "source": [
    "real_number = 3.141592\n",
    "print(f'the real number is {real_number}')\n",
    "print(f'the real number is {real_number:10.5}')\n",
    "print(f'the real number is {real_number:010.5}')\n",
    "print(f'the real number is {-real_number:010.5}')"
   ]
  },
  {
   "cell_type": "code",
   "execution_count": null,
   "id": "5a0d9f6e-cb8d-4592-b84e-b0fa73ee439b",
   "metadata": {},
   "outputs": [],
   "source": [
    "some_list = [1, 2, 3, 4]\n",
    "print(f'a list looks like {some_list}')"
   ]
  },
  {
   "cell_type": "code",
   "execution_count": null,
   "id": "d5ce2f53-d063-4d30-963f-63a7145fd143",
   "metadata": {},
   "outputs": [],
   "source": [
    "# anything goes really\n",
    "print(f'the string class looks like {str}')"
   ]
  },
  {
   "cell_type": "code",
   "execution_count": null,
   "id": "572a3441-c40f-4959-92ef-a4d3e2fe1239",
   "metadata": {},
   "outputs": [],
   "source": [
    "print(f'Real useful for print-debugging: {some_number=}, {some_var=}, {real_number=}')"
   ]
  },
  {
   "cell_type": "markdown",
   "id": "12b3894f-3ea7-4499-ac1e-7f22fdb19526",
   "metadata": {},
   "source": [
    "#### Immutable Sequence: byte\n",
    "- Bytes objects are immutable sequences of single bytes.\n",
    "- sort of a counter-pair to string\n",
    "- while strings elements are any unicode character, byte elements are 8-bit bytes\n",
    "- Since many major binary protocols are based on the ASCII text encoding, bytes objects offer several methods that are only valid when working with ASCII compatible data\n",
    "- we can easily convert between string and byte representations\n",
    "- byte representations depend on the encoding, of course\n",
    "- supports all common sequence operations, as well as a number of features available to strings"
   ]
  },
  {
   "cell_type": "code",
   "execution_count": null,
   "id": "fbb4e566-2cbd-43f1-9c51-831ea0f82bd4",
   "metadata": {},
   "outputs": [],
   "source": [
    "# byte literals only for ascii-compatible values, anything larger must be entered as escape sequence\n",
    "b'abc'"
   ]
  },
  {
   "cell_type": "code",
   "execution_count": null,
   "id": "073e42a7-1c5d-4821-813d-75170628bb16",
   "metadata": {},
   "outputs": [],
   "source": [
    "b'abc' == 'abc'.encode()"
   ]
  },
  {
   "cell_type": "code",
   "execution_count": null,
   "id": "f6798a44-9a7f-44b8-b832-7c5802db9737",
   "metadata": {},
   "outputs": [],
   "source": [
    "b'ü'"
   ]
  },
  {
   "cell_type": "code",
   "execution_count": null,
   "id": "448480cf-eb5b-42e2-b5d8-c3659ec52369",
   "metadata": {},
   "outputs": [],
   "source": [
    "b'\\xfc'.decode('iso-8859-1')"
   ]
  },
  {
   "cell_type": "code",
   "execution_count": null,
   "id": "8b3e77dc-d175-40fe-ba12-2c6e352abf5d",
   "metadata": {},
   "outputs": [],
   "source": [
    "'😀'.encode()"
   ]
  },
  {
   "cell_type": "code",
   "execution_count": null,
   "id": "7d80c3d1-c21f-4651-89a2-d8e684642fd0",
   "metadata": {},
   "outputs": [],
   "source": [
    "'😀'.encode('utf-16')"
   ]
  },
  {
   "cell_type": "code",
   "execution_count": null,
   "id": "3c38c039-69fe-428c-9f46-154e6babd2f3",
   "metadata": {},
   "outputs": [],
   "source": [
    "# otherwise same as other sequences\n",
    "s = '😀'\n",
    "bs = s.encode()\n",
    "print('length of the string:', len(s))\n",
    "print('length of the bytestring:', len(bs))\n",
    "bs[:2]"
   ]
  },
  {
   "cell_type": "code",
   "execution_count": null,
   "id": "e59b176a-472a-4f59-825c-ac4a4db167d3",
   "metadata": {},
   "outputs": [],
   "source": [
    "# individual elements are actually represented as integer numbers\n",
    "bs[0]"
   ]
  },
  {
   "cell_type": "code",
   "execution_count": null,
   "id": "52efdd21-9868-45f7-bc7c-39c860889777",
   "metadata": {},
   "outputs": [],
   "source": [
    "print([x for x in dir(b'') if not x.startswith('_')])  # see also: https://docs.python.org/3/library/stdtypes.html#text-sequence-type-str"
   ]
  },
  {
   "cell_type": "markdown",
   "id": "fad41a25-1556-441c-8bb2-7a131c368b78",
   "metadata": {},
   "source": [
    "#### Mutable Sequence: bytearray\n",
    "- mutable equivalent of byte\n",
    "- only 8-bit values can be assigned to elements"
   ]
  },
  {
   "cell_type": "code",
   "execution_count": null,
   "id": "e5a6dafa-44ad-4c4a-a1c3-e639f631c7fb",
   "metadata": {},
   "outputs": [],
   "source": [
    "ba = bytearray(bs)\n",
    "ba[0]"
   ]
  },
  {
   "cell_type": "code",
   "execution_count": null,
   "id": "a8587480-7fd5-4ef2-a5a6-2ebb527a5a4c",
   "metadata": {},
   "outputs": [],
   "source": [
    "ba[0] = 256"
   ]
  },
  {
   "cell_type": "code",
   "execution_count": null,
   "id": "5312d66b-e5e2-4296-a3e1-72baf0f4ddf9",
   "metadata": {},
   "outputs": [],
   "source": [
    "# but you can create byte sequences that are not valid unicode code points\n",
    "ba[0]=255\n",
    "ba.decode()"
   ]
  },
  {
   "cell_type": "code",
   "execution_count": null,
   "id": "4a227507-bc00-4a0b-b8db-7ff3d7d37c6e",
   "metadata": {},
   "outputs": [],
   "source": [
    "# other are\n",
    "ba[0] = 240\n",
    "ba[1] = 160\n",
    "ba.decode()"
   ]
  },
  {
   "cell_type": "markdown",
   "id": "8444861c-984c-47c9-95ef-0e9f8d5f34ff",
   "metadata": {
    "jp-MarkdownHeadingCollapsed": true
   },
   "source": [
    "### Set Types\n",
    "- A set object is an unordered collection of distinct hashable objects.\n",
    "- Basically an implementation of the mathematical `set` object.\n",
    "- unordered, hence no indexing or slicing\n",
    "- membership tests are fast"
   ]
  },
  {
   "cell_type": "code",
   "execution_count": null,
   "id": "723f4d8f-db1f-49b3-9ecb-e65ca00b6667",
   "metadata": {},
   "outputs": [],
   "source": [
    "s1 = {1, 2, 1, 3, 15, 2}\n",
    "print(s1)"
   ]
  },
  {
   "cell_type": "code",
   "execution_count": null,
   "id": "0d556b67-3e0a-4511-8488-bc62a75bdbd6",
   "metadata": {},
   "outputs": [],
   "source": [
    "# membership tests\n",
    "print(1 in s1)\n",
    "print(7 in s1)"
   ]
  },
  {
   "cell_type": "code",
   "execution_count": null,
   "id": "35cc007c-c3de-4b3a-9748-d26eb19ac4ae",
   "metadata": {},
   "outputs": [],
   "source": [
    "# watch out when creating from iterables (especially strings)\n",
    "set_of_letters = set('Hello World')\n",
    "set_of_words = set(['Hello', 'World'])\n",
    "print(set_of_letters)\n",
    "print(set_of_words)"
   ]
  },
  {
   "cell_type": "code",
   "execution_count": null,
   "id": "cae8e8c9-6f7b-4221-8009-997af84b7d9c",
   "metadata": {},
   "outputs": [],
   "source": [
    "# elements need to be hashable\n",
    "l1 = [1, 2, 3]\n",
    "l2 = [4, 5, 6]\n",
    "set([l1, l2])"
   ]
  },
  {
   "cell_type": "code",
   "execution_count": null,
   "id": "4608ddc5-fe5b-4ae2-b195-d680c532fd07",
   "metadata": {},
   "outputs": [],
   "source": [
    "t1 = (1, 2, 3)\n",
    "t2 = (4, 5, 6)\n",
    "set([t1, t2])"
   ]
  },
  {
   "cell_type": "code",
   "execution_count": null,
   "id": "3a121e51-734b-4717-944b-a9178876bda9",
   "metadata": {},
   "outputs": [],
   "source": [
    "# set operations:\n",
    "s1 = {1, 2, 5}\n",
    "s2 = {2, 5, 7}\n",
    "\n",
    "s1.union(s2)  # alternatively s1 | s2"
   ]
  },
  {
   "cell_type": "code",
   "execution_count": null,
   "id": "11ea6803-8bcc-4667-93a5-bda59102ecdc",
   "metadata": {},
   "outputs": [],
   "source": [
    "s1.intersection(s2) # alternatively s1 & S2"
   ]
  },
  {
   "cell_type": "code",
   "execution_count": null,
   "id": "2408ce92-cdb2-455f-b072-5d292597b993",
   "metadata": {},
   "outputs": [],
   "source": [
    "print(s1.difference(s2)) # alternatively s1 - s2\n",
    "print(s2.difference(s1)) # alternatively s2 - s1"
   ]
  },
  {
   "cell_type": "code",
   "execution_count": null,
   "id": "056dfa4b-4dfe-4bb5-b7b1-0f021dfe3146",
   "metadata": {},
   "outputs": [],
   "source": [
    "s1.symmetric_difference(s2) # alternatively s1 ^ s2, like xor"
   ]
  },
  {
   "cell_type": "code",
   "execution_count": null,
   "id": "9b36b7c7-58c5-4cf1-8ac1-ceb969280e7d",
   "metadata": {},
   "outputs": [],
   "source": [
    "# mutable\n",
    "s1.add(19)\n",
    "s1.remove(2)\n",
    "s1"
   ]
  },
  {
   "cell_type": "code",
   "execution_count": null,
   "id": "87775dc1-4dc3-48b8-9d82-d868387eb6aa",
   "metadata": {},
   "outputs": [],
   "source": [
    "print([x for x in dir(set()) if not x.startswith('_')])  # see also: https://docs.python.org/3/library/stdtypes.html#text-sequence-type-str"
   ]
  },
  {
   "cell_type": "markdown",
   "id": "73d01fca-7960-48e0-9f54-66be45db7999",
   "metadata": {
    "jp-MarkdownHeadingCollapsed": true
   },
   "source": [
    "### Mapping: Dictionaries\n",
    "- A mapping object maps hashable values to arbitrary objects. Mappings are mutable objects. `Dict` is the only mapping object built in to Python.\n",
    "- related to sets: basically sets with values (or vice versa: sets are dicts without values)\n",
    "- lookups are fast"
   ]
  },
  {
   "cell_type": "code",
   "execution_count": null,
   "id": "ff7c139d-2658-4acf-b4e4-97f07c15dbfe",
   "metadata": {},
   "outputs": [],
   "source": [
    "d1 = {'k1': 'v1', 'k2': 'v2'}\n",
    "d1['k1']"
   ]
  },
  {
   "cell_type": "code",
   "execution_count": null,
   "id": "1031d3cf-36d7-4f16-8419-368d10048529",
   "metadata": {},
   "outputs": [],
   "source": [
    "# insertions (and deletions)\n",
    "d1['k3'] = 'this is a new entry'\n",
    "d1"
   ]
  },
  {
   "cell_type": "code",
   "execution_count": null,
   "id": "f42cac91-ee05-4754-a789-bc4fdff387d8",
   "metadata": {},
   "outputs": [],
   "source": [
    "del d1['k1']\n",
    "d1"
   ]
  },
  {
   "cell_type": "code",
   "execution_count": null,
   "id": "4a2af270-c3d8-4d09-836d-a549b2d22b94",
   "metadata": {},
   "outputs": [],
   "source": [
    "# keys need to be hashable\n",
    "l1 = [1, 2, 3]\n",
    "d1[l1] = 5"
   ]
  },
  {
   "cell_type": "code",
   "execution_count": null,
   "id": "4908425b-6d30-4c02-a7ee-9c01549e501d",
   "metadata": {},
   "outputs": [],
   "source": [
    "t1 = (1, 2, 3)\n",
    "d1[t1] = 5\n",
    "d1"
   ]
  },
  {
   "cell_type": "code",
   "execution_count": null,
   "id": "3427f116-5dbd-486c-a5ae-467054b2f97c",
   "metadata": {},
   "outputs": [],
   "source": [
    "# retrieval\n",
    "d1['k2']"
   ]
  },
  {
   "cell_type": "code",
   "execution_count": null,
   "id": "9892c701-e657-4703-8c23-94410792843a",
   "metadata": {},
   "outputs": [],
   "source": [
    "# invalid keys\n",
    "d1['no key here']"
   ]
  },
  {
   "cell_type": "code",
   "execution_count": null,
   "id": "1a01fc25-7308-411a-a265-f5c9598c4cce",
   "metadata": {},
   "outputs": [],
   "source": [
    "# avoid the KeyError with `get`\n",
    "print(d1.get('no key here'))\n",
    "print(d1.get('no key here', 'default'))"
   ]
  },
  {
   "cell_type": "code",
   "execution_count": null,
   "id": "79bd3c34-932e-4d9f-89ed-c78d7bb0757d",
   "metadata": {},
   "outputs": [],
   "source": [
    "# returns (dynamic) view object\n",
    "d1.keys()"
   ]
  },
  {
   "cell_type": "code",
   "execution_count": null,
   "id": "6aacdb7c-61e8-479d-b48a-c77ede6b968d",
   "metadata": {},
   "outputs": [],
   "source": [
    "d1.values()"
   ]
  },
  {
   "cell_type": "code",
   "execution_count": null,
   "id": "a4715d08-0d85-4a9a-8aec-915924a2e6f1",
   "metadata": {},
   "outputs": [],
   "source": [
    "d1.items()  # useful for iterating over entries -- next week"
   ]
  },
  {
   "cell_type": "code",
   "execution_count": null,
   "id": "b462c941-1bf9-4db6-9720-fbc8ad0413ee",
   "metadata": {},
   "outputs": [],
   "source": [
    "# view change with the dictionary\n",
    "d1 = {'k1': 1, 'k2': 2}\n",
    "dict_keys = d1.keys()\n",
    "dict_keys_list = list(dict_keys)\n",
    "\n",
    "print(d1)\n",
    "print(dict_keys)\n",
    "print(dict_keys_list)\n",
    "\n",
    "d1['new_key'] = 5\n",
    "\n",
    "print('\\n#### after changing the dict ####')\n",
    "print(d1)\n",
    "print(dict_keys)\n",
    "print(dict_keys_list)\n",
    "\n"
   ]
  },
  {
   "cell_type": "code",
   "execution_count": null,
   "id": "6f58e733-46fc-418e-9a38-9604be591140",
   "metadata": {},
   "outputs": [],
   "source": [
    "print([x for x in dir(dict()) if not x.startswith('_')])  # see also: https://docs.python.org/3/library/stdtypes.html#text-sequence-type-str"
   ]
  },
  {
   "cell_type": "markdown",
   "id": "15702e64-9399-4c4a-a4cf-915a04ee5cc6",
   "metadata": {
    "jp-MarkdownHeadingCollapsed": true
   },
   "source": [
    "## Operators"
   ]
  },
  {
   "cell_type": "markdown",
   "id": "d5d05d3e-1127-4037-97b2-0d644aa4b514",
   "metadata": {
    "jp-MarkdownHeadingCollapsed": true
   },
   "source": [
    "### Arithmetic Operators\n",
    "- Addition (+)\n",
    "- Subtraction (-)\n",
    "- Division (/)\n",
    "- Multiplication (*)\n",
    "- Integer Division (//)\n",
    "- Modulo (%)\n",
    "- Power (**)"
   ]
  },
  {
   "cell_type": "code",
   "execution_count": null,
   "id": "294ff0d8-3b70-404c-8d94-36811f61d3dd",
   "metadata": {},
   "outputs": [],
   "source": [
    "# On Numbers\n",
    "print('3 + 5 = ', 3 + 5)\n",
    "print('3 - 5 = ', 3 - 5)\n",
    "print('3 / 5 = ', 3 / 5)\n",
    "print('3 * 5 = ', 3 * 5)\n",
    "print('3 // 5 = ', 3 // 5)\n",
    "print('3.0 // 5.0 = ', 3.0 // 5.0)\n",
    "print('3 % 5 = ', 3 % 5)\n",
    "print('3**5 = ', 3**5)\n",
    "print()\n",
    "print('-3 // 5 = ', -3 // 5)\n",
    "print('-3 % 5 = ', -3 % 5)\n",
    "print('3.0 // 5 = ', 3.0 // 5)"
   ]
  },
  {
   "cell_type": "code",
   "execution_count": null,
   "id": "42374b67-06a6-470f-b7e4-973ad2b1bc85",
   "metadata": {},
   "outputs": [],
   "source": [
    "# resulting types\n",
    "print(type(3 / 5))\n",
    "print(type(3 // 5))\n",
    "print(type(3.0 // 5))"
   ]
  },
  {
   "cell_type": "code",
   "execution_count": null,
   "id": "c9b3cc7b-2c06-4442-9610-506d30d0f670",
   "metadata": {},
   "outputs": [],
   "source": [
    "# not everything is valid\n",
    "1 / 0"
   ]
  },
  {
   "cell_type": "code",
   "execution_count": null,
   "id": "68dcfc3b-7ec3-4cd9-a62d-89ec08ffa1a9",
   "metadata": {},
   "outputs": [],
   "source": [
    "1. % 0."
   ]
  },
  {
   "cell_type": "code",
   "execution_count": null,
   "id": "142b5cfa-700f-470d-8998-4f760ed306f9",
   "metadata": {},
   "outputs": [],
   "source": [
    "1 // 0"
   ]
  },
  {
   "cell_type": "markdown",
   "id": "e8cd39b6-d9f1-4e8e-9fa3-706ce3aa1adf",
   "metadata": {
    "jp-MarkdownHeadingCollapsed": true
   },
   "source": [
    "#### 'Arithmetic' operators on non-numeric types"
   ]
  },
  {
   "cell_type": "code",
   "execution_count": null,
   "id": "9eb3c77f-0439-4091-826f-5090d6e9949f",
   "metadata": {},
   "outputs": [],
   "source": [
    "# Some of these also work on other types\n",
    "print('a' + 'b')"
   ]
  },
  {
   "cell_type": "code",
   "execution_count": null,
   "id": "aa9ff3e3-05ba-4ade-a4c8-79c5191d6efc",
   "metadata": {},
   "outputs": [],
   "source": [
    "# but not necessarily all of them for every type\n",
    "print('a' * 'b')"
   ]
  },
  {
   "cell_type": "code",
   "execution_count": null,
   "id": "5b0ce1dd-6170-4ddd-90eb-ddd969037c5e",
   "metadata": {},
   "outputs": [],
   "source": [
    "# and sometimes on mixed types\n",
    "print('a' * 5)"
   ]
  },
  {
   "cell_type": "code",
   "execution_count": null,
   "id": "20632c75-f47b-4959-8133-98336d0acce0",
   "metadata": {},
   "outputs": [],
   "source": [
    "# also lists\n",
    "l1 = [1, 2]\n",
    "l2 = [3, 4]\n",
    "l1 + l2"
   ]
  },
  {
   "cell_type": "code",
   "execution_count": null,
   "id": "b8f1ef7f-6e77-457a-b562-d11e41647e21",
   "metadata": {},
   "outputs": [],
   "source": [
    "# we can also multiply lists by numbers (similar to the string example above\n",
    "l1 * 3"
   ]
  },
  {
   "cell_type": "code",
   "execution_count": null,
   "id": "49782ec4-3a05-4d4c-bb2e-565cf56f8173",
   "metadata": {},
   "outputs": [],
   "source": [
    "# or tuples\n",
    "t1 = (1, 2)\n",
    "t2 = (3, 4)\n",
    "t1 + t2"
   ]
  },
  {
   "cell_type": "code",
   "execution_count": null,
   "id": "e6c263bb-ff1b-4214-9a55-5ec0f538eb86",
   "metadata": {},
   "outputs": [],
   "source": [
    "t1 * 2"
   ]
  },
  {
   "cell_type": "code",
   "execution_count": null,
   "id": "2e8a4e33-7782-41d5-8d1e-2f1b81efc5b8",
   "metadata": {},
   "outputs": [],
   "source": [
    "# no addition for sets\n",
    "{1, 2} + {2, 3, 4}"
   ]
  },
  {
   "cell_type": "code",
   "execution_count": null,
   "id": "2b263e61-c848-436d-b95a-fce75134dc07",
   "metadata": {},
   "outputs": [],
   "source": [
    "# instead: \n",
    "{1, 2} | {2, 3, 4}"
   ]
  },
  {
   "cell_type": "code",
   "execution_count": null,
   "id": "5d0c09d7-a972-4691-9e2a-807942492810",
   "metadata": {},
   "outputs": [],
   "source": [
    "# set difference does exist\n",
    "{1, 2} - {2, 3, 4}"
   ]
  },
  {
   "cell_type": "code",
   "execution_count": null,
   "id": "60f24714-94c6-42f5-815b-e2e2fc8ff557",
   "metadata": {},
   "outputs": [],
   "source": [
    "# nothing of this sort exists for dicts\n",
    "{1: 'a'} + {2: 'b'}"
   ]
  },
  {
   "cell_type": "markdown",
   "id": "ea7a2073-8fd8-4dd0-ac64-669517bf346a",
   "metadata": {
    "jp-MarkdownHeadingCollapsed": true
   },
   "source": [
    "### (Augmented) Assignment Operators\n",
    "- Assignment (=)\n",
    "- Additive Assignment (+=)\n",
    "- Subtractive Assignment (-=)\n",
    "- Division Assignment (/=)\n",
    "- Multiplicative Assignment (*=)\n",
    "- Integer Division Assignment (//=)\n",
    "- Modulo Assignment (%=)\n",
    "- Power Assignment (**=)\n",
    "\n",
    "Augmented assignments are usually equivalent to the explicit version: `a += b` is the same as `a = a + b`\n"
   ]
  },
  {
   "cell_type": "code",
   "execution_count": null,
   "id": "c232ea22-00d1-4398-809f-60150e4c560d",
   "metadata": {},
   "outputs": [],
   "source": [
    "# All of these require the lhs to be writeable\n",
    "5 = 3"
   ]
  },
  {
   "cell_type": "code",
   "execution_count": null,
   "id": "65a88f70-94e3-41e2-8757-15b4896c1673",
   "metadata": {},
   "outputs": [],
   "source": [
    "False = True"
   ]
  },
  {
   "cell_type": "code",
   "execution_count": null,
   "id": "557572f4-ee6c-45e0-beb9-5701b4fc1e63",
   "metadata": {},
   "outputs": [],
   "source": [
    "a = 5\n",
    "b = 3\n",
    "a += b\n",
    "print(a)"
   ]
  },
  {
   "cell_type": "code",
   "execution_count": null,
   "id": "6a0fad34-fb40-4de0-8f4d-10928085bc13",
   "metadata": {},
   "outputs": [],
   "source": [
    "# Arithmetic operators in assignment must of course be supported by base type\n",
    "a = 'foo'\n",
    "b = 'bar'\n",
    "a -= b"
   ]
  },
  {
   "cell_type": "markdown",
   "id": "c9d849ec-8a8b-463e-ba74-0b91b5dacb7e",
   "metadata": {
    "jp-MarkdownHeadingCollapsed": true
   },
   "source": [
    "### Comparison Operators\n",
    "- Equality (==)\n",
    "- Inequality (!=)\n",
    "- Greater than (>)\n",
    "- Less than (<)\n",
    "- Greater or equal (>=)\n",
    "- Less or equal (<=)\n",
    "\n",
    "result is always a boolean"
   ]
  },
  {
   "cell_type": "code",
   "execution_count": null,
   "id": "5e9b2aca-a95d-4e00-a33f-52b9abb31398",
   "metadata": {},
   "outputs": [],
   "source": [
    "# trivial examples\n",
    "print('5 == 3:', 5 == 3)\n",
    "print('5 > 3:', 5 > 3)\n",
    "print('5 < 3:', 5 < 3)"
   ]
  },
  {
   "cell_type": "code",
   "execution_count": null,
   "id": "c088e734-2ca7-41fa-9953-1d4a231833b9",
   "metadata": {},
   "outputs": [],
   "source": [
    "# mixed numeric types\n",
    "print('5.0 == 5: ', 5.0 == 5)\n",
    "print('5.0 + 0j == 5: ', 5.0 + 0j == 5)"
   ]
  },
  {
   "cell_type": "code",
   "execution_count": null,
   "id": "a0e002df-7639-4190-ac0c-7d70687b4177",
   "metadata": {},
   "outputs": [],
   "source": [
    "# be carefule with equality of floating point numbers:\n",
    "print('0.1 + 0.2 == 0.3:', 0.1 + 0.2 == 0.3)"
   ]
  },
  {
   "cell_type": "code",
   "execution_count": null,
   "id": "fd535f26-b8a0-429b-8130-a8bd75edebec",
   "metadata": {},
   "outputs": [],
   "source": [
    "print(0.1)\n",
    "print(f'{0.1:.40}')"
   ]
  },
  {
   "cell_type": "code",
   "execution_count": null,
   "id": "b2f6a59f-6fd7-4bbb-95ad-329cab717f11",
   "metadata": {},
   "outputs": [],
   "source": [
    "# special case of numerics:\n",
    "print(\"5 == float('NaN'):\", 5 == float('NaN'))\n",
    "print(\"float('NaN') == float('NaN'):\", float('NaN') == float('NaN'))\n",
    "print(\"float('NaN') == float('Infinity'):\", float('NaN') == float('Infinity'))\n",
    "print(\"float('Infinity') == float('Infinity'):\", float('Infinity') == float('Infinity'))\n",
    "print(\"float('-Infinity') == float('-Infinity'):\", float('-Infinity') == float('-Infinity'))\n",
    "print(\"float('Infinity') == float('-Infinity'):\", float('Infinity') == float('-Infinity'))\n",
    "print()\n",
    "print(\"5 > float('NaN'):\", 5 > float('NaN'))\n",
    "print(\"5 < float('NaN'):\", 5 < float('NaN'))\n",
    "print(\"5 == float('NaN'):\", 5 == float('NaN'))"
   ]
  },
  {
   "cell_type": "code",
   "execution_count": null,
   "id": "dc9b2342-9b3e-4b7a-9786-50d2a595dcaa",
   "metadata": {},
   "outputs": [],
   "source": [
    "# string equality:\n",
    "print(\"'abc' == 'abc': \", 'abc' == 'abc')\n",
    "print(\"'abc' == 'def': \", 'abc' == 'def')\n",
    "print(\"'abc' == 'ab': \", 'abc' == 'ab')"
   ]
  },
  {
   "cell_type": "code",
   "execution_count": null,
   "id": "3c957358-e402-4859-a0cd-dd630f7868fb",
   "metadata": {},
   "outputs": [],
   "source": [
    "# string inequality\n",
    "print(\"'abc' > 'ab': \", 'abc' > 'ab')\n",
    "print(\"'abc' > 'd': \", 'abc' > 'd')\n",
    "print(\"'abc' < 'd': \", 'abc' < 'd')\n",
    "print(\"'abc' > 'dabcf': \", 'abc' > 'dabcf')\n",
    "print(\"'abc' < 'dabcf': \", 'abc' < 'dabcf')\n",
    "print(\"'DEF' < 'abc': \", 'DEF' < 'abc')\n",
    "# so what's the rule here?"
   ]
  },
  {
   "cell_type": "markdown",
   "id": "d28e73e9-2711-41ea-b6dc-c8980a452507",
   "metadata": {
    "jp-MarkdownHeadingCollapsed": true
   },
   "source": [
    "### Logical Operators\n",
    "- The operator `not` yields True if its argument is falsy, False otherwise.\n",
    "\n",
    "- The expression `x and y` first evaluates x; if x is false, its value is returned; otherwise, y is evaluated and the resulting value is returned.\n",
    "\n",
    "- The expression `x or y` first evaluates x; if x is true, its value is returned; otherwise, y is evaluated and the resulting value is returned.\n",
    "\n",
    "- rule of thumb: `None`, `0` in all numeric types, empty sequences and containers are evaluated as False. Anything else is evaluated as True."
   ]
  },
  {
   "cell_type": "code",
   "execution_count": null,
   "id": "49f19b7e-d807-458b-a6a4-0ab7133ad5b3",
   "metadata": {},
   "outputs": [],
   "source": [
    "print('0 and 5:', 0 and 5)\n",
    "print('5 and 0:', 5 and 0)\n",
    "print('0 or 5:', 0 or 5)\n",
    "print('5 or 0:', 0 or 5)"
   ]
  },
  {
   "cell_type": "code",
   "execution_count": null,
   "id": "33213248-8073-4463-b066-11c0d4d3a503",
   "metadata": {},
   "outputs": [],
   "source": [
    "print('5 or print(\"Hello\"):', 5 or print(\"Hello\"))"
   ]
  },
  {
   "cell_type": "code",
   "execution_count": null,
   "id": "08f57069-dbb7-45cb-befe-a15df5191eea",
   "metadata": {},
   "outputs": [],
   "source": [
    "print('5 and print(\"Hello\"):', 5 and print(\"Hello\"))"
   ]
  },
  {
   "cell_type": "code",
   "execution_count": null,
   "id": "9d0fa541-5e6c-4e42-bdb0-bc6386e7c96d",
   "metadata": {},
   "outputs": [],
   "source": [
    "print('not []:', not [])"
   ]
  },
  {
   "cell_type": "markdown",
   "id": "e6ccbea8-b2cf-45af-a352-8afa85b4bcfe",
   "metadata": {
    "jp-MarkdownHeadingCollapsed": true
   },
   "source": [
    "### Bitwise operators\n",
    "- The `&` operator yields the bitwise AND of its arguments, which must be integers\n",
    "- The `^` operator yields the bitwise XOR (exclusive OR) of its arguments, which must be integers\n",
    "- The `|` operator yields the bitwise (inclusive) OR of its arguments, which must be integers\n",
    "- The `<<` and `>>` operators accept integers as arguments. They shift the first argument to the left or right by the number of bits given by the second argument.\n",
    "- The `~` operator inverts all bits of its argument (watch out with signed numbers!)"
   ]
  },
  {
   "cell_type": "code",
   "execution_count": null,
   "id": "ada5d8ab-61ac-4a96-984f-3be0ef983c28",
   "metadata": {},
   "outputs": [],
   "source": [
    "x0 = 17\n",
    "x1 = 5"
   ]
  },
  {
   "cell_type": "code",
   "execution_count": null,
   "id": "2ed93b32-3ed4-4295-b9f2-c8249e3d2e09",
   "metadata": {},
   "outputs": [],
   "source": [
    "print(f'binary x0: {x0:08b}')\n",
    "print(f'binary x1: {x1:08b}')"
   ]
  },
  {
   "cell_type": "code",
   "execution_count": null,
   "id": "2c323bd3-89a4-4982-b7b2-d7fd0b2605bb",
   "metadata": {},
   "outputs": [],
   "source": [
    "print(f'x0 & x1: {x0 & x1:08b} == {x0 & x1}')\n",
    "print(f'x0 & x1: {x0 | x1:08b} == {x0 | x1}')\n",
    "print(f'x0 ^ x1: {x0 ^ x1:08b} == {x0 ^ x1}')"
   ]
  },
  {
   "cell_type": "code",
   "execution_count": null,
   "id": "ea0abdad-aabf-413d-8f85-316bfd669852",
   "metadata": {},
   "outputs": [],
   "source": [
    "print(f'x0 >> 3: {x0 >> 3:08b} == {x0 >> 3}')\n",
    "print(f'x0 << 3: {x0 << 3:08b} == {x0 << 3}')"
   ]
  },
  {
   "cell_type": "code",
   "execution_count": null,
   "id": "651d5558-d000-4b26-8657-29a7f103d482",
   "metadata": {},
   "outputs": [],
   "source": [
    "print(f'~x0: {~x0:08b} == {(~x0)}')"
   ]
  },
  {
   "cell_type": "code",
   "execution_count": null,
   "id": "de7b5b2e-6d5f-43c9-92a6-ba624143f4bb",
   "metadata": {},
   "outputs": [],
   "source": [
    "print(f'~x0: {~x0 & 0xff:08b} == {(~x0)}')"
   ]
  }
 ],
 "metadata": {
  "kernelspec": {
   "display_name": "dhbw",
   "language": "python",
   "name": "dhbw"
  },
  "language_info": {
   "codemirror_mode": {
    "name": "ipython",
    "version": 3
   },
   "file_extension": ".py",
   "mimetype": "text/x-python",
   "name": "python",
   "nbconvert_exporter": "python",
   "pygments_lexer": "ipython3",
   "version": "3.14.0"
  }
 },
 "nbformat": 4,
 "nbformat_minor": 5
}
