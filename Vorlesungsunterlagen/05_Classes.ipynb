{
 "cells": [
  {
   "cell_type": "markdown",
   "id": "a47de4ca-07ae-41cb-bea3-17e9bc38f035",
   "metadata": {},
   "source": [
    "# Interlude: First notes on coding style\n",
    "Source: [Python documentation on python.org](https://docs.python.org/3/tutorial/controlflow.html#id2)\n",
    "\n",
    "Now that you are about to write longer, more complex pieces of Python, it is a good time to talk about coding style. Most languages can be written (or more concise, formatted) in different styles; some are more readable than others. Making it easy for others to read your code is always a good idea, and adopting a nice coding style helps tremendously for that.\n",
    "\n",
    "For Python, [PEP 8](https://peps.python.org/pep-0008/) has emerged as the style guide that most projects adhere to; The most important points are:\n",
    "- Use 4-space indentation, and no tabs.\n",
    "  - 4 spaces are a good compromise between small indentation (allows greater nesting depth) and large indentation (easier to read). Tabs introduce confusion, and are best left out.\n",
    "- Wrap lines so that they don’t exceed 79 characters. \\[NOTE: debatable, you could also agree on e.g. 120 characters given todays screens\\]\n",
    "  - This helps users with small displays and makes it possible to have several code files side-by-side on larger displays.\n",
    "- Use blank lines to separate functions and classes, and larger blocks of code inside functions.\n",
    "  - \\[NOTE: Typically: 2 lines between pure functions or classes, one line between methods in a class\\]\n",
    "- When possible, put comments on a line of their own.\n",
    "- Use docstrings.\n",
    "- Use spaces around operators and after commas, but not directly inside bracketing constructs: `a = f(1, 2) + g(3, 4)`.\n",
    "- Name your classes and functions consistently; the convention is to use **UpperCamelCase for classes** and **lowercase_with_underscores for functions and methods**. Always use self as the name for the first method argument (see A First Look at Classes for more on classes and methods).\n",
    "- Use UTF-8 encoding for any source files.\n",
    "- Still though, don’t use non-ASCII characters in identifiers if there is only the slightest chance people speaking a different language will read or maintain the code."
   ]
  },
  {
   "cell_type": "markdown",
   "id": "a07de042-5045-4105-92b6-61d9fd4efc33",
   "metadata": {},
   "source": [
    "<div class=\"alert alert-block alert-info\">\n",
    "<b>Further Reading:</b> <br>\n",
    "    Once again: Code is read <b>way</b> more often than written. Anything that makes reading code easier is really really helpful! A consistent style throughout the codebase is one of those things.<br><br>\n",
    "    If you'd like to make sure your code is following a good style look into automatic linters. My recommendation would be <a href=https://flake8.pycqa.org/en/latest/>flake8</a>.\n",
    "</div>"
   ]
  },
  {
   "cell_type": "markdown",
   "id": "266bafe6-f50d-406f-a201-1e1f73219037",
   "metadata": {
    "jp-MarkdownHeadingCollapsed": true
   },
   "source": [
    "# Scoping Revisited\n",
    "- refers to the rules that determine the visibility and accessibility of variables and objects within a program.\n",
    "- crucial for managing the lifetime of variables and avoiding naming conflicts.\n",
    "- hierarchical scoping system, which means that variables can be defined and accessed within various levels of the program\n",
    "- the scope in which a variable is defined influences where it can be accessed. "
   ]
  },
  {
   "cell_type": "markdown",
   "id": "5eb5f1ae-01f3-4dde-82ca-20c388def530",
   "metadata": {
    "jp-MarkdownHeadingCollapsed": true
   },
   "source": [
    "#### Local Scope (or Function Scope): \n",
    "- Variables defined within a function are considered local to that function.\n",
    "- They are only accessible within the function where they are defined.\n",
    "- Local scope is the most restrictive, and variables declared within a function do not affect variables with the same name in other parts of the code."
   ]
  },
  {
   "cell_type": "code",
   "execution_count": null,
   "id": "ce82f1f2-67b3-45b5-a74e-d7413f24956c",
   "metadata": {},
   "outputs": [],
   "source": [
    "def my_function():\n",
    "    x = 10  # Local scope variable\n",
    "    print(x)\n",
    "\n",
    "my_function()\n",
    "# print(x)"
   ]
  },
  {
   "cell_type": "markdown",
   "id": "3e356c98-219b-4414-bd98-749b417cb960",
   "metadata": {
    "jp-MarkdownHeadingCollapsed": true
   },
   "source": [
    "#### Enclosing Scope (or Non-local Scope): \n",
    "- Variables defined in an enclosing function (a containing function) can be accessed by nested functions within it. This is known as \"closure.\"\n",
    "- Variables defined in the enclosing function are also known as `free` variables from the perspective of the inner function.\n",
    "- If you want to assign to such a variable in the inner function you need to declare them as `nonlocal`\n",
    "- Mutable types can still be modified without assignment"
   ]
  },
  {
   "cell_type": "code",
   "execution_count": null,
   "id": "304f7c97-d97d-4584-9683-f0775724a54a",
   "metadata": {},
   "outputs": [],
   "source": [
    "def outer_function():\n",
    "    y = 20  # Enclosing scope variable for `inner_function`; local scope variable for `outer_function`\n",
    "\n",
    "    def inner_function():\n",
    "        print(y)  # Accessing 'y' from the enclosing scope\n",
    "\n",
    "    inner_function()\n",
    "\n",
    "outer_function()"
   ]
  },
  {
   "cell_type": "markdown",
   "id": "a8305540-af58-4e90-95f9-8f894948f607",
   "metadata": {
    "jp-MarkdownHeadingCollapsed": true
   },
   "source": [
    "#### Global Scope: \n",
    "- Variables defined at the top level of a `module` (file) are considered global and can be accessed from anywhere within the module.\n",
    "- These variables can also be accessed within functions, but if you want to assign to them within a function, you need to declare them as global using the `global` keyword.\n",
    "- Changes that do not rely on assignment (for mutable objects) also don't need the `global` keyword"
   ]
  },
  {
   "cell_type": "code",
   "execution_count": null,
   "id": "52f0bc39-703f-4387-a667-9a65e47780ed",
   "metadata": {},
   "outputs": [],
   "source": [
    "global_variable = 30  # Global scope variable\n",
    "\n",
    "def my_function():\n",
    "    print(global_variable)\n",
    "\n",
    "my_function()"
   ]
  },
  {
   "cell_type": "markdown",
   "id": "1a32c87e-b561-41ad-94bb-1ccf1eccd396",
   "metadata": {},
   "source": [
    "#### Built-in Scope: \n",
    "- Python also has a built-in scope that contains pre-defined functions and objects available globally, such as print(), len(), and others."
   ]
  },
  {
   "cell_type": "markdown",
   "id": "a37aa636-2f2b-4f32-a622-0427c46bb584",
   "metadata": {
    "jp-MarkdownHeadingCollapsed": true
   },
   "source": [
    "### Advanced scoping examples"
   ]
  },
  {
   "cell_type": "markdown",
   "id": "80b9c785-73e3-420b-9a1e-1138ce600e26",
   "metadata": {},
   "source": [
    "#### Hierarchy"
   ]
  },
  {
   "cell_type": "code",
   "execution_count": null,
   "id": "bd269116-c54e-4ded-8588-c2d37100ff56",
   "metadata": {},
   "outputs": [],
   "source": [
    "def my_function():\n",
    "    print = 5\n",
    "    print('foo')\n",
    "\n",
    "try:\n",
    "    my_function()\n",
    "except TypeError as e:\n",
    "    print(f'Whoa, an error occured: {e}')\n",
    "\n",
    "print('Hey, print still works here')"
   ]
  },
  {
   "cell_type": "code",
   "execution_count": null,
   "id": "dc1288c1-f279-4143-a2f1-cc69e54f20ad",
   "metadata": {},
   "outputs": [],
   "source": [
    "def outer_function():\n",
    "    print = 'foo'\n",
    "    def inner_function():\n",
    "        print('hey there!')\n",
    "    return inner_function\n",
    "\n",
    "some_function = outer_function()\n",
    "print('at this point print still works')\n",
    "\n",
    "try:\n",
    "    some_function()\n",
    "except TypeError as e:\n",
    "    print(f'Whoa, an error occured: {e}')\n",
    "\n",
    "print('And now it works again...')"
   ]
  },
  {
   "cell_type": "code",
   "execution_count": null,
   "id": "0ce0b5e7-023d-43f4-9755-45e5a782cdad",
   "metadata": {},
   "outputs": [],
   "source": [
    "def f1(a):\n",
    "    print(a, end=' ')\n",
    "    print(b)"
   ]
  },
  {
   "cell_type": "code",
   "execution_count": null,
   "id": "5fda1e7d-9037-42a9-af13-a861e92dc0f7",
   "metadata": {},
   "outputs": [],
   "source": [
    "f1('Hey')"
   ]
  },
  {
   "cell_type": "code",
   "execution_count": null,
   "id": "38b958fd-cad1-49c2-986a-f540062b3517",
   "metadata": {},
   "outputs": [],
   "source": [
    "b = 'there!'\n",
    "f1('Hey')  # scope is searched at runtime, not during declaration of the function (see also when the errror above occurs)\n",
    "del b"
   ]
  },
  {
   "cell_type": "code",
   "execution_count": null,
   "id": "d52031c8-db63-4167-9a31-2a5d3c13bea2",
   "metadata": {},
   "outputs": [],
   "source": [
    "b = 'there!'\n",
    "def f2(a):\n",
    "    b = 'you!'\n",
    "    print(a, end=' ')\n",
    "    print(b)\n",
    "\n",
    "f2('Hey')\n",
    "print(f'{b=}')"
   ]
  },
  {
   "cell_type": "markdown",
   "id": "8c79b6c8-d428-4b67-96b5-d881c213dfca",
   "metadata": {},
   "source": [
    "> design choice, python assumes variables assigned to in the body of a function are `local` to that function. Intentional behaviour to avoid accidentally overwriting global variables"
   ]
  },
  {
   "cell_type": "code",
   "execution_count": null,
   "id": "90656e5b-567f-439e-b0bc-cdc5087127a7",
   "metadata": {},
   "outputs": [],
   "source": [
    "b = 'there!'\n",
    "def f3(a):\n",
    "    global b\n",
    "    print(a, end=' ')\n",
    "    print(b)\n",
    "    b = 'you!'\n",
    "\n",
    "f3('Hey')\n",
    "print(f'{b=}')"
   ]
  },
  {
   "cell_type": "code",
   "execution_count": null,
   "id": "13a9c331-c46d-4fd6-adc8-ec604769e2b1",
   "metadata": {},
   "outputs": [],
   "source": [
    "# the behaviour seems different for mutables, because we're not assigning to the variable itself, 'just' changing its contents\n",
    "b = ['there!']\n",
    "def f2_mutable(a):\n",
    "    # no `global b` here...\n",
    "    print(a, end=' ')\n",
    "    print(b[0])\n",
    "    b[0] = 'you!'\n",
    "\n",
    "f2_mutable('Hey')\n",
    "print(f'{b=}')"
   ]
  },
  {
   "cell_type": "code",
   "execution_count": null,
   "id": "0fa2a8a7-4d50-4c09-b6d0-8aa5c22f7cf9",
   "metadata": {},
   "outputs": [],
   "source": [
    "# the same logic applies to closures and their free variables\n",
    "def make_averager():\n",
    "    count = 0\n",
    "    total = 0\n",
    "    def averager(new_value):\n",
    "        count += 1\n",
    "        total += new_value\n",
    "        return total / count\n",
    "    return averager"
   ]
  },
  {
   "cell_type": "code",
   "execution_count": null,
   "id": "10245730-bb5c-48d9-9d50-4757c489782d",
   "metadata": {},
   "outputs": [],
   "source": [
    "my_averager = make_averager()\n",
    "my_averager(10)"
   ]
  },
  {
   "cell_type": "code",
   "execution_count": null,
   "id": "7abcb132-f26c-446b-9ef7-4ec90be9c39e",
   "metadata": {},
   "outputs": [],
   "source": [
    "# but the variables defined in the outer function are not globals\n",
    "def make_averager_global():\n",
    "    count = 0\n",
    "    total = 0\n",
    "    def averager(new_value):\n",
    "        global count, total\n",
    "        count += 1\n",
    "        total += new_value\n",
    "        return total / count\n",
    "    return averager"
   ]
  },
  {
   "cell_type": "code",
   "execution_count": null,
   "id": "d4015ee6-6341-4b7c-91aa-09249e89f75a",
   "metadata": {},
   "outputs": [],
   "source": [
    "my_averager_global = make_averager_global()\n",
    "my_averager_global(10)"
   ]
  },
  {
   "cell_type": "code",
   "execution_count": null,
   "id": "2275b874-682f-4402-ae00-854971832e7c",
   "metadata": {},
   "outputs": [],
   "source": [
    "# instead, the keyword here is nonlocal!\n",
    "def make_averager_nonlocal():\n",
    "    count = 0\n",
    "    total = 0\n",
    "    def averager(new_value):\n",
    "        nonlocal count, total\n",
    "        count += 1\n",
    "        total += new_value\n",
    "        return total / count\n",
    "    return averager"
   ]
  },
  {
   "cell_type": "code",
   "execution_count": null,
   "id": "a4218606-c1d0-486e-b2b7-fd32c8696057",
   "metadata": {},
   "outputs": [],
   "source": [
    "my_averager = make_averager_nonlocal()\n",
    "my_averager(10)\n",
    "my_averager(20)\n",
    "my_averager(30)\n",
    "my_averager(40)"
   ]
  },
  {
   "cell_type": "code",
   "execution_count": null,
   "id": "71b31350-a09e-4564-9e1b-d50b605813d8",
   "metadata": {},
   "outputs": [],
   "source": [
    "# summary\n",
    "def scope_test():\n",
    "    def do_local():\n",
    "        spam = \"local spam\"\n",
    "\n",
    "    def do_nonlocal():\n",
    "        nonlocal spam\n",
    "        spam = \"nonlocal spam\"\n",
    "\n",
    "    def do_global():\n",
    "        global spam\n",
    "        spam = \"global spam\"\n",
    "\n",
    "    spam = \"test spam\"\n",
    "    do_local()\n",
    "    print(f\"After local assignment: '{spam}'\")\n",
    "    do_nonlocal()\n",
    "    print(f\"After nonlocal assignment: '{spam}'\")\n",
    "    do_global()\n",
    "    print(f\"After global assignment: '{spam}'\")\n",
    "\n",
    "scope_test()\n",
    "print(f\"In global scope: '{spam}'\")"
   ]
  },
  {
   "cell_type": "markdown",
   "id": "1a4fd121-d524-4706-bae6-f328a88a5ab1",
   "metadata": {
    "jp-MarkdownHeadingCollapsed": true
   },
   "source": [
    "# Classes and Object Oriented Programming"
   ]
  },
  {
   "cell_type": "markdown",
   "id": "6a25931c-8bc7-4aac-94af-d8c0c0805880",
   "metadata": {},
   "source": [
    "- Object-Oriented Programming (OOP) is a programming paradigm that revolves around the concept of objects.\n",
    "- In OOP, software is organized as a collection of objects, each of which represents a real-world entity or concept.\n",
    "- **Classes**: A class is a blueprint or template for creating objects.\n",
    "  - defines the structure and behavior that objects of that class will have.\n",
    "  - if you have a class called Car, objects created from this class will have attributes like make, model, and methods like start_engine().\n",
    "- **Attributes**: Attributes are data members of a class.\n",
    "  - represent the characteristics or properties of objects created from that class.\n",
    "  - for a Car class, attributes might include make, model, year, and so on.\n",
    "- **Methods**: Methods are functions defined within a class.\n",
    "  - describe the behavior or actions that objects of that class can perform.\n",
    "  - for a Car class, methods might include start_engine(), accelerate(), and brake().\n",
    "- **Objects**: Objects are instances of classes, and the central building blocks of OOP.\n",
    "  - represent tangible or abstract entities\n",
    "  - encapsulate both data (attributes) and the behavior (methods) associated with those entities.\n",
    "  - hold actual values for the placeholders defined in the template/class"
   ]
  },
  {
   "cell_type": "markdown",
   "id": "212c64e7-08c6-4d24-af33-da0e0af5c940",
   "metadata": {},
   "source": [
    "#### Further concepts\n",
    "- **Encapsulation**: Encapsulation is the concept of bundling data (attributes) and methods that operate on that data into a single unit (the class). It allows for information hiding, where the internal implementation details are not exposed to the outside world. This enhances security and maintains data integrity.\n",
    "- **Inheritance**: Inheritance is a mechanism that allows one class (the subclass or derived class) to inherit the attributes and methods of another class (the superclass or base class). It promotes code reusability and the creation of specialized classes that build upon more general ones.\n",
    "- **Polymorphism**: Polymorphism allows objects of different classes to be treated as objects of a common superclass. This simplifies code and promotes flexibility. In Python, polymorphism often involves method overriding, where a subclass provides its own implementation of a method inherited from a superclass.\n",
    "- **Abstraction**: Abstraction involves simplifying complex systems by breaking them into smaller, more manageable parts. It hides the implementation details of a class and exposes only essential features to the user. Abstraction is a fundamental principle of OOP that makes code more understandable and maintainable."
   ]
  },
  {
   "cell_type": "markdown",
   "id": "db871ea5-2f0f-4f0c-9134-40d68aa7c180",
   "metadata": {},
   "source": [
    "#### Advantages\n",
    "- **Modularity**: Code is divided into classes, making it easier to manage and understand.\n",
    "- **Reusability**: You can reuse classes in different parts of your code or in other projects.\n",
    "- **Maintainability**: Changes can be made to one class without affecting the entire codebase.\n",
    "- **Encapsulation**: Data is protected from unauthorized access or modification.\n",
    "- **Real-world modeling**: OOP allows you to model real-world entities and relationships directly in your code."
   ]
  },
  {
   "cell_type": "markdown",
   "id": "0f898ad9-7340-447f-9180-b36a1779a5bb",
   "metadata": {},
   "source": [
    "## Basics of Classes\n",
    "- created by a `class <name>:` header\n",
    "- class body indented one level\n",
    "- so the header of any class method is indented by one level already, and the body one further level\n",
    "- **constructor**: a method called when the class in 'instantiated', i.e. when an object of that class is created\n",
    "  -   special method with name `__init__`\n",
    "- all regular methods receive as first argument a reference to the **instance** they are 'called from'. This first parameter is (by convention) called `self`"
   ]
  },
  {
   "cell_type": "markdown",
   "id": "fd61b32d-463c-42a3-bcc9-23ebb76a47d8",
   "metadata": {
    "jp-MarkdownHeadingCollapsed": true
   },
   "source": [
    "### Class construction, attributes and methods"
   ]
  },
  {
   "cell_type": "markdown",
   "id": "5ab531f5-1437-4668-9b03-8fc8ca50163a",
   "metadata": {
    "jp-MarkdownHeadingCollapsed": true
   },
   "source": [
    "#### class construction"
   ]
  },
  {
   "cell_type": "code",
   "execution_count": null,
   "id": "bdf5ac8c-6bc9-4a1e-a552-9530df0deb57",
   "metadata": {},
   "outputs": [],
   "source": [
    "class Car:\n",
    "    # constructor, called automatically when instantiating the class\n",
    "    def __init__(self, make, model):\n",
    "        # attributes\n",
    "        # all attributes should (by convention) be initialized in `__init__`, even if not required for the functionality\n",
    "        self.make = make\n",
    "        self.model = model\n",
    "\n",
    "    # method\n",
    "    def describe(self):  # this is a method, it receives the instance as first attribute\n",
    "        print(f\"I'm a shiny new {self.make} {self.model}\")\n",
    "\n",
    "# creating instances\n",
    "my_car = Car('Toyota', 'Camry')\n",
    "your_car = Car('Ford', 'Focus')\n",
    "print(my_car)"
   ]
  },
  {
   "cell_type": "code",
   "execution_count": null,
   "id": "8b149e9c-6cbd-4c40-873d-bcb83f757982",
   "metadata": {},
   "outputs": [],
   "source": [
    "# creating another instance\n",
    "new_car = Car('Toyota', 'Camry')\n",
    "new_car == my_car"
   ]
  },
  {
   "cell_type": "code",
   "execution_count": null,
   "id": "4ddfdec0-7ebf-41ef-ae10-cf7e68af9878",
   "metadata": {},
   "outputs": [],
   "source": [
    "# calling a method; note we're not passing the first argument explicitly\n",
    "my_car.describe()"
   ]
  },
  {
   "cell_type": "code",
   "execution_count": null,
   "id": "431dc933-5c60-4fb7-b2c8-b530a2536549",
   "metadata": {},
   "outputs": [],
   "source": [
    "my_car.describe  # instance attribute `describe` is a `bound method`, not a function!"
   ]
  },
  {
   "cell_type": "code",
   "execution_count": null,
   "id": "257b9b56-6189-439b-bef3-59bb8154e2fc",
   "metadata": {},
   "outputs": [],
   "source": [
    "hex(id(my_car))"
   ]
  },
  {
   "cell_type": "code",
   "execution_count": null,
   "id": "c88552b7-37a1-4b44-be7c-cc8c784db588",
   "metadata": {},
   "outputs": [],
   "source": [
    "# compare a regular function:\n",
    "def f():\n",
    "    pass\n",
    "f"
   ]
  },
  {
   "cell_type": "code",
   "execution_count": null,
   "id": "bb628af3-d160-4af0-a9ea-ed7d2d99c275",
   "metadata": {},
   "outputs": [],
   "source": [
    "Car.describe  # class attribute `describe` otoh is a `function`"
   ]
  },
  {
   "cell_type": "code",
   "execution_count": null,
   "id": "30a88d27-cbfc-404d-b0ee-7aec2d397f5c",
   "metadata": {},
   "outputs": [],
   "source": [
    "some_fun = my_car.describe  # after assignment it's still a method...\n",
    "some_fun"
   ]
  },
  {
   "cell_type": "code",
   "execution_count": null,
   "id": "12cb114f-ae62-45cb-926b-a9166e827af8",
   "metadata": {},
   "outputs": [],
   "source": [
    "some_fun()  # still without having to pass `self`"
   ]
  },
  {
   "cell_type": "code",
   "execution_count": null,
   "id": "c190e92c-0e29-4e56-9c17-1cd2b195dc95",
   "metadata": {},
   "outputs": [],
   "source": [
    "# I could (but usually should not) also fill in the reference to the instance myself instead of relying on the binding mechanism\n",
    "Car.describe(my_car)"
   ]
  },
  {
   "cell_type": "code",
   "execution_count": null,
   "id": "dbd51e53-e3a4-425d-ba16-59596d5c7499",
   "metadata": {},
   "outputs": [],
   "source": [
    "class MobilePhone:\n",
    "    def __init__(self):\n",
    "        self.make = 'Google'\n",
    "        self.model = 'Pixel 8'\n",
    "\n",
    "Car.describe(MobilePhone())  # I /could/ call it with anything -- a case of duck typing"
   ]
  },
  {
   "cell_type": "code",
   "execution_count": null,
   "id": "f916468b-d9a6-4f4c-a98a-070702222bfa",
   "metadata": {},
   "outputs": [],
   "source": [
    "# you can call methods from other methods, of course\n",
    "class Bag:\n",
    "    def __init__(self):\n",
    "        self.data = []\n",
    "\n",
    "    def add(self, x):\n",
    "        self.data.append(x)\n",
    "\n",
    "    def addtwice(self, x):\n",
    "        self.add(x)\n",
    "        self.add(x)\n",
    "\n",
    "bag = Bag()\n",
    "bag.addtwice('foo')\n",
    "print(bag.data)"
   ]
  },
  {
   "cell_type": "code",
   "execution_count": null,
   "id": "e2958a53-a6e8-42f9-b44d-412a306b9e28",
   "metadata": {},
   "outputs": [],
   "source": [
    "# weird detail: you can define the /method/ outside the class definition, too...\n",
    "# Function defined outside the class. Don't though...\n",
    "def f1(self):\n",
    "    print(f'f1 was called with the argument: {self}')\n",
    "\n",
    "class C:\n",
    "    pass\n",
    "\n",
    "C.f2 = f1\n",
    "\n",
    "c = C()\n",
    "print(f'c.f2 is a {c.f2}')\n",
    "\n",
    "c.f2()  # no need for `self` here!\n",
    "print(c)"
   ]
  },
  {
   "cell_type": "code",
   "execution_count": null,
   "id": "0f4c934e-4168-4ee3-b42e-d37414904436",
   "metadata": {},
   "outputs": [],
   "source": [
    "# but it doesn't work if assigned to the instance -- binding only happens during instantiation for functions that are class attributes\n",
    "c.f3 = f1\n",
    "print(f'c.f3 is a {c.f3}')\n",
    "c.f3()"
   ]
  },
  {
   "cell_type": "code",
   "execution_count": null,
   "id": "a157804b-fcd1-4482-8518-6b34127f5589",
   "metadata": {},
   "outputs": [],
   "source": [
    "# bound instance methods are objects with attributes, too\n",
    "print(c.f2.__self__, c.f2.__func__)"
   ]
  },
  {
   "cell_type": "markdown",
   "id": "55421705-92ca-42bf-ad82-4073b0780d58",
   "metadata": {
    "jp-MarkdownHeadingCollapsed": true
   },
   "source": [
    "#### 'protected' or 'private' member attributes\n",
    "- don't really exist in python (but don't /really really/ exist in e.g. java either...)\n",
    "- class attributes with leading `_` are considered 'private' by convention only\n",
    "- class attributes with leading `__` are protected by name mangling"
   ]
  },
  {
   "cell_type": "code",
   "execution_count": null,
   "id": "f6c3545b-d206-4dc4-bc3f-bb145df5f8b8",
   "metadata": {},
   "outputs": [],
   "source": [
    "# encapsulation: protected and private class members\n",
    "class DemoClass:\n",
    "    def __init__(self, v1, v2):\n",
    "        self._protected = v1\n",
    "        self.__private = v2\n",
    "\n",
    "    def print_values(self):\n",
    "        print(f'{self._protected=}, {self.__private=}')\n",
    "\n",
    "demo_instance = DemoClass(3, 5)\n",
    "demo_instance.print_values()"
   ]
  },
  {
   "cell_type": "code",
   "execution_count": null,
   "id": "1b991d85-853b-4f93-a38f-885753774519",
   "metadata": {},
   "outputs": [],
   "source": [
    "# underscore-attributes are internal implementation detail\n",
    "# of the class and should not be accessed externally\n",
    "# convention only, no enforcement\n",
    "# but if your code fails on a library version bump you only have yourself to blame\n",
    "print(demo_instance._protected)  # can be read\n",
    "demo_instance._protected = 7  # and can be written, too\n",
    "demo_instance.print_values()"
   ]
  },
  {
   "cell_type": "code",
   "execution_count": null,
   "id": "470503a1-278c-47dd-bda1-c1e22a84a2da",
   "metadata": {},
   "outputs": [],
   "source": [
    "# double-underscore-attributes are 'private' and can not be seen from the outside;\n",
    "# achieved only through name-mangling though. Used primarily in inheritance"
   ]
  },
  {
   "cell_type": "code",
   "execution_count": null,
   "id": "94333fe4-27bf-484a-8f14-857d20541425",
   "metadata": {},
   "outputs": [],
   "source": [
    "print(demo_instance.__private)  # seems like it doesn't exist"
   ]
  },
  {
   "cell_type": "code",
   "execution_count": null,
   "id": "afe544f0-a81a-4517-b3a8-d7050e18840e",
   "metadata": {},
   "outputs": [],
   "source": [
    "print(demo_instance._DemoClass__private)  # but if you know the pattern you can still access it"
   ]
  },
  {
   "cell_type": "code",
   "execution_count": null,
   "id": "2e4c779d-1563-4467-8839-5647bb5c3dad",
   "metadata": {},
   "outputs": [],
   "source": [
    "demo_instance._DemoClass__private = 9\n",
    "demo_instance.print_values()"
   ]
  },
  {
   "cell_type": "markdown",
   "id": "bb3dc7ed-3614-4329-87a6-1143c12469a1",
   "metadata": {
    "jp-MarkdownHeadingCollapsed": true
   },
   "source": [
    "#### Properties > Attributes"
   ]
  },
  {
   "cell_type": "code",
   "execution_count": null,
   "id": "3218229c-b613-425a-bcf1-e1694cb9d650",
   "metadata": {},
   "outputs": [],
   "source": [
    "# better: property decorator\n",
    "class PropertyDemo:\n",
    "    def __init__(self):\n",
    "        self._secret_value = 42\n",
    "\n",
    "    @property\n",
    "    def secret_value(self):\n",
    "        print('Are you really trying to read my secret value?')\n",
    "        return self._secret_value // 2\n",
    "\n",
    "    @secret_value.setter\n",
    "    def secret_value(self, value):\n",
    "        raise AttributeError(\"You are most definitely not allowed to change my secret value!\")\n",
    "        \n",
    "\n",
    "property_demo_instance = PropertyDemo()\n",
    "\n",
    "read_value = property_demo_instance.secret_value\n",
    "print(f'I think the secret value is {read_value}')"
   ]
  },
  {
   "cell_type": "code",
   "execution_count": null,
   "id": "198dc0f6-cfb1-452c-8fe7-81c702ffec5c",
   "metadata": {},
   "outputs": [],
   "source": [
    "property_demo_instance.secret_value = '33'"
   ]
  },
  {
   "cell_type": "code",
   "execution_count": null,
   "id": "de501c9d-f84b-4479-b16e-6074c4084d05",
   "metadata": {},
   "outputs": [],
   "source": [
    "# of course you /can/ still access the 'real' attribute though\n",
    "# this is not a security measure, it just protects from incidental misuse of your code\n",
    "stolen_value = property_demo_instance._secret_value\n",
    "print(f'The secret value really is {stolen_value}')"
   ]
  },
  {
   "cell_type": "code",
   "execution_count": null,
   "id": "f929b549-0c52-40f7-a271-9c62906e5adb",
   "metadata": {},
   "outputs": [],
   "source": [
    "# and here's a fun example of using deleters on properties\n",
    "\n",
    "class TheBlackKnight:\n",
    "    def __init__(self):\n",
    "        self.members = [\"an arm\", \"another arm\", \"a leg\", \"another leg\"]\n",
    "        self.phrases = [\"'Tis but a scratch.\", \"It's just a flesh wound.\", \"I'm invincible!\", \"All right, we'll call it a draw\"]\n",
    "\n",
    "    @property\n",
    "    def member(self):\n",
    "        print(f'next member is: {self.members[0]}')\n",
    "\n",
    "    @member.deleter\n",
    "    def member(self):\n",
    "        print(f'BLACK KNIGHT (loses {self.members.pop(0)})\\n-- {self.phrases.pop(0)}')"
   ]
  },
  {
   "cell_type": "code",
   "execution_count": null,
   "id": "397e20f2-a68d-4ebe-bd57-b620f78e4808",
   "metadata": {},
   "outputs": [],
   "source": [
    "knight = TheBlackKnight()\n",
    "knight.member"
   ]
  },
  {
   "cell_type": "code",
   "execution_count": null,
   "id": "46945261-d609-4321-8a03-0d1c6e3e44dd",
   "metadata": {},
   "outputs": [],
   "source": [
    "del knight.member"
   ]
  },
  {
   "cell_type": "code",
   "execution_count": null,
   "id": "6322674a-7844-41d7-8fcd-b7f9a1e9e25e",
   "metadata": {},
   "outputs": [],
   "source": [
    "del knight.member"
   ]
  },
  {
   "cell_type": "code",
   "execution_count": null,
   "id": "7aeac471-437f-4e76-8280-0e51eaf35e94",
   "metadata": {},
   "outputs": [],
   "source": [
    "del knight.member"
   ]
  },
  {
   "cell_type": "code",
   "execution_count": null,
   "id": "1f61b013-7fe6-44e5-9297-a219fba3fc00",
   "metadata": {},
   "outputs": [],
   "source": [
    "del knight.member"
   ]
  },
  {
   "cell_type": "markdown",
   "id": "b7188939-f130-49b5-a261-ac4f3b34be9c",
   "metadata": {},
   "source": [
    "<div class=\"alert alert-block alert-info\">\n",
    "<b>Tip:</b> You can change a member attribute from direct access to access through getters and setters without changing the external API!\n",
    "</div>"
   ]
  },
  {
   "cell_type": "markdown",
   "id": "7def8305-f724-45bf-8234-704628570da5",
   "metadata": {
    "jp-MarkdownHeadingCollapsed": true
   },
   "source": [
    "#### Class and instance variables\n",
    "- instance variables are for attributes and methods shared by all instances\n",
    "- instance attributes are for attributes specific to the instance"
   ]
  },
  {
   "cell_type": "code",
   "execution_count": null,
   "id": "ea008083-5f23-4ccf-ae72-bd37befcdee5",
   "metadata": {},
   "outputs": [],
   "source": [
    "class Dog:\n",
    "    kind = 'canine'\n",
    "    \n",
    "    def __init__(self, name):\n",
    "        self.name = name\n",
    "\n",
    "    def describe(self):\n",
    "        print(f\"My name is {self.name} and I'm a {self.kind}\")  # access to class variables through instance\n",
    "\n",
    "my_dog = Dog('Senta')\n",
    "your_dog = Dog('Fido')\n",
    "\n",
    "my_dog.describe()\n",
    "your_dog.describe()\n",
    "\n",
    "print('\\nAfter setting the class attribute to \"fish\":')\n",
    "\n",
    "Dog.kind = 'fish'  # not chaning anything on instances here, just the class!\n",
    "my_dog.describe()\n",
    "your_dog.describe()"
   ]
  },
  {
   "cell_type": "code",
   "execution_count": null,
   "id": "c5180ea9-2d7a-49c0-b8e2-d9393ed5d374",
   "metadata": {},
   "outputs": [],
   "source": [
    "print('\\nAfter setting the instance attribute back to \"canine\":')\n",
    "\n",
    "my_dog.kind = 'canine'  # instance value overrides class value\n",
    "my_dog.describe()\n",
    "your_dog.describe()\n",
    "print(f'{Dog.kind=}, {my_dog.kind=}, {your_dog.kind=}')"
   ]
  },
  {
   "cell_type": "markdown",
   "id": "77eaa246-cf1b-4409-8c74-232313c8e796",
   "metadata": {
    "jp-MarkdownHeadingCollapsed": true
   },
   "source": [
    "## Advanced Topics"
   ]
  },
  {
   "cell_type": "markdown",
   "id": "b2c86fbe-44e8-4373-95a9-609c737a1bbc",
   "metadata": {
    "jp-MarkdownHeadingCollapsed": true
   },
   "source": [
    "### Inheritance\n",
    "- allows you to create a new class based on an existing class.\n",
    "- The new class inherits the attributes and methods of the existing class, which is often referred to as the \"base class\" or \"superclass.\"\n",
    "- Any attribute/method of the base class can be overridden in a derived class to adapt the behaviour to the specifics of the subclass\n",
    "- The new class is called the \"derived class\" or \"subclass.\"\n",
    "- In Python, inheritance enables you to create a hierarchy of classes, where more specific classes inherit properties and behaviors from more general classes.\n",
    "\n"
   ]
  },
  {
   "cell_type": "markdown",
   "id": "762a0768-5b9a-461c-9e90-67fb8aeeecfa",
   "metadata": {},
   "source": [
    "- **Base Class (Superclass)**: The base class is the class whose attributes and methods are inherited. It is defined as usual with its attributes and methods.\n",
    "- **Derived Class (Subclass)**: The derived class is the new class that inherits from the base class. It is created by specifying the base class as an argument in the class definition.\n",
    "- **Syntax**: To create a subclass that inherits from a superclass, you define the subclass with the superclass in parentheses after the class name.<br>\n",
    "  `class DerivedClass(BaseClass):`\n",
    "- **Method Overriding**: The derived class can override (replace) methods of the base class with its own implementations. This allows the derived class to customize the behavior of inherited methods while retaining the same method names.\n",
    "- **Access to Superclass Methods**: A derived class can access the methods and attributes of the base class using the super() function, which provides a way to call methods of the base class from the derived class.\n",
    "- **Multiple Inheritance**: Python supports multiple inheritance, where a class can inherit from multiple base classes. This allows for greater flexibility but requires careful design to avoid ambiguity. In the case of multiple inheritance, Python follows a specific order to resolve method calls. The super() function is used in this context to determine which superclass's method should be called."
   ]
  },
  {
   "cell_type": "code",
   "execution_count": null,
   "id": "4e820496-9576-40be-bf15-c6e5b6589410",
   "metadata": {},
   "outputs": [],
   "source": [
    "class Animal:\n",
    "    def __init__(self, name):\n",
    "        self.name = name\n",
    "\n",
    "    def speak(self):\n",
    "        print(f\"{self.name} doesn't know what to say...\")\n",
    "\n",
    "class Dog(Animal):\n",
    "    def speak(self):\n",
    "        print(f\"{self.name} says Woof!\")\n",
    "\n",
    "class Cat(Animal):\n",
    "    def speak(self):\n",
    "        print(f\"{self.name} says Meow!\")\n",
    "\n",
    "some_animal = Animal(\"Nemo\")\n",
    "my_dog = Dog(\"Buddy\")\n",
    "my_cat = Cat(\"Whiskers\")\n",
    "\n",
    "some_animal.speak()\n",
    "my_dog.speak()\n",
    "my_cat.speak()"
   ]
  },
  {
   "cell_type": "code",
   "execution_count": null,
   "id": "5357beb8-2b26-4880-8335-3a1dc8ebc0a3",
   "metadata": {},
   "outputs": [],
   "source": [
    "class GoldenRetriever(Dog):\n",
    "    def describe(self):\n",
    "        print(\"Golden Retrievers are friendly and intelligent dogs known for their beautiful golden-colored coats.\")\n",
    "\n",
    "goldie = GoldenRetriever(\"goldie\")  # constructor from base class (`Animal`)\n",
    "goldie.speak()  # from first derived class (`Dog`)\n",
    "goldie.describe()  # from second derived class (`GoldenRetriever`)\n"
   ]
  },
  {
   "cell_type": "code",
   "execution_count": null,
   "id": "9577c4ea-3119-4fe5-b92c-c8437154335a",
   "metadata": {},
   "outputs": [],
   "source": [
    "# multiple inheritance\n",
    "\n",
    "class Mammal:\n",
    "    def mammal_info(self):\n",
    "        print('Mammals can give direct birth.')\n",
    "\n",
    "    def generic_info(self):\n",
    "        print(\"I'm a mammal\")\n",
    "\n",
    "class WingedAnimal:\n",
    "    def winged_animal_info(self):\n",
    "        print('Winged animals can flap.')\n",
    "\n",
    "    def generic_info(self):\n",
    "        print(\"I'm a winged animal\")\n",
    "\n",
    "class Bat(Mammal, WingedAnimal):\n",
    "    pass\n",
    "\n",
    "# create an object of Bat class\n",
    "bat = Bat()\n",
    "\n",
    "bat.mammal_info()\n",
    "bat.winged_animal_info()"
   ]
  },
  {
   "cell_type": "code",
   "execution_count": null,
   "id": "be245efa-b676-4965-994d-004b249b7783",
   "metadata": {},
   "outputs": [],
   "source": [
    "# method resolution order determines which parents method gets called\n",
    "bat.generic_info()"
   ]
  },
  {
   "cell_type": "code",
   "execution_count": null,
   "id": "47746d0c-9388-40f4-bbcb-f57d5a0f5f2a",
   "metadata": {},
   "outputs": [],
   "source": [
    "# multiple inheritance\n",
    "\n",
    "class Animal:\n",
    "    def generic_info(self):\n",
    "        print(\"I'm just an animal\")\n",
    "\n",
    "class Mammal(Animal):\n",
    "    def generic_info(self):\n",
    "        super().generic_info()\n",
    "        print(\"I'm a mammal\")\n",
    "\n",
    "class WingedAnimal(Animal):\n",
    "    def generic_info(self):\n",
    "        super().generic_info()\n",
    "        print(\"I'm a winged animal\")\n",
    "\n",
    "class Bat(Mammal, WingedAnimal):\n",
    "    def generic_info(self):\n",
    "        super().generic_info()\n",
    "        print(\"I'm a bat\")\n",
    "\n",
    "# create an object of Bat class\n",
    "bat = Bat()\n",
    "\n",
    "bat.generic_info()  # just an animal is printed only once"
   ]
  },
  {
   "cell_type": "code",
   "execution_count": null,
   "id": "0751c8d0-256c-4854-b912-85ccafe64bb6",
   "metadata": {},
   "outputs": [],
   "source": [
    "Bat.mro()"
   ]
  },
  {
   "cell_type": "code",
   "execution_count": null,
   "id": "46bfd7e0-eb97-4f56-bb52-a401ea827874",
   "metadata": {},
   "outputs": [],
   "source": [
    "# what do you expect for this?\n",
    "Mammal.generic_info(bat)"
   ]
  },
  {
   "cell_type": "code",
   "execution_count": null,
   "id": "438832b5-290d-4b97-aad2-3101617c558f",
   "metadata": {},
   "outputs": [],
   "source": [
    "Mammal.mro()"
   ]
  },
  {
   "cell_type": "markdown",
   "id": "a269cffa-9492-4a47-8d86-5d27e117517e",
   "metadata": {
    "jp-MarkdownHeadingCollapsed": true
   },
   "source": [
    "### static- and classmethods"
   ]
  },
  {
   "cell_type": "code",
   "execution_count": null,
   "id": "d5d9b006-cce1-4864-a971-83a34c666021",
   "metadata": {},
   "outputs": [],
   "source": [
    "class Demo:\n",
    "    def normal_method(*args):\n",
    "        print(args)\n",
    "\n",
    "    @classmethod\n",
    "    def class_method(*args):\n",
    "        print(args)\n",
    "\n",
    "    @staticmethod\n",
    "    def static_method(*args):\n",
    "        print(args)"
   ]
  },
  {
   "cell_type": "code",
   "execution_count": null,
   "id": "620f79ca-414e-4d2d-a117-3adb7688ccd9",
   "metadata": {},
   "outputs": [],
   "source": [
    "print(Demo.static_method)\n",
    "Demo.static_method()"
   ]
  },
  {
   "cell_type": "code",
   "execution_count": null,
   "id": "5623888d-694d-457b-b98a-de6f71984045",
   "metadata": {},
   "outputs": [],
   "source": [
    "print(Demo.class_method)\n",
    "Demo.class_method()"
   ]
  },
  {
   "cell_type": "code",
   "execution_count": null,
   "id": "f09be595-7a47-48e7-b3c0-138508b5aca2",
   "metadata": {},
   "outputs": [],
   "source": [
    "print(Demo.normal_method)\n",
    "Demo.normal_method()"
   ]
  },
  {
   "cell_type": "code",
   "execution_count": null,
   "id": "bdea7a05-7ae2-433f-831c-138c38d9a243",
   "metadata": {},
   "outputs": [],
   "source": [
    "demo = Demo()\n",
    "print(demo.static_method)\n",
    "print(demo.class_method)\n",
    "print(demo.normal_method)\n",
    "demo.normal_method()"
   ]
  },
  {
   "cell_type": "markdown",
   "id": "74aa110f-eddd-4e15-a454-7b22e7e32709",
   "metadata": {
    "jp-MarkdownHeadingCollapsed": true
   },
   "source": [
    "### dunder Methods"
   ]
  },
  {
   "cell_type": "code",
   "execution_count": null,
   "id": "6fdabe24-12b7-4fca-816e-389d76e1b584",
   "metadata": {},
   "outputs": [],
   "source": [
    "class SimpleVector2D:\n",
    "    def __init__(self, x, y):\n",
    "        self.__x = float(x)\n",
    "        self.__y = float(y)\n",
    "\n",
    "    @property\n",
    "    def x(self):\n",
    "        return self.__x\n",
    "\n",
    "    @property\n",
    "    def y(self):\n",
    "        return self.__y"
   ]
  },
  {
   "cell_type": "code",
   "execution_count": null,
   "id": "87862432-51cd-4c77-8531-2ff42e80396f",
   "metadata": {},
   "outputs": [],
   "source": [
    "import math\n",
    "\n",
    "class Vector2D(SimpleVector2D):\n",
    "    def __iter__(self):\n",
    "        return (i for i in (self.x, self.y))\n",
    "\n",
    "    def __str__(self):\n",
    "        return str(tuple(self))\n",
    "\n",
    "    def __repr__(self):\n",
    "        class_name = type(self).__name__\n",
    "        return '{}({!r}, {!r})'.format(class_name, *self)\n",
    "\n",
    "    def __format__(self, fmt_spec=''):\n",
    "        if fmt_spec.endswith('p'):\n",
    "            fmt_spec = fmt_spec[:-1]\n",
    "            length = abs(self)\n",
    "            angle = math.atan2(self.y, self.x)\n",
    "            coords = (length, angle)\n",
    "            outer_fmt = '<{}, {}>'\n",
    "        else:\n",
    "            coords = self\n",
    "            outer_fmt = '({}, {})'\n",
    "        components = (format(c, fmt_spec) for c in coords)\n",
    "        return outer_fmt.format(*components)\n",
    "\n",
    "    def __neg__(self):\n",
    "        return Vector2D(-x for x in self)\n",
    "\n",
    "    def __abs__(self):\n",
    "        return math.sqrt(self.x*self.x + self.y*self.y)\n",
    "\n",
    "    def __eq__(self, other):\n",
    "        return tuple(self) == tuple(other)\n",
    "\n",
    "    def __lt__(self, other):\n",
    "        return abs(self) < abs(other)\n",
    "\n",
    "    def __le__(self, other):\n",
    "        return abs(self) <= abs(other)\n",
    "\n",
    "    def __add__(self, other):\n",
    "        print('Vector __add__ called')\n",
    "        return Vector2D(self.x + other.x, self.y + other.y)\n",
    "\n",
    "    def __radd__(self, other):\n",
    "        print('Vector __radd__ called')\n",
    "        return self + other\n",
    "\n",
    "    def __iadd__(self, other):\n",
    "        print('Vector __iadd__ called')\n",
    "        raise TypeError('Inplace modification of vectors is not supported')\n",
    "\n",
    "    def __sub__(self, other):\n",
    "        return Vector2D(self.x - other.x, self.y - other.y)\n",
    "\n",
    "    def __mul__(self, other):\n",
    "        if isinstance(other, Vector2D):\n",
    "            # we interpret this as inner product\n",
    "            # maybe better would be the explicity `__matmul__`-infix operator `@`\n",
    "            return self.x*other.x + self.y*other.y\n",
    "\n",
    "        return Vector2D(self.x*other, self.y*other)\n",
    "    \n",
    "    def __bool__(self):\n",
    "        return self.x != 0 or self.y != 0\n",
    "\n",
    "    def __hash__(self):\n",
    "        print('Vector __hash__ called')\n",
    "        return hash((self.x, self.y))"
   ]
  },
  {
   "cell_type": "code",
   "execution_count": null,
   "id": "19efccab-2705-46bb-a97f-3437b3535edb",
   "metadata": {},
   "outputs": [],
   "source": [
    "# string conversion and repr\n",
    "v1_simple = SimpleVector2D(3, 5)\n",
    "print('SimpleVector2D:')\n",
    "print(v1_simple)\n",
    "print(f'{v1_simple!r}')\n",
    "\n",
    "v1 = Vector2D(3, 5)\n",
    "print('\\nVector2D:')\n",
    "print(v1)\n",
    "print(f'{v1!r}')"
   ]
  },
  {
   "cell_type": "code",
   "execution_count": null,
   "id": "d16d4e4f-2223-4e9c-8c1b-90be55b297e7",
   "metadata": {},
   "outputs": [],
   "source": [
    "# repr should be built such that `eval`uating the string should yield back the object\n",
    "# eval: not discussed yet, runs the string passed in as python code. dangerous though!\n",
    "repr_str = repr(v1)\n",
    "eval(repr_str)"
   ]
  },
  {
   "cell_type": "code",
   "execution_count": null,
   "id": "a5763636-54df-4729-8d65-3b66efeb91d4",
   "metadata": {},
   "outputs": [],
   "source": [
    "# adding custom format options!\n",
    "print(f'{v1}')\n",
    "print(f'{v1:p}')\n",
    "print(f'{v1:.3p}')"
   ]
  },
  {
   "cell_type": "code",
   "execution_count": null,
   "id": "c5b6a270-129c-4807-8b66-4d200b558714",
   "metadata": {},
   "outputs": [],
   "source": [
    "# __iter__ allows conversion to built-in sequence types\n",
    "print(list(v1))\n",
    "print(tuple(v1))\n",
    "print(set(v1))"
   ]
  },
  {
   "cell_type": "code",
   "execution_count": null,
   "id": "83793e31-f5e1-4960-9e9d-337c191f5521",
   "metadata": {},
   "outputs": [],
   "source": [
    "# of course that doesn't work for the simple vector\n",
    "list(v1_simple)"
   ]
  },
  {
   "cell_type": "code",
   "execution_count": null,
   "id": "ced1741e-4ffd-474a-874e-c6e952693d95",
   "metadata": {},
   "outputs": [],
   "source": [
    "# comparing two vectors\n",
    "v1 = Vector2D(3, 5)\n",
    "v2 = Vector2D(3.0, 5.0)\n",
    "v3 = Vector2D(5, 3)\n",
    "print(f'{(v1 == v2) = }')\n",
    "print(f'{(v1 == v3) = }')\n"
   ]
  },
  {
   "cell_type": "code",
   "execution_count": null,
   "id": "96734fbe-8e8f-4d4e-bed9-6c3cbbad8e5d",
   "metadata": {},
   "outputs": [],
   "source": [
    "# different objects compare as unequal by default, only identical objects (same `id`) compare as equal\n",
    "v1_simple = SimpleVector2D(3, 5)\n",
    "v2_simple = SimpleVector2D(3, 5)\n",
    "v3_simple = v1_simple\n",
    "print(f'{(v1_simple == v2_simple) = }')\n",
    "print(f'{(v1_simple == v3_simple) = }')"
   ]
  },
  {
   "cell_type": "code",
   "execution_count": null,
   "id": "fc5eb632-57d4-4190-9488-6f4d82f4c76a",
   "metadata": {},
   "outputs": [],
   "source": [
    "# mixed case:\n",
    "v1 == v1_simple"
   ]
  },
  {
   "cell_type": "code",
   "execution_count": null,
   "id": "c7d7511d-f35f-41e1-85d5-dc621859d79e",
   "metadata": {},
   "outputs": [],
   "source": [
    "# comparison to another iterable\n",
    "# whether this is the desired behaviour is up to you...\n",
    "v1 == (3, 5)"
   ]
  },
  {
   "cell_type": "code",
   "execution_count": null,
   "id": "31a45c3e-dea1-4091-80f8-7864bcdbbdf9",
   "metadata": {},
   "outputs": [],
   "source": [
    "# also works the other way around -- why!?\n",
    "(3, 5) == v1"
   ]
  },
  {
   "cell_type": "code",
   "execution_count": null,
   "id": "12827615-55ad-4280-834b-bbdae34829c9",
   "metadata": {},
   "outputs": [],
   "source": [
    "class TestClass:\n",
    "    def __eq__(self, other):\n",
    "        print('Equality comparison called!')\n",
    "        return True\n",
    "\n",
    "test_class = TestClass()\n",
    "\n",
    "test_class == (1, 2, 3)"
   ]
  },
  {
   "cell_type": "code",
   "execution_count": null,
   "id": "de9775c0-991c-4503-bf07-97c0d4638bcf",
   "metadata": {},
   "outputs": [],
   "source": [
    "# but why does this work?\n",
    "(1, 2, 3) == test_class\n",
    "[1, 2, 3] == test_class"
   ]
  },
  {
   "cell_type": "code",
   "execution_count": null,
   "id": "05344629-b9cc-4e17-a74b-a5301c7fdadc",
   "metadata": {},
   "outputs": [],
   "source": [
    "(1, 2, 3).__eq__(test_class)"
   ]
  },
  {
   "cell_type": "code",
   "execution_count": null,
   "id": "544e37c4-2e2a-4e7c-92cf-e9b847017d60",
   "metadata": {},
   "outputs": [],
   "source": [
    "# inequality -- not implemented above, but works anyway?!\n",
    "v1 != v2"
   ]
  },
  {
   "cell_type": "code",
   "execution_count": null,
   "id": "d7029710-285d-4413-81d2-e21f646eec68",
   "metadata": {},
   "outputs": [],
   "source": [
    "v1 = Vector2D(3, 5)\n",
    "v2 = Vector2D(-7, 9)\n",
    "print(f'{(v1 < v2) = }')\n",
    "print(f'{(v1 <= v2) = }')\n",
    "print(f'{(v1 > v2) = }')  # but we never implemented these? (only lt and le)\n",
    "print(f'{(v1 >= v2) = }')"
   ]
  },
  {
   "cell_type": "code",
   "execution_count": null,
   "id": "fa7ab660-bb30-4159-b44b-01241a43758a",
   "metadata": {},
   "outputs": [],
   "source": [
    "# vectors can be added thanks to __add__\n",
    "v1 + v2"
   ]
  },
  {
   "cell_type": "code",
   "execution_count": null,
   "id": "219e8d9a-b383-4d80-8986-b5bd437218bd",
   "metadata": {},
   "outputs": [],
   "source": [
    "# but only if the other thing is also a vector\n",
    "v1 + 5"
   ]
  },
  {
   "cell_type": "code",
   "execution_count": null,
   "id": "721ab6c6-cff0-42c0-8917-f9ae829ccbaa",
   "metadata": {},
   "outputs": [],
   "source": [
    "# or at least looks like one (duck typing)...\n",
    "v1 + v1_simple"
   ]
  },
  {
   "cell_type": "code",
   "execution_count": null,
   "id": "c42f4de8-e0d6-4442-b291-33d6a88c9979",
   "metadata": {},
   "outputs": [],
   "source": [
    "# also works the other way around\n",
    "# same kind of logic as with __eq__ above...\n",
    "v1_simple + v1"
   ]
  },
  {
   "cell_type": "code",
   "execution_count": null,
   "id": "574e6698-34a9-4ca3-924a-9956a63c34be",
   "metadata": {},
   "outputs": [],
   "source": [
    "v1 += v2"
   ]
  },
  {
   "cell_type": "code",
   "execution_count": null,
   "id": "63ee39db-d0ee-4d94-af90-41dc863b738d",
   "metadata": {},
   "outputs": [],
   "source": [
    "# same for substraction\n",
    "v1 - v2"
   ]
  },
  {
   "cell_type": "code",
   "execution_count": null,
   "id": "e2f2f7ac-88e2-4c6f-920d-d349c69a305b",
   "metadata": {},
   "outputs": [],
   "source": [
    "# but we didn't implement `__rsub__`\n",
    "v1_simple - v1"
   ]
  },
  {
   "cell_type": "code",
   "execution_count": null,
   "id": "25851abd-429b-4aee-8e02-a2cefdb5f951",
   "metadata": {},
   "outputs": [],
   "source": [
    "# since we didn't explicitly implement `__isub__` either this actually works...\n",
    "# that's because if `__isub__` is not implemented, python tries to do an explicit `v1 = v1 - v1_simple` here\n",
    "\n",
    "v1 -= v1_simple\n",
    "v1"
   ]
  },
  {
   "cell_type": "code",
   "execution_count": null,
   "id": "d41d28a0-2df1-40d1-ada8-72a0c1351a4f",
   "metadata": {},
   "outputs": [],
   "source": [
    "# multiplication by a scalar yields another vector\n",
    "v2 * 5"
   ]
  },
  {
   "cell_type": "code",
   "execution_count": null,
   "id": "656f5cab-8573-4752-a457-092fc49f1adc",
   "metadata": {},
   "outputs": [],
   "source": [
    "# but multiplication of two vectors is here interpreted as inner product and yields a scalar\n",
    "v3 * v2"
   ]
  },
  {
   "cell_type": "code",
   "execution_count": null,
   "id": "00264df0-359c-44b4-ac6a-84cb7e7c9e8e",
   "metadata": {},
   "outputs": [],
   "source": [
    "v1 = Vector2D(3, 5)\n",
    "v2 = Vector2D(0, 0)\n",
    "\n",
    "if v1:\n",
    "    print('v1 is truthy')\n",
    "else:\n",
    "    print('v1 is falsy')\n",
    "\n",
    "if v2:\n",
    "    print('v2 is truthy')\n",
    "else:\n",
    "    print('v2 is falsy')"
   ]
  },
  {
   "cell_type": "code",
   "execution_count": null,
   "id": "aba9cf10-361f-4b23-9e17-94bf34d18dd0",
   "metadata": {},
   "outputs": [],
   "source": [
    "print(f'{bool(v1)=}, {bool(v2)=}')"
   ]
  },
  {
   "cell_type": "code",
   "execution_count": null,
   "id": "b5716d32-6830-40d1-a8a8-b0e63ecfc58f",
   "metadata": {},
   "outputs": [],
   "source": [
    "v1 = Vector2D(3, 5)\n",
    "v2 = Vector2D(0, 0)\n",
    "v3 = Vector2D(3, 5)\n",
    "v4 = Vector2D(5, 3)"
   ]
  },
  {
   "cell_type": "code",
   "execution_count": null,
   "id": "0f4e37b8-78b1-4690-9249-ec11517492ea",
   "metadata": {},
   "outputs": [],
   "source": [
    "my_set = set([v1, v2, v3, v4])\n",
    "my_set"
   ]
  },
  {
   "cell_type": "code",
   "execution_count": null,
   "id": "17994cd3-c837-4642-8ceb-2ab58f0f2be4",
   "metadata": {},
   "outputs": [],
   "source": [
    "# of course if you secretly do change the value things break\n",
    "print(f'{(v2 in my_set)=}')\n",
    "v2._SimpleVector2D__x = 1\n",
    "print(f'{(v2 in my_set)=}')"
   ]
  },
  {
   "cell_type": "code",
   "execution_count": null,
   "id": "b2b5710c-3d4d-4186-aff7-6ddd57cfe485",
   "metadata": {},
   "outputs": [],
   "source": [
    "my_set"
   ]
  },
  {
   "cell_type": "markdown",
   "id": "158f02e1-0319-4b9e-8c53-d6b0a708ef76",
   "metadata": {},
   "source": [
    "#### Overview: Special methods for classes:\n",
    "- **instance creation and destruction**\n",
    "  - `__init__`: instance constructor, shown above\n",
    "  - `__del__`: instance destructor\n",
    "  - `__new__`: called before new instance is created, should return the instance; \n",
    "- **str/bytes representation**\n",
    "  - `__repr__`: compute 'official' string representation; should look like a valid Python expression that could be used to recreate an object with the same values.\n",
    "  - `__str__`: 'informal' or nicely printable string representation of an object. The return value must be a string object.\n",
    "  - `__bytes__`: compute a byte-string representation of an object. This should return a bytes object.\n",
    "  - `__format__`: Called by the format() built-in, and by extension, evaluation of f-strings to produce a 'formatted' string representation of an object\n",
    "- **comparison operators**\n",
    "  - `__lt__` (<), `__le__` (<=), `__eq__` (==), `__ge__` (>=), `__gt__` (>), `__ne__` (!=): 'rich comparison' operators; should return `True` or `False`;\n",
    "- **hash calculation**\n",
    "  - implemented by defining the `__hash__`-method, should return an integer\n",
    "  - equal hashes /must/ imply objects compare equal (but not vice versa)\n",
    "  - if `__eq__` is not defined you also should not define `__hash__`\n",
    "  - recommendation: stick all relevant attributes into a tuple and calculate the hash of the tuple\n",
    "  - only for 'immutable' objects; if the values can change lookups in dicts/sets can break\n",
    "- **type conversions**\n",
    "  - `__bool__`: conversion to bool, should return `True` or `False`; default behaviour: the object is considered truthy if len(object) != 0; If neither is defined all instances are considered truthy.\n",
    "  - `__int__`, `__float__`, `__complex__`: conversion to the appropriate types if defined\n",
    "  - `__index__`: e.g. when the object should be used for slicing\n",
    "- **unary math**:\n",
    "  - `__neg__` (-), `__pos__` (+), `__abs__` (abs), \n",
    "- **arithmetic**:\n",
    "  - `__add__` (+), `__sub__` (-), `__mul__` (*), `__truediv__` (/), `__floordiv__` (//), `__mod__` (%), `__divmod__` (divmod), `__pow__` (**): 'normal' arithmetic\n",
    "  - `__radd__` (+), `__rsub__` (-), `__rmul__` (*), `__rtruediv__` (/), `__rfloordiv__` (//), `__rmod__` (%), `__rdivmod__` (divmod), `__rpow__` (**): 'right/reversed' arithmetic, if normal is `NotImplemented`\n",
    "  - `__iadd__` (+), `__isub__` (-), `__imul__` (*), `__itruediv__` (/), `__ifloordiv__` (//), `__imod__` (%), `__ipow__` (**): in-place modification\n",
    "  - `__round__` (round), `__trunc__` (math.trunc), `__floor__` (math.floor), `__ceil__` (math.ceil): precision changes\n",
    "- **bitwise operators**:\n",
    "  -  `__invert__` (~): unary operators\n",
    "  -  `__lshift__` (<<), `__rshift__` (>>), `__and__` (&), `__or__` (|), `__xor__` (^): normal binary operators\n",
    "  -  `__rlshift__` (<<), `__rrshift__` (>>), `__rand__` (&), `__ror__` (|), `__rxor__` (^): 'right/reversed' binary operators, if normal is `NotImplemented`\n",
    "  -  `__ilshift__` (<<), `__irshift__` (>>), `__iand__` (&), `__ior__` (|), `__ixor__` (^): in-place binary operators"
   ]
  },
  {
   "cell_type": "markdown",
   "id": "4cb816d3-05d5-4524-9117-6187d6d301d3",
   "metadata": {},
   "source": [
    "- **Containers**:\n",
    "  - `__len__`: return the number of elements in the container, used by builting `len`\n",
    "  - `__getitem__`: used to implement `[]` with index/slice (sequence-like) or key (mapping-like)\n",
    "  - `__setitem__`: element modification, otherwise as above\n",
    "  - `__delitem__`: used to implement `del object[key]`, otherwise as above\n",
    "  - `__iter__`, `__reversed__`: used to iterate over the elements in the container (eg by `for element in object`). Implement `reversed` only if your implementation is more efficient that backwards iteration.\n",
    "  - `__contains__`: for tests like `element in container` if those can be implemented more efficiently than by iteration over all elements\n",
    "\n",
    "- **emulating callables**:\n",
    "  - `__call__`: makes instance objects callable as functions\n",
    "\n",
    "- **context management**:\n",
    "  - `__enter__`, `__exit__`: used to implement `with` blocks (discussed last week)\n",
    "- **attribute access**:\n",
    "  - `__getattribute__`: Called unconditionally to implement attribute accesses for instances of the class.\n",
    "  - `__getattr__`:  Called when the default attribute access fails with an AttributeError\n",
    "  - `__setattr__`: Called when an attribute assignment is attempted. Replaces the default behaviour (storing the value in the class dict)\n",
    "  - `__delattr__`: Like `__setattr__` except for deletion (`del object.attribute`)\n",
    "  - `__dir__`: Called when dir() is called on the object. A sequence must be returned. dir() converts the returned sequence to a list and sorts it."
   ]
  },
  {
   "cell_type": "markdown",
   "id": "4c5e31c8-4b63-4850-9aee-4d9139136afa",
   "metadata": {
    "jp-MarkdownHeadingCollapsed": true
   },
   "source": [
    "### Subclassing built-in types can be tricky\n",
    "- there are problems when subclassing built-in classes where method delegation is implemented in C for the CPython interpeter\n",
    "- special classes exist which should be used instead\n",
    "- This /is/ implementation-dependent, and looks differently if using eg PyPy."
   ]
  },
  {
   "cell_type": "code",
   "execution_count": null,
   "id": "f8919f69-0ff6-46e2-b0c8-9ca59e1bb000",
   "metadata": {},
   "outputs": [],
   "source": [
    "class DoubleDict(dict):\n",
    "    def __setitem__(self, key, value):\n",
    "        super().__setitem__(key, [value]*2)"
   ]
  },
  {
   "cell_type": "code",
   "execution_count": null,
   "id": "588a79a4-39aa-4ff8-bac3-d774e7e30e44",
   "metadata": {},
   "outputs": [],
   "source": [
    "dd = DoubleDict(one=1)\n",
    "dd['two'] = 2\n",
    "dd.update(three=3)"
   ]
  },
  {
   "cell_type": "code",
   "execution_count": null,
   "id": "250b2422-0fa8-4d37-9c0d-4bb661ef9e7e",
   "metadata": {},
   "outputs": [],
   "source": [
    "dd  # whut?!"
   ]
  },
  {
   "cell_type": "code",
   "execution_count": null,
   "id": "ec8b70fe-326e-4c95-995b-603a174b2ee3",
   "metadata": {},
   "outputs": [],
   "source": [
    "from collections import UserDict\n",
    "class DoubleDict(UserDict):\n",
    "    def __setitem__(self, key, value):\n",
    "        super().__setitem__(key, [value]*2)"
   ]
  },
  {
   "cell_type": "code",
   "execution_count": null,
   "id": "4fddda8f-4c01-4430-aed1-c3d2d79f87d7",
   "metadata": {},
   "outputs": [],
   "source": [
    "dd = DoubleDict(one=1)\n",
    "dd['two'] = 2\n",
    "dd.update(three=3)"
   ]
  },
  {
   "cell_type": "code",
   "execution_count": null,
   "id": "5bd0285e-af0a-48e8-9ec1-f13ed7b82adc",
   "metadata": {},
   "outputs": [],
   "source": [
    "dd"
   ]
  },
  {
   "cell_type": "markdown",
   "id": "1713245d-b1f7-462b-bd0e-55aff3583905",
   "metadata": {
    "jp-MarkdownHeadingCollapsed": true
   },
   "source": [
    "## Some general advice on classes and object oriented programming"
   ]
  },
  {
   "cell_type": "markdown",
   "id": "34f0deec-beb7-45d2-a041-6fc075acbb03",
   "metadata": {},
   "source": [
    "### Interfaces\n",
    "- An interface is a definition of a set of methods and functionality that must be supported by a class\n",
    "- A class is said to 'implement' an interface if it supports all required methods/attributes\n",
    "- In Python there are no explicit interfaces\n",
    "- And you shouldn't worry too much about them anyways, just ducktyping is the Python way.\n",
    "- If you do want to worry about interfaces look at Abstract Base Classes (abc) -- next week"
   ]
  },
  {
   "cell_type": "markdown",
   "id": "353115d9-ab84-4c70-80f4-23be92bc8dd3",
   "metadata": {
    "jp-MarkdownHeadingCollapsed": true
   },
   "source": [
    "### Mixins\n",
    "- A mixin is a class that is 'designed to provide method implementations for reuse by multiple **unrelated** subclasses without implying an \"is-a\" relationship.\n",
    "- That means it is **not** designed to be a generalization of it's subclasses\n",
    "- Does not define a new 'object', just bundles methods for re-use.\n",
    "- A mixin should never be instantiated directly\n",
    "- Concrete Classes should never inherit **only** from a mixin\n",
    "- Each mixin should provide a single specific behaviour\n",
    "- There is no (syntatic) way to indentify mixins. Instead you should name any such class with a name ending on `Mixin`"
   ]
  },
  {
   "cell_type": "markdown",
   "id": "49560fd3-c903-445e-aa61-eec6c12e6ab4",
   "metadata": {
    "jp-MarkdownHeadingCollapsed": true
   },
   "source": [
    "# Inheritance\n",
    "- Don't subclass from more than one concrete class. If your class is inheriting from one concrete class already, all other ancestors should be Mixins\n",
    "- If you are writing complex class hierarchies (without being the developer of some big framework) you are probably over-engineering. Keep it simple.\n",
    "- Favour composition over inheritance. It often makes more sense to hold a reference to an instance of some other class in one of your instance attributes.\n",
    "  Only subclass if your object really **is** a specialization of the superclass."
   ]
  }
 ],
 "metadata": {
  "kernelspec": {
   "display_name": "dhbw",
   "language": "python",
   "name": "dhbw"
  },
  "language_info": {
   "codemirror_mode": {
    "name": "ipython",
    "version": 3
   },
   "file_extension": ".py",
   "mimetype": "text/x-python",
   "name": "python",
   "nbconvert_exporter": "python",
   "pygments_lexer": "ipython3",
   "version": "3.14.0"
  }
 },
 "nbformat": 4,
 "nbformat_minor": 5
}
